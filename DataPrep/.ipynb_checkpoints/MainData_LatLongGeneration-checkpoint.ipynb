{
 "cells": [
  {
   "cell_type": "code",
   "execution_count": 1,
   "metadata": {},
   "outputs": [],
   "source": [
    "import numpy as np\n",
    "import pandas as pd\n",
    "import wbgapi as wb\n",
    "import sklearn.preprocessing\n",
    "from pandas import DataFrame\n",
    "from geopy.exc import GeocoderTimedOut\n",
    "from geopy.geocoders import Nominatim"
   ]
  },
  {
   "cell_type": "code",
   "execution_count": 2,
   "metadata": {},
   "outputs": [],
   "source": [
    "# Import OECD-data from CSV-files\n",
    "\n",
    "#Metropolitan-based data\n",
    "oecd_data1 = pd.read_csv('Data/CITIES_POPULATION.csv', sep=\"|\", header=0)\n",
    "oecd_data2 = pd.read_csv('Data/CITIES_AGE.csv', sep=\"|\", header=0)\n",
    "oecd_data3 = pd.read_csv('Data/CITIES_ECONOMY.csv', sep=\"|\", header=0)\n",
    "oecd_data4 = pd.read_csv('Data/CITIES_LABOUR.csv', sep=\"|\", header=0)\n",
    "oecd_data5 = pd.read_csv('Data/CITIES_TERRITORY.csv', sep=\"|\", header=0)\n",
    "oecd_data6 = pd.read_csv('DATA/CITIES_ENVIRONMENT.csv', sep=\"|\", header=0)"
   ]
  },
  {
   "cell_type": "code",
   "execution_count": 3,
   "metadata": {},
   "outputs": [],
   "source": [
    "# Put all OECD-data into dataframe and append all dataframes\n",
    "oecd_data_df = [oecd_data1, oecd_data2, oecd_data3, oecd_data4, oecd_data5, oecd_data6]\n",
    "# Call concat method\n",
    "oecd_df = pd.concat(oecd_data_df)"
   ]
  },
  {
   "cell_type": "code",
   "execution_count": 6,
   "metadata": {},
   "outputs": [],
   "source": [
    "# create a dictionary where key = old name and value = new name\n",
    "dict = {'METRO_ID': 'metroId',\n",
    "        'Metropolitan areas': 'metropolitanAreas',\n",
    "        'VAR': 'var',\n",
    "       'Variables' : 'variables',\n",
    "        'TIME' : 'time',\n",
    "        'Year' : 'year',\n",
    "        'Unit Code': 'unitCode',\n",
    "        'Unit' : 'unit',\n",
    "        'PowerCode Code' : 'powerCodeCode',\n",
    "        'PowerCode': 'powerCode',\n",
    "        'Reference Period Code' : 'referencePeriodCode',\n",
    "        'Reference Period' : 'referencePeriod',\n",
    "        'Value':'value',\n",
    "        'Flag Codes' : 'flagCodes',\n",
    "        'Flags': 'flags'\n",
    "       }\n",
    "  \n",
    "# call rename () method\n",
    "oecd_df.rename(columns=dict,\n",
    "          inplace=True)"
   ]
  },
  {
   "cell_type": "code",
   "execution_count": 7,
   "metadata": {},
   "outputs": [
    {
     "data": {
      "text/plain": [
       "665"
      ]
     },
     "execution_count": 7,
     "metadata": {},
     "output_type": "execute_result"
    }
   ],
   "source": [
    "# The length of the list is determined first, to determine which function to apply\n",
    "len(oecd_df['metropolitanAreas'].unique().tolist())"
   ]
  },
  {
   "cell_type": "code",
   "execution_count": 8,
   "metadata": {},
   "outputs": [
    {
     "data": {
      "text/html": [
       "<div>\n",
       "<style scoped>\n",
       "    .dataframe tbody tr th:only-of-type {\n",
       "        vertical-align: middle;\n",
       "    }\n",
       "\n",
       "    .dataframe tbody tr th {\n",
       "        vertical-align: top;\n",
       "    }\n",
       "\n",
       "    .dataframe thead th {\n",
       "        text-align: right;\n",
       "    }\n",
       "</style>\n",
       "<table border=\"1\" class=\"dataframe\">\n",
       "  <thead>\n",
       "    <tr style=\"text-align: right;\">\n",
       "      <th></th>\n",
       "      <th>metropolitanAreas</th>\n",
       "    </tr>\n",
       "  </thead>\n",
       "  <tbody>\n",
       "    <tr>\n",
       "      <th>0</th>\n",
       "      <td>Allen</td>\n",
       "    </tr>\n",
       "    <tr>\n",
       "      <th>1</th>\n",
       "      <td>Warsaw</td>\n",
       "    </tr>\n",
       "    <tr>\n",
       "      <th>2</th>\n",
       "      <td>Kagoshima</td>\n",
       "    </tr>\n",
       "    <tr>\n",
       "      <th>3</th>\n",
       "      <td>Mexicali</td>\n",
       "    </tr>\n",
       "    <tr>\n",
       "      <th>4</th>\n",
       "      <td>Leicester</td>\n",
       "    </tr>\n",
       "    <tr>\n",
       "      <th>...</th>\n",
       "      <td>...</td>\n",
       "    </tr>\n",
       "    <tr>\n",
       "      <th>660</th>\n",
       "      <td>Cass</td>\n",
       "    </tr>\n",
       "    <tr>\n",
       "      <th>661</th>\n",
       "      <td>Carmen</td>\n",
       "    </tr>\n",
       "    <tr>\n",
       "      <th>662</th>\n",
       "      <td>Linn</td>\n",
       "    </tr>\n",
       "    <tr>\n",
       "      <th>663</th>\n",
       "      <td>Lafayette (IN)</td>\n",
       "    </tr>\n",
       "    <tr>\n",
       "      <th>664</th>\n",
       "      <td>Weber</td>\n",
       "    </tr>\n",
       "  </tbody>\n",
       "</table>\n",
       "<p>665 rows × 1 columns</p>\n",
       "</div>"
      ],
      "text/plain": [
       "    metropolitanAreas\n",
       "0               Allen\n",
       "1              Warsaw\n",
       "2           Kagoshima\n",
       "3            Mexicali\n",
       "4           Leicester\n",
       "..                ...\n",
       "660              Cass\n",
       "661            Carmen\n",
       "662              Linn\n",
       "663    Lafayette (IN)\n",
       "664             Weber\n",
       "\n",
       "[665 rows x 1 columns]"
      ]
     },
     "execution_count": 8,
     "metadata": {},
     "output_type": "execute_result"
    }
   ],
   "source": [
    "# Assign the list to a variable\n",
    "metro_list= oecd_df['metropolitanAreas'].unique().tolist()\n",
    "# Convert the list into a dataframe\n",
    "df_metropolitan=DataFrame (metro_list, columns=['metropolitanAreas'] )\n",
    "# Check the dataframe\n",
    "df_metropolitan"
   ]
  },
  {
   "cell_type": "code",
   "execution_count": 9,
   "metadata": {},
   "outputs": [],
   "source": [
    "# use function to find the coordinate of a given metropolitanArea\n",
    "def findGeocode(city):\n",
    "\n",
    "    # try and catch is used to overcome the exception thrown by geolocator using geocodertimedout\n",
    "    try:\n",
    "        # Specify the user_agent as app name: this is my (Arabella) local address\n",
    "        geolocator = Nominatim(user_agent=\"185.18.149.47\") \n",
    "        return geolocator.geocode(city)\n",
    "    except GeocoderTimedOut:\n",
    "        return findGeocode(city)\n",
    "    except:\n",
    "        return findGeocode(city)"
   ]
  },
  {
   "cell_type": "code",
   "execution_count": null,
   "metadata": {},
   "outputs": [],
   "source": [
    "# declare an empty list to store latitude and longitude of values of the metropolitanAreas column\n",
    "longitude = []\n",
    "latitude = []\n",
    "\n",
    "# each value from city column will be fetched and sent to function find_geocode\n",
    "for i in (df_metropolitan[\"metropolitanAreas\"]):\n",
    "\n",
    "    if findGeocode(i) != None:\n",
    "\n",
    "        loc = findGeocode(i)\n",
    "\n",
    "        # coordinates returned from function is stored into two separate list\n",
    "        latitude.append(loc.latitude)\n",
    "        longitude.append(loc.longitude)\n",
    "\n",
    "    # if coordinate for a city not found, insert \"NaN\" indicating missing value\n",
    "    else:\n",
    "        latitude.append(np.nan)\n",
    "        longitude.append(np.nan)"
   ]
  },
  {
   "cell_type": "code",
   "execution_count": null,
   "metadata": {},
   "outputs": [],
   "source": [
    "# now add each column to dataframe\n",
    "df_metropolitan[\"longitude\"] = longitude\n",
    "df_metropolitan[\"latitude\"] = latitude"
   ]
  },
  {
   "cell_type": "code",
   "execution_count": null,
   "metadata": {},
   "outputs": [],
   "source": [
    "df_metropolitan.to_csv('Data/OECD_COORD.csv', header=\"True\", sep=\"|\", doublequote=True)"
   ]
  }
 ],
 "metadata": {
  "kernelspec": {
   "display_name": "Python 3",
   "language": "python",
   "name": "python3"
  },
  "language_info": {
   "codemirror_mode": {
    "name": "ipython",
    "version": 3
   },
   "file_extension": ".py",
   "mimetype": "text/x-python",
   "name": "python",
   "nbconvert_exporter": "python",
   "pygments_lexer": "ipython3",
   "version": "3.8.5"
  }
 },
 "nbformat": 4,
 "nbformat_minor": 4
}
