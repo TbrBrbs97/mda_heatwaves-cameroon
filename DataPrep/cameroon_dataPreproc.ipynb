{
 "cells": [
  {
   "cell_type": "markdown",
   "id": "ad07bdde",
   "metadata": {},
   "source": [
    "# Import packages"
   ]
  },
  {
   "cell_type": "code",
   "execution_count": 5,
   "id": "56c9fa61",
   "metadata": {},
   "outputs": [],
   "source": [
    "import numpy as np\n",
    "import pandas as pd\n",
    "from pandas import DataFrame\n",
    "from geopy.exc import GeocoderTimedOut\n",
    "from geopy.geocoders import Nominatim"
   ]
  },
  {
   "cell_type": "markdown",
   "id": "98054336",
   "metadata": {},
   "source": [
    "# Import  and merge data from oecd-files "
   ]
  },
  {
   "cell_type": "code",
   "execution_count": 9,
   "id": "ab418ef1",
   "metadata": {},
   "outputs": [],
   "source": [
    "# Import OECD-data from CSV-files\n",
    "oecd_data1 = pd.read_csv('Data/CITIES_POPULATION.csv', sep=\"|\", header=0)\n",
    "oecd_data2 = pd.read_csv('Data/CITIES_AGE.csv', sep=\"|\", header=0)\n",
    "oecd_data3 = pd.read_csv('Data/CITIES_ECONOMY.csv', sep=\"|\", header=0)\n",
    "oecd_data4 = pd.read_csv('Data/CITIES_LABOUR.csv', sep=\"|\", header=0)\n",
    "oecd_data5 = pd.read_csv('Data/CITIES_TERRITORY.csv', sep=\"|\", header=0)\n",
    "oecd_data6 = pd.read_csv('DATA/CITIES_ENVIRONMENT.csv', sep=\"|\", header=0)"
   ]
  },
  {
   "cell_type": "code",
   "execution_count": 15,
   "id": "3d379db3",
   "metadata": {},
   "outputs": [],
   "source": [
    "# Put all OECD-data into dataframe and append all dataframes\n",
    "oecd_data_df = [oecd_data1, oecd_data2, oecd_data3, oecd_data4, oecd_data5, oecd_data6]\n",
    "# Call concat method\n",
    "oecd_df = pd.concat(oecd_data_df)"
   ]
  },
  {
   "cell_type": "code",
   "execution_count": 13,
   "id": "25edaf66",
   "metadata": {},
   "outputs": [],
   "source": [
    "# TEMPORARY: visualize the results\n",
    "oecd_df"
   ]
  },
  {
   "cell_type": "markdown",
   "id": "eaf50ae9",
   "metadata": {},
   "source": [
    "## Rename columnames"
   ]
  },
  {
   "cell_type": "code",
   "execution_count": 16,
   "id": "181521cf",
   "metadata": {},
   "outputs": [],
   "source": [
    "# create a dictionary where key = old name and value = new name\n",
    "dict = {'METRO_ID': 'metroId',\n",
    "        'Metropolitan areas': 'metropolitanAreas',\n",
    "        'VAR': 'var',\n",
    "       'Variables' : 'variables',\n",
    "        'TIME' : 'time',\n",
    "        'Year' : 'year',\n",
    "        'Unit Code': 'unitCode',\n",
    "        'Unit' : 'unit',\n",
    "        'PowerCode Code' : 'powerCodeCode',\n",
    "        'PowerCode': 'powerCode',\n",
    "        'Reference Period Code' : 'referencePeriodCode',\n",
    "        'Reference Period' : 'referencePeriod',\n",
    "        'Value':'value',\n",
    "        'Flag Codes' : 'flagCodes',\n",
    "        'Flags': 'flags'\n",
    "       }\n",
    "  \n",
    "# call rename () method\n",
    "oecd_df.rename(columns=dict,\n",
    "          inplace=True)"
   ]
  },
  {
   "cell_type": "code",
   "execution_count": 17,
   "id": "86bc491a",
   "metadata": {},
   "outputs": [
    {
     "name": "stdout",
     "output_type": "stream",
     "text": [
      "<class 'pandas.core.frame.DataFrame'>\n",
      "Int64Index: 586301 entries, 0 to 110607\n",
      "Data columns (total 15 columns):\n",
      " #   Column               Non-Null Count   Dtype  \n",
      "---  ------               --------------   -----  \n",
      " 0   metroId              586301 non-null  object \n",
      " 1   metropolitanAreas    586301 non-null  object \n",
      " 2   var                  586301 non-null  object \n",
      " 3   variables            586301 non-null  object \n",
      " 4   time                 586301 non-null  int64  \n",
      " 5   year                 586301 non-null  int64  \n",
      " 6   unitCode             138868 non-null  object \n",
      " 7   unit                 138868 non-null  object \n",
      " 8   powerCodeCode        586301 non-null  int64  \n",
      " 9   powerCode            586301 non-null  object \n",
      " 10  referencePeriodCode  0 non-null       float64\n",
      " 11  referencePeriod      0 non-null       float64\n",
      " 12  value                584753 non-null  float64\n",
      " 13  flagCodes            29450 non-null   object \n",
      " 14  flags                29450 non-null   object \n",
      "dtypes: float64(3), int64(3), object(9)\n",
      "memory usage: 71.6+ MB\n",
      "None\n"
     ]
    }
   ],
   "source": [
    "# Checking the data\n",
    "print(oecd_df.info())"
   ]
  },
  {
   "cell_type": "markdown",
   "id": "b4594cea",
   "metadata": {},
   "source": [
    "# Add longitude and latitude to join data\n",
    "Strings that represent metropolitan areas are often different, which makes it difficult to join data from different sources. For example, \"Lafayette (IN)\" and \"Lafayette, IN\" and \"Lafayette\". Therefore, longitude and latitude are added as a unique identifier to join data.\n",
    "## Create unique list of metropolitans from dataframe"
   ]
  },
  {
   "cell_type": "code",
   "execution_count": 18,
   "id": "7818f647",
   "metadata": {},
   "outputs": [
    {
     "data": {
      "text/plain": [
       "665"
      ]
     },
     "execution_count": 18,
     "metadata": {},
     "output_type": "execute_result"
    }
   ],
   "source": [
    "# The length of the list is determined first, to determine which function to apply\n",
    "len(oecd_df['metropolitanAreas'].unique().tolist())"
   ]
  },
  {
   "cell_type": "code",
   "execution_count": 19,
   "id": "55ad99a4",
   "metadata": {},
   "outputs": [
    {
     "data": {
      "text/html": [
       "<div>\n",
       "<style scoped>\n",
       "    .dataframe tbody tr th:only-of-type {\n",
       "        vertical-align: middle;\n",
       "    }\n",
       "\n",
       "    .dataframe tbody tr th {\n",
       "        vertical-align: top;\n",
       "    }\n",
       "\n",
       "    .dataframe thead th {\n",
       "        text-align: right;\n",
       "    }\n",
       "</style>\n",
       "<table border=\"1\" class=\"dataframe\">\n",
       "  <thead>\n",
       "    <tr style=\"text-align: right;\">\n",
       "      <th></th>\n",
       "      <th>metropolitanAreas</th>\n",
       "    </tr>\n",
       "  </thead>\n",
       "  <tbody>\n",
       "    <tr>\n",
       "      <th>0</th>\n",
       "      <td>Allen</td>\n",
       "    </tr>\n",
       "    <tr>\n",
       "      <th>1</th>\n",
       "      <td>Warsaw</td>\n",
       "    </tr>\n",
       "    <tr>\n",
       "      <th>2</th>\n",
       "      <td>Kagoshima</td>\n",
       "    </tr>\n",
       "    <tr>\n",
       "      <th>3</th>\n",
       "      <td>Mexicali</td>\n",
       "    </tr>\n",
       "    <tr>\n",
       "      <th>4</th>\n",
       "      <td>Leicester</td>\n",
       "    </tr>\n",
       "    <tr>\n",
       "      <th>...</th>\n",
       "      <td>...</td>\n",
       "    </tr>\n",
       "    <tr>\n",
       "      <th>660</th>\n",
       "      <td>Cass</td>\n",
       "    </tr>\n",
       "    <tr>\n",
       "      <th>661</th>\n",
       "      <td>Carmen</td>\n",
       "    </tr>\n",
       "    <tr>\n",
       "      <th>662</th>\n",
       "      <td>Linn</td>\n",
       "    </tr>\n",
       "    <tr>\n",
       "      <th>663</th>\n",
       "      <td>Lafayette (IN)</td>\n",
       "    </tr>\n",
       "    <tr>\n",
       "      <th>664</th>\n",
       "      <td>Weber</td>\n",
       "    </tr>\n",
       "  </tbody>\n",
       "</table>\n",
       "<p>665 rows × 1 columns</p>\n",
       "</div>"
      ],
      "text/plain": [
       "    metropolitanAreas\n",
       "0               Allen\n",
       "1              Warsaw\n",
       "2           Kagoshima\n",
       "3            Mexicali\n",
       "4           Leicester\n",
       "..                ...\n",
       "660              Cass\n",
       "661            Carmen\n",
       "662              Linn\n",
       "663    Lafayette (IN)\n",
       "664             Weber\n",
       "\n",
       "[665 rows x 1 columns]"
      ]
     },
     "execution_count": 19,
     "metadata": {},
     "output_type": "execute_result"
    }
   ],
   "source": [
    "# Assign the list to a variable\n",
    "metro_list= oecd_df['metropolitanAreas'].unique().tolist()\n",
    "# Convert the list into a dataframe\n",
    "df_metropolitan=DataFrame (metro_list, columns=['metropolitanAreas'] )\n",
    "# Check the dataframe\n",
    "df_metropolitan"
   ]
  },
  {
   "cell_type": "markdown",
   "id": "c48bfce1",
   "metadata": {},
   "source": [
    "## Add longitudes and latitudes to metropolitans"
   ]
  },
  {
   "cell_type": "code",
   "execution_count": 20,
   "id": "5928861e",
   "metadata": {},
   "outputs": [],
   "source": [
    "# declare an empty list to store latitude and longitude of values of the metropolitanAreas column\n",
    "longitude = []\n",
    "latitude = []\n",
    "\n",
    "# use function to find the coordinate of a given metropolitanArea\n",
    "def findGeocode(city):\n",
    "\n",
    "    # try and catch is used to overcome the exception thrown by geolocator using geocodertimedout\n",
    "    try:\n",
    "        # Specify the user_agent as app name: this is my (Arabella) local address\n",
    "        geolocator = Nominatim(user_agent=\"127.0.0.1:8888\") \n",
    "        return geolocator.geocode(city)\n",
    "    except GeocoderTimedOut:\n",
    "        return findGeocode(city)\n",
    "\n",
    "# each value from city column will be fetched and sent to function find_geocode\n",
    "for i in (df_metropolitan[\"metropolitanAreas\"]):\n",
    "\n",
    "    if findGeocode(i) != None:\n",
    "\n",
    "        loc = findGeocode(i)\n",
    "\n",
    "        # coordinates returned from function is stored into two separate list\n",
    "        latitude.append(loc.latitude)\n",
    "        longitude.append(loc.longitude)\n",
    "\n",
    "    # if coordinate for a city not found, insert \"NaN\" indicating missing value\n",
    "    else:\n",
    "        latitude.append(np.nan)\n",
    "        longitude.append(np.nan)"
   ]
  },
  {
   "cell_type": "code",
   "execution_count": 21,
   "id": "559f7c40",
   "metadata": {},
   "outputs": [],
   "source": [
    "# now add each column to dataframe\n",
    "df_metropolitan[\"longitude\"] = longitude\n",
    "df_metropolitan[\"latitude\"] = latitude"
   ]
  },
  {
   "cell_type": "code",
   "execution_count": 22,
   "id": "af923587",
   "metadata": {},
   "outputs": [
    {
     "data": {
      "text/html": [
       "<div>\n",
       "<style scoped>\n",
       "    .dataframe tbody tr th:only-of-type {\n",
       "        vertical-align: middle;\n",
       "    }\n",
       "\n",
       "    .dataframe tbody tr th {\n",
       "        vertical-align: top;\n",
       "    }\n",
       "\n",
       "    .dataframe thead th {\n",
       "        text-align: right;\n",
       "    }\n",
       "</style>\n",
       "<table border=\"1\" class=\"dataframe\">\n",
       "  <thead>\n",
       "    <tr style=\"text-align: right;\">\n",
       "      <th></th>\n",
       "      <th>metropolitanAreas</th>\n",
       "      <th>longitude</th>\n",
       "      <th>latitude</th>\n",
       "    </tr>\n",
       "  </thead>\n",
       "  <tbody>\n",
       "    <tr>\n",
       "      <th>0</th>\n",
       "      <td>Allen</td>\n",
       "      <td>-95.317021</td>\n",
       "      <td>37.888217</td>\n",
       "    </tr>\n",
       "    <tr>\n",
       "      <th>1</th>\n",
       "      <td>Warsaw</td>\n",
       "      <td>21.006725</td>\n",
       "      <td>52.231958</td>\n",
       "    </tr>\n",
       "    <tr>\n",
       "      <th>2</th>\n",
       "      <td>Kagoshima</td>\n",
       "      <td>130.547408</td>\n",
       "      <td>31.521587</td>\n",
       "    </tr>\n",
       "    <tr>\n",
       "      <th>3</th>\n",
       "      <td>Mexicali</td>\n",
       "      <td>-115.448325</td>\n",
       "      <td>32.624862</td>\n",
       "    </tr>\n",
       "    <tr>\n",
       "      <th>4</th>\n",
       "      <td>Leicester</td>\n",
       "      <td>-1.133079</td>\n",
       "      <td>52.636140</td>\n",
       "    </tr>\n",
       "    <tr>\n",
       "      <th>...</th>\n",
       "      <td>...</td>\n",
       "      <td>...</td>\n",
       "      <td>...</td>\n",
       "    </tr>\n",
       "    <tr>\n",
       "      <th>660</th>\n",
       "      <td>Cass</td>\n",
       "      <td>-94.351037</td>\n",
       "      <td>33.056086</td>\n",
       "    </tr>\n",
       "    <tr>\n",
       "      <th>661</th>\n",
       "      <td>Carmen</td>\n",
       "      <td>125.674482</td>\n",
       "      <td>7.375394</td>\n",
       "    </tr>\n",
       "    <tr>\n",
       "      <th>662</th>\n",
       "      <td>Linn</td>\n",
       "      <td>-91.603793</td>\n",
       "      <td>42.063183</td>\n",
       "    </tr>\n",
       "    <tr>\n",
       "      <th>663</th>\n",
       "      <td>Lafayette (IN)</td>\n",
       "      <td>-86.890423</td>\n",
       "      <td>40.403467</td>\n",
       "    </tr>\n",
       "    <tr>\n",
       "      <th>664</th>\n",
       "      <td>Weber</td>\n",
       "      <td>-111.886065</td>\n",
       "      <td>41.272804</td>\n",
       "    </tr>\n",
       "  </tbody>\n",
       "</table>\n",
       "<p>665 rows × 3 columns</p>\n",
       "</div>"
      ],
      "text/plain": [
       "    metropolitanAreas   longitude   latitude\n",
       "0               Allen  -95.317021  37.888217\n",
       "1              Warsaw   21.006725  52.231958\n",
       "2           Kagoshima  130.547408  31.521587\n",
       "3            Mexicali -115.448325  32.624862\n",
       "4           Leicester   -1.133079  52.636140\n",
       "..                ...         ...        ...\n",
       "660              Cass  -94.351037  33.056086\n",
       "661            Carmen  125.674482   7.375394\n",
       "662              Linn  -91.603793  42.063183\n",
       "663    Lafayette (IN)  -86.890423  40.403467\n",
       "664             Weber -111.886065  41.272804\n",
       "\n",
       "[665 rows x 3 columns]"
      ]
     },
     "execution_count": 22,
     "metadata": {},
     "output_type": "execute_result"
    }
   ],
   "source": [
    "df_metropolitan"
   ]
  },
  {
   "cell_type": "markdown",
   "id": "ed2e699b",
   "metadata": {},
   "source": [
    "# Merge and write to csv"
   ]
  },
  {
   "cell_type": "code",
   "execution_count": 30,
   "id": "31d24dce",
   "metadata": {},
   "outputs": [],
   "source": [
    "# merge the dataframes\n",
    "df_oecdCoord = pd.merge(oecd_df, df_metropolitan, on=\"metropolitanAreas\")\n",
    "\n",
    "# write the dataframe to csv\n",
    "df_oecdCoord.to_csv('Data/CITIES_ALL', header=\"True\", sep=\"|\", doublequote=True)\n"
   ]
  }
 ],
 "metadata": {
  "kernelspec": {
   "display_name": "Python 3",
   "language": "python",
   "name": "python3"
  },
  "language_info": {
   "codemirror_mode": {
    "name": "ipython",
    "version": 3
   },
   "file_extension": ".py",
   "mimetype": "text/x-python",
   "name": "python",
   "nbconvert_exporter": "python",
   "pygments_lexer": "ipython3",
   "version": "3.8.8"
  }
 },
 "nbformat": 4,
 "nbformat_minor": 5
}
