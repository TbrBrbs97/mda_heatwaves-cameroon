{
 "cells": [
  {
   "cell_type": "markdown",
   "metadata": {},
   "source": [
    "<b>Import packages and set working directory</b>"
   ]
  },
  {
   "cell_type": "code",
   "execution_count": 60,
   "metadata": {},
   "outputs": [],
   "source": [
    "import sys\n",
    "import os\n",
    "import numpy as np\n",
    "import statsmodels.formula.api as smf\n",
    "import statsmodels.tsa.api as smt\n",
    "import statsmodels.api as sm\n",
    "import scipy.stats as scs\n",
    "import scipy as scy\n",
    "import pandas as pd\n",
    "from time import time\n",
    "#from sklearn.feature_selection import SequentialFeatureSelector\n",
    "from sklearn.linear_model import LassoCV\n",
    "from sklearn import model_selection\n",
    "from sklearn.model_selection import RepeatedKFold\n",
    "from sklearn.decomposition import PCA\n",
    "from sklearn.impute import SimpleImputer\n",
    "from sklearn.compose import ColumnTransformer \n",
    "from sklearn.model_selection import train_test_split\n",
    "from sklearn.ensemble import RandomForestRegressor\n",
    "from sklearn.pipeline import Pipeline,FeatureUnion\n",
    "from sklearn.metrics import mean_squared_error,r2_score\n",
    "from sklearn.linear_model import LinearRegression\n",
    "from sklearn.linear_model import Ridge\n",
    "from sklearn.linear_model import Lasso\n",
    "from sklearn.svm import SVR\n",
    "from sklearn.ensemble import GradientBoostingRegressor\n",
    "import seaborn as sb\n",
    "import plotly.express as px\n",
    "import plotly.figure_factory as ff\n",
    "import matplotlib.pyplot as plt\n",
    "from sklearn.preprocessing import StandardScaler, RobustScaler\n",
    "from sklearn.pipeline import Pipeline\n",
    "from sklearn.model_selection import GridSearchCV\n",
    "from sklearn.cluster import KMeans\n",
    "%matplotlib inline"
   ]
  },
  {
   "cell_type": "markdown",
   "metadata": {},
   "source": [
    "<b> Get data and Explore</b>"
   ]
  },
  {
   "cell_type": "code",
   "execution_count": 33,
   "metadata": {},
   "outputs": [],
   "source": [
    "data_clean1 = pd.read_csv('DataPrep/MainData_NotScaled.csv', sep=\"|\", header=0)\n",
    "data_clean2 = pd.read_csv('DataPrep/MainData_NotScaled_OutliersRemoved.csv', sep=\"|\", header=0)"
   ]
  },
  {
   "cell_type": "code",
   "execution_count": 34,
   "metadata": {
    "scrolled": true
   },
   "outputs": [
    {
     "data": {
      "text/html": [
       "<div>\n",
       "<style scoped>\n",
       "    .dataframe tbody tr th:only-of-type {\n",
       "        vertical-align: middle;\n",
       "    }\n",
       "\n",
       "    .dataframe tbody tr th {\n",
       "        vertical-align: top;\n",
       "    }\n",
       "\n",
       "    .dataframe thead th {\n",
       "        text-align: right;\n",
       "    }\n",
       "</style>\n",
       "<table border=\"1\" class=\"dataframe\">\n",
       "  <thead>\n",
       "    <tr style=\"text-align: right;\">\n",
       "      <th></th>\n",
       "      <th>Unnamed: 0</th>\n",
       "      <th>metroId</th>\n",
       "      <th>metropolitanAreas</th>\n",
       "      <th>lat</th>\n",
       "      <th>long</th>\n",
       "      <th>CDD</th>\n",
       "      <th>URB_AREA</th>\n",
       "      <th>URB_AREA_CORE</th>\n",
       "      <th>FRAGMENTATION</th>\n",
       "      <th>POP_DEN</th>\n",
       "      <th>PWM_EX_CORE</th>\n",
       "      <th>T_Y0_14_SH_NAT</th>\n",
       "      <th>T_Y15_64_SH_NAT</th>\n",
       "      <th>T_Y65_MAX_SH_NAT</th>\n",
       "      <th>CONSTR_RAT</th>\n",
       "      <th>TREECOVER_SHARE_CORE</th>\n",
       "      <th>CITY_REL_ROADS</th>\n",
       "      <th>CITY_REL_WATER</th>\n",
       "      <th>CITY_EVAPOTRANS</th>\n",
       "    </tr>\n",
       "  </thead>\n",
       "  <tbody>\n",
       "    <tr>\n",
       "      <th>0</th>\n",
       "      <td>0</td>\n",
       "      <td>AT001</td>\n",
       "      <td>Vienna</td>\n",
       "      <td>48.208354</td>\n",
       "      <td>16.372504</td>\n",
       "      <td>23.0</td>\n",
       "      <td>858.0</td>\n",
       "      <td>222.0</td>\n",
       "      <td>12.4</td>\n",
       "      <td>293.0</td>\n",
       "      <td>14.9</td>\n",
       "      <td>33.1</td>\n",
       "      <td>33.3</td>\n",
       "      <td>32.2</td>\n",
       "      <td>0.089217</td>\n",
       "      <td>22.1</td>\n",
       "      <td>14.896327</td>\n",
       "      <td>0.095709</td>\n",
       "      <td>5.022936</td>\n",
       "    </tr>\n",
       "    <tr>\n",
       "      <th>1</th>\n",
       "      <td>1</td>\n",
       "      <td>AT002</td>\n",
       "      <td>Graz</td>\n",
       "      <td>47.070868</td>\n",
       "      <td>15.438279</td>\n",
       "      <td>2.0</td>\n",
       "      <td>248.0</td>\n",
       "      <td>59.0</td>\n",
       "      <td>16.3</td>\n",
       "      <td>202.0</td>\n",
       "      <td>17.7</td>\n",
       "      <td>7.0</td>\n",
       "      <td>7.5</td>\n",
       "      <td>7.1</td>\n",
       "      <td>0.080155</td>\n",
       "      <td>32.9</td>\n",
       "      <td>4.792476</td>\n",
       "      <td>0.030792</td>\n",
       "      <td>1.615989</td>\n",
       "    </tr>\n",
       "    <tr>\n",
       "      <th>2</th>\n",
       "      <td>2</td>\n",
       "      <td>AT003</td>\n",
       "      <td>Linz</td>\n",
       "      <td>48.305908</td>\n",
       "      <td>14.286198</td>\n",
       "      <td>2.0</td>\n",
       "      <td>189.0</td>\n",
       "      <td>43.0</td>\n",
       "      <td>22.6</td>\n",
       "      <td>175.0</td>\n",
       "      <td>15.3</td>\n",
       "      <td>7.6</td>\n",
       "      <td>7.3</td>\n",
       "      <td>7.0</td>\n",
       "      <td>0.053209</td>\n",
       "      <td>15.6</td>\n",
       "      <td>5.501898</td>\n",
       "      <td>0.035350</td>\n",
       "      <td>1.855201</td>\n",
       "    </tr>\n",
       "    <tr>\n",
       "      <th>3</th>\n",
       "      <td>3</td>\n",
       "      <td>AT004</td>\n",
       "      <td>Salzburg</td>\n",
       "      <td>47.798135</td>\n",
       "      <td>13.046481</td>\n",
       "      <td>1.0</td>\n",
       "      <td>97.0</td>\n",
       "      <td>28.0</td>\n",
       "      <td>15.9</td>\n",
       "      <td>232.0</td>\n",
       "      <td>12.3</td>\n",
       "      <td>4.3</td>\n",
       "      <td>4.2</td>\n",
       "      <td>4.1</td>\n",
       "      <td>0.062743</td>\n",
       "      <td>18.8</td>\n",
       "      <td>2.394689</td>\n",
       "      <td>0.015386</td>\n",
       "      <td>0.807472</td>\n",
       "    </tr>\n",
       "    <tr>\n",
       "      <th>4</th>\n",
       "      <td>4</td>\n",
       "      <td>AT005</td>\n",
       "      <td>Innsbruck</td>\n",
       "      <td>47.265430</td>\n",
       "      <td>11.392769</td>\n",
       "      <td>0.0</td>\n",
       "      <td>108.0</td>\n",
       "      <td>19.0</td>\n",
       "      <td>23.0</td>\n",
       "      <td>132.0</td>\n",
       "      <td>12.6</td>\n",
       "      <td>3.9</td>\n",
       "      <td>4.0</td>\n",
       "      <td>3.7</td>\n",
       "      <td>0.042671</td>\n",
       "      <td>56.4</td>\n",
       "      <td>3.920412</td>\n",
       "      <td>0.025189</td>\n",
       "      <td>1.321935</td>\n",
       "    </tr>\n",
       "  </tbody>\n",
       "</table>\n",
       "</div>"
      ],
      "text/plain": [
       "   Unnamed: 0 metroId metropolitanAreas        lat       long   CDD  URB_AREA  \\\n",
       "0           0   AT001            Vienna  48.208354  16.372504  23.0     858.0   \n",
       "1           1   AT002              Graz  47.070868  15.438279   2.0     248.0   \n",
       "2           2   AT003              Linz  48.305908  14.286198   2.0     189.0   \n",
       "3           3   AT004          Salzburg  47.798135  13.046481   1.0      97.0   \n",
       "4           4   AT005         Innsbruck  47.265430  11.392769   0.0     108.0   \n",
       "\n",
       "   URB_AREA_CORE  FRAGMENTATION  POP_DEN  PWM_EX_CORE  T_Y0_14_SH_NAT  \\\n",
       "0          222.0           12.4    293.0         14.9            33.1   \n",
       "1           59.0           16.3    202.0         17.7             7.0   \n",
       "2           43.0           22.6    175.0         15.3             7.6   \n",
       "3           28.0           15.9    232.0         12.3             4.3   \n",
       "4           19.0           23.0    132.0         12.6             3.9   \n",
       "\n",
       "   T_Y15_64_SH_NAT  T_Y65_MAX_SH_NAT  CONSTR_RAT  TREECOVER_SHARE_CORE  \\\n",
       "0             33.3              32.2    0.089217                  22.1   \n",
       "1              7.5               7.1    0.080155                  32.9   \n",
       "2              7.3               7.0    0.053209                  15.6   \n",
       "3              4.2               4.1    0.062743                  18.8   \n",
       "4              4.0               3.7    0.042671                  56.4   \n",
       "\n",
       "   CITY_REL_ROADS  CITY_REL_WATER  CITY_EVAPOTRANS  \n",
       "0       14.896327        0.095709         5.022936  \n",
       "1        4.792476        0.030792         1.615989  \n",
       "2        5.501898        0.035350         1.855201  \n",
       "3        2.394689        0.015386         0.807472  \n",
       "4        3.920412        0.025189         1.321935  "
      ]
     },
     "execution_count": 34,
     "metadata": {},
     "output_type": "execute_result"
    }
   ],
   "source": [
    "data_clean1.head()"
   ]
  },
  {
   "cell_type": "code",
   "execution_count": 35,
   "metadata": {},
   "outputs": [
    {
     "data": {
      "text/html": [
       "<div>\n",
       "<style scoped>\n",
       "    .dataframe tbody tr th:only-of-type {\n",
       "        vertical-align: middle;\n",
       "    }\n",
       "\n",
       "    .dataframe tbody tr th {\n",
       "        vertical-align: top;\n",
       "    }\n",
       "\n",
       "    .dataframe thead th {\n",
       "        text-align: right;\n",
       "    }\n",
       "</style>\n",
       "<table border=\"1\" class=\"dataframe\">\n",
       "  <thead>\n",
       "    <tr style=\"text-align: right;\">\n",
       "      <th></th>\n",
       "      <th>Unnamed: 0</th>\n",
       "      <th>metroId</th>\n",
       "      <th>metropolitanAreas</th>\n",
       "      <th>lat</th>\n",
       "      <th>long</th>\n",
       "      <th>CDD</th>\n",
       "      <th>URB_AREA</th>\n",
       "      <th>URB_AREA_CORE</th>\n",
       "      <th>FRAGMENTATION</th>\n",
       "      <th>POP_DEN</th>\n",
       "      <th>PWM_EX_CORE</th>\n",
       "      <th>T_Y0_14_SH_NAT</th>\n",
       "      <th>T_Y15_64_SH_NAT</th>\n",
       "      <th>T_Y65_MAX_SH_NAT</th>\n",
       "      <th>CONSTR_RAT</th>\n",
       "      <th>TREECOVER_SHARE_CORE</th>\n",
       "      <th>CITY_REL_ROADS</th>\n",
       "      <th>CITY_REL_WATER</th>\n",
       "      <th>CITY_EVAPOTRANS</th>\n",
       "    </tr>\n",
       "  </thead>\n",
       "  <tbody>\n",
       "    <tr>\n",
       "      <th>0</th>\n",
       "      <td>11</td>\n",
       "      <td>AUS06</td>\n",
       "      <td>Gold Coast</td>\n",
       "      <td>-28.002373</td>\n",
       "      <td>153.414599</td>\n",
       "      <td>169.0</td>\n",
       "      <td>314.0</td>\n",
       "      <td>137.0</td>\n",
       "      <td>8.5</td>\n",
       "      <td>303.0</td>\n",
       "      <td>5.7</td>\n",
       "      <td>2.3</td>\n",
       "      <td>2.4</td>\n",
       "      <td>2.5</td>\n",
       "      <td>0.168545</td>\n",
       "      <td>24.5</td>\n",
       "      <td>0.002664</td>\n",
       "      <td>0.000040</td>\n",
       "      <td>0.760102</td>\n",
       "    </tr>\n",
       "    <tr>\n",
       "      <th>1</th>\n",
       "      <td>13</td>\n",
       "      <td>AUS08</td>\n",
       "      <td>Newcastle</td>\n",
       "      <td>54.973847</td>\n",
       "      <td>-1.613157</td>\n",
       "      <td>115.0</td>\n",
       "      <td>284.0</td>\n",
       "      <td>137.0</td>\n",
       "      <td>8.2</td>\n",
       "      <td>284.0</td>\n",
       "      <td>7.4</td>\n",
       "      <td>1.9</td>\n",
       "      <td>1.9</td>\n",
       "      <td>2.2</td>\n",
       "      <td>0.179633</td>\n",
       "      <td>34.7</td>\n",
       "      <td>0.002261</td>\n",
       "      <td>0.000034</td>\n",
       "      <td>0.645046</td>\n",
       "    </tr>\n",
       "    <tr>\n",
       "      <th>2</th>\n",
       "      <td>14</td>\n",
       "      <td>AUS10</td>\n",
       "      <td>Wollongong</td>\n",
       "      <td>-34.424394</td>\n",
       "      <td>150.893850</td>\n",
       "      <td>24.0</td>\n",
       "      <td>127.0</td>\n",
       "      <td>52.0</td>\n",
       "      <td>7.5</td>\n",
       "      <td>669.0</td>\n",
       "      <td>6.6</td>\n",
       "      <td>1.2</td>\n",
       "      <td>1.2</td>\n",
       "      <td>1.4</td>\n",
       "      <td>0.303828</td>\n",
       "      <td>44.5</td>\n",
       "      <td>0.000598</td>\n",
       "      <td>0.000009</td>\n",
       "      <td>0.170544</td>\n",
       "    </tr>\n",
       "    <tr>\n",
       "      <th>3</th>\n",
       "      <td>15</td>\n",
       "      <td>AUS11</td>\n",
       "      <td>Sunshine Coast</td>\n",
       "      <td>-26.544322</td>\n",
       "      <td>153.050770</td>\n",
       "      <td>176.0</td>\n",
       "      <td>131.0</td>\n",
       "      <td>44.0</td>\n",
       "      <td>8.8</td>\n",
       "      <td>374.0</td>\n",
       "      <td>5.3</td>\n",
       "      <td>1.0</td>\n",
       "      <td>1.0</td>\n",
       "      <td>1.3</td>\n",
       "      <td>0.204050</td>\n",
       "      <td>36.5</td>\n",
       "      <td>0.000918</td>\n",
       "      <td>0.000014</td>\n",
       "      <td>0.261935</td>\n",
       "    </tr>\n",
       "    <tr>\n",
       "      <th>4</th>\n",
       "      <td>16</td>\n",
       "      <td>AUS14</td>\n",
       "      <td>Geelong</td>\n",
       "      <td>-38.149281</td>\n",
       "      <td>144.359827</td>\n",
       "      <td>99.0</td>\n",
       "      <td>167.0</td>\n",
       "      <td>85.0</td>\n",
       "      <td>7.3</td>\n",
       "      <td>61.0</td>\n",
       "      <td>7.9</td>\n",
       "      <td>1.1</td>\n",
       "      <td>1.1</td>\n",
       "      <td>1.4</td>\n",
       "      <td>0.037647</td>\n",
       "      <td>2.2</td>\n",
       "      <td>0.006344</td>\n",
       "      <td>0.000095</td>\n",
       "      <td>1.809883</td>\n",
       "    </tr>\n",
       "  </tbody>\n",
       "</table>\n",
       "</div>"
      ],
      "text/plain": [
       "   Unnamed: 0 metroId metropolitanAreas        lat        long    CDD  \\\n",
       "0          11   AUS06        Gold Coast -28.002373  153.414599  169.0   \n",
       "1          13   AUS08         Newcastle  54.973847   -1.613157  115.0   \n",
       "2          14   AUS10        Wollongong -34.424394  150.893850   24.0   \n",
       "3          15   AUS11    Sunshine Coast -26.544322  153.050770  176.0   \n",
       "4          16   AUS14           Geelong -38.149281  144.359827   99.0   \n",
       "\n",
       "   URB_AREA  URB_AREA_CORE  FRAGMENTATION  POP_DEN  PWM_EX_CORE  \\\n",
       "0     314.0          137.0            8.5    303.0          5.7   \n",
       "1     284.0          137.0            8.2    284.0          7.4   \n",
       "2     127.0           52.0            7.5    669.0          6.6   \n",
       "3     131.0           44.0            8.8    374.0          5.3   \n",
       "4     167.0           85.0            7.3     61.0          7.9   \n",
       "\n",
       "   T_Y0_14_SH_NAT  T_Y15_64_SH_NAT  T_Y65_MAX_SH_NAT  CONSTR_RAT  \\\n",
       "0             2.3              2.4               2.5    0.168545   \n",
       "1             1.9              1.9               2.2    0.179633   \n",
       "2             1.2              1.2               1.4    0.303828   \n",
       "3             1.0              1.0               1.3    0.204050   \n",
       "4             1.1              1.1               1.4    0.037647   \n",
       "\n",
       "   TREECOVER_SHARE_CORE  CITY_REL_ROADS  CITY_REL_WATER  CITY_EVAPOTRANS  \n",
       "0                  24.5        0.002664        0.000040         0.760102  \n",
       "1                  34.7        0.002261        0.000034         0.645046  \n",
       "2                  44.5        0.000598        0.000009         0.170544  \n",
       "3                  36.5        0.000918        0.000014         0.261935  \n",
       "4                   2.2        0.006344        0.000095         1.809883  "
      ]
     },
     "execution_count": 35,
     "metadata": {},
     "output_type": "execute_result"
    }
   ],
   "source": [
    "data_clean2.head()"
   ]
  },
  {
   "cell_type": "code",
   "execution_count": 38,
   "metadata": {},
   "outputs": [],
   "source": [
    "df_main1 = data_clean1.loc[:,\"CDD\":\"CITY_EVAPOTRANS\"]\n",
    "df_main2 = data_clean2.loc[:,\"CDD\":\"CITY_EVAPOTRANS\"]"
   ]
  },
  {
   "cell_type": "code",
   "execution_count": 39,
   "metadata": {},
   "outputs": [],
   "source": [
    "df_main1 = df_main1.where(pd.notna(df_main1), df_main1.mean(), axis=\"columns\")\n",
    "df_main2 = df_main2.where(pd.notna(df_main2), df_main2.mean(), axis=\"columns\")"
   ]
  },
  {
   "cell_type": "code",
   "execution_count": 40,
   "metadata": {
    "scrolled": false
   },
   "outputs": [
    {
     "data": {
      "text/html": [
       "<div>\n",
       "<style scoped>\n",
       "    .dataframe tbody tr th:only-of-type {\n",
       "        vertical-align: middle;\n",
       "    }\n",
       "\n",
       "    .dataframe tbody tr th {\n",
       "        vertical-align: top;\n",
       "    }\n",
       "\n",
       "    .dataframe thead th {\n",
       "        text-align: right;\n",
       "    }\n",
       "</style>\n",
       "<table border=\"1\" class=\"dataframe\">\n",
       "  <thead>\n",
       "    <tr style=\"text-align: right;\">\n",
       "      <th></th>\n",
       "      <th>CDD</th>\n",
       "      <th>URB_AREA</th>\n",
       "      <th>URB_AREA_CORE</th>\n",
       "      <th>FRAGMENTATION</th>\n",
       "      <th>POP_DEN</th>\n",
       "      <th>PWM_EX_CORE</th>\n",
       "      <th>T_Y0_14_SH_NAT</th>\n",
       "      <th>T_Y15_64_SH_NAT</th>\n",
       "      <th>T_Y65_MAX_SH_NAT</th>\n",
       "      <th>CONSTR_RAT</th>\n",
       "      <th>TREECOVER_SHARE_CORE</th>\n",
       "      <th>CITY_REL_ROADS</th>\n",
       "      <th>CITY_REL_WATER</th>\n",
       "      <th>CITY_EVAPOTRANS</th>\n",
       "    </tr>\n",
       "  </thead>\n",
       "  <tbody>\n",
       "    <tr>\n",
       "      <th>CDD</th>\n",
       "      <td>1.000000</td>\n",
       "      <td>0.045439</td>\n",
       "      <td>0.090948</td>\n",
       "      <td>-0.174322</td>\n",
       "      <td>-0.139211</td>\n",
       "      <td>0.132388</td>\n",
       "      <td>-0.122043</td>\n",
       "      <td>-0.122286</td>\n",
       "      <td>-0.124172</td>\n",
       "      <td>-0.219099</td>\n",
       "      <td>0.052987</td>\n",
       "      <td>-0.077007</td>\n",
       "      <td>-0.100661</td>\n",
       "      <td>0.248783</td>\n",
       "    </tr>\n",
       "    <tr>\n",
       "      <th>URB_AREA</th>\n",
       "      <td>0.045439</td>\n",
       "      <td>1.000000</td>\n",
       "      <td>0.971880</td>\n",
       "      <td>-0.057332</td>\n",
       "      <td>0.109576</td>\n",
       "      <td>-0.174964</td>\n",
       "      <td>0.186321</td>\n",
       "      <td>0.189033</td>\n",
       "      <td>0.170098</td>\n",
       "      <td>0.256950</td>\n",
       "      <td>-0.058199</td>\n",
       "      <td>0.021452</td>\n",
       "      <td>0.016947</td>\n",
       "      <td>0.522397</td>\n",
       "    </tr>\n",
       "    <tr>\n",
       "      <th>URB_AREA_CORE</th>\n",
       "      <td>0.090948</td>\n",
       "      <td>0.971880</td>\n",
       "      <td>1.000000</td>\n",
       "      <td>-0.093173</td>\n",
       "      <td>0.106733</td>\n",
       "      <td>-0.166096</td>\n",
       "      <td>0.138645</td>\n",
       "      <td>0.143597</td>\n",
       "      <td>0.126000</td>\n",
       "      <td>0.209814</td>\n",
       "      <td>-0.035398</td>\n",
       "      <td>-0.016038</td>\n",
       "      <td>-0.011288</td>\n",
       "      <td>0.546062</td>\n",
       "    </tr>\n",
       "    <tr>\n",
       "      <th>FRAGMENTATION</th>\n",
       "      <td>-0.174322</td>\n",
       "      <td>-0.057332</td>\n",
       "      <td>-0.093173</td>\n",
       "      <td>1.000000</td>\n",
       "      <td>-0.227931</td>\n",
       "      <td>-0.165678</td>\n",
       "      <td>0.012689</td>\n",
       "      <td>0.014073</td>\n",
       "      <td>0.019563</td>\n",
       "      <td>-0.146954</td>\n",
       "      <td>-0.155338</td>\n",
       "      <td>0.063282</td>\n",
       "      <td>0.020392</td>\n",
       "      <td>-0.023369</td>\n",
       "    </tr>\n",
       "    <tr>\n",
       "      <th>POP_DEN</th>\n",
       "      <td>-0.139211</td>\n",
       "      <td>0.109576</td>\n",
       "      <td>0.106733</td>\n",
       "      <td>-0.227931</td>\n",
       "      <td>1.000000</td>\n",
       "      <td>0.295706</td>\n",
       "      <td>0.295597</td>\n",
       "      <td>0.307398</td>\n",
       "      <td>0.293199</td>\n",
       "      <td>0.679854</td>\n",
       "      <td>-0.075403</td>\n",
       "      <td>0.014452</td>\n",
       "      <td>0.038937</td>\n",
       "      <td>-0.161139</td>\n",
       "    </tr>\n",
       "    <tr>\n",
       "      <th>PWM_EX_CORE</th>\n",
       "      <td>0.132388</td>\n",
       "      <td>-0.174964</td>\n",
       "      <td>-0.166096</td>\n",
       "      <td>-0.165678</td>\n",
       "      <td>0.295706</td>\n",
       "      <td>1.000000</td>\n",
       "      <td>0.060767</td>\n",
       "      <td>0.066698</td>\n",
       "      <td>0.073781</td>\n",
       "      <td>-0.049089</td>\n",
       "      <td>0.014964</td>\n",
       "      <td>0.005700</td>\n",
       "      <td>-0.014184</td>\n",
       "      <td>-0.123239</td>\n",
       "    </tr>\n",
       "    <tr>\n",
       "      <th>T_Y0_14_SH_NAT</th>\n",
       "      <td>-0.122043</td>\n",
       "      <td>0.186321</td>\n",
       "      <td>0.138645</td>\n",
       "      <td>0.012689</td>\n",
       "      <td>0.295597</td>\n",
       "      <td>0.060767</td>\n",
       "      <td>1.000000</td>\n",
       "      <td>0.998623</td>\n",
       "      <td>0.993949</td>\n",
       "      <td>0.146394</td>\n",
       "      <td>-0.047840</td>\n",
       "      <td>0.639200</td>\n",
       "      <td>0.358573</td>\n",
       "      <td>0.036511</td>\n",
       "    </tr>\n",
       "    <tr>\n",
       "      <th>T_Y15_64_SH_NAT</th>\n",
       "      <td>-0.122286</td>\n",
       "      <td>0.189033</td>\n",
       "      <td>0.143597</td>\n",
       "      <td>0.014073</td>\n",
       "      <td>0.307398</td>\n",
       "      <td>0.066698</td>\n",
       "      <td>0.998623</td>\n",
       "      <td>1.000000</td>\n",
       "      <td>0.995355</td>\n",
       "      <td>0.147467</td>\n",
       "      <td>-0.046916</td>\n",
       "      <td>0.633718</td>\n",
       "      <td>0.358136</td>\n",
       "      <td>0.036131</td>\n",
       "    </tr>\n",
       "    <tr>\n",
       "      <th>T_Y65_MAX_SH_NAT</th>\n",
       "      <td>-0.124172</td>\n",
       "      <td>0.170098</td>\n",
       "      <td>0.126000</td>\n",
       "      <td>0.019563</td>\n",
       "      <td>0.293199</td>\n",
       "      <td>0.073781</td>\n",
       "      <td>0.993949</td>\n",
       "      <td>0.995355</td>\n",
       "      <td>1.000000</td>\n",
       "      <td>0.142253</td>\n",
       "      <td>-0.047661</td>\n",
       "      <td>0.667929</td>\n",
       "      <td>0.359238</td>\n",
       "      <td>0.026665</td>\n",
       "    </tr>\n",
       "    <tr>\n",
       "      <th>CONSTR_RAT</th>\n",
       "      <td>-0.219099</td>\n",
       "      <td>0.256950</td>\n",
       "      <td>0.209814</td>\n",
       "      <td>-0.146954</td>\n",
       "      <td>0.679854</td>\n",
       "      <td>-0.049089</td>\n",
       "      <td>0.146394</td>\n",
       "      <td>0.147467</td>\n",
       "      <td>0.142253</td>\n",
       "      <td>1.000000</td>\n",
       "      <td>-0.173150</td>\n",
       "      <td>0.046251</td>\n",
       "      <td>0.082004</td>\n",
       "      <td>-0.207780</td>\n",
       "    </tr>\n",
       "    <tr>\n",
       "      <th>TREECOVER_SHARE_CORE</th>\n",
       "      <td>0.052987</td>\n",
       "      <td>-0.058199</td>\n",
       "      <td>-0.035398</td>\n",
       "      <td>-0.155338</td>\n",
       "      <td>-0.075403</td>\n",
       "      <td>0.014964</td>\n",
       "      <td>-0.047840</td>\n",
       "      <td>-0.046916</td>\n",
       "      <td>-0.047661</td>\n",
       "      <td>-0.173150</td>\n",
       "      <td>1.000000</td>\n",
       "      <td>-0.022880</td>\n",
       "      <td>-0.064554</td>\n",
       "      <td>-0.055596</td>\n",
       "    </tr>\n",
       "    <tr>\n",
       "      <th>CITY_REL_ROADS</th>\n",
       "      <td>-0.077007</td>\n",
       "      <td>0.021452</td>\n",
       "      <td>-0.016038</td>\n",
       "      <td>0.063282</td>\n",
       "      <td>0.014452</td>\n",
       "      <td>0.005700</td>\n",
       "      <td>0.639200</td>\n",
       "      <td>0.633718</td>\n",
       "      <td>0.667929</td>\n",
       "      <td>0.046251</td>\n",
       "      <td>-0.022880</td>\n",
       "      <td>1.000000</td>\n",
       "      <td>0.416291</td>\n",
       "      <td>-0.021908</td>\n",
       "    </tr>\n",
       "    <tr>\n",
       "      <th>CITY_REL_WATER</th>\n",
       "      <td>-0.100661</td>\n",
       "      <td>0.016947</td>\n",
       "      <td>-0.011288</td>\n",
       "      <td>0.020392</td>\n",
       "      <td>0.038937</td>\n",
       "      <td>-0.014184</td>\n",
       "      <td>0.358573</td>\n",
       "      <td>0.358136</td>\n",
       "      <td>0.359238</td>\n",
       "      <td>0.082004</td>\n",
       "      <td>-0.064554</td>\n",
       "      <td>0.416291</td>\n",
       "      <td>1.000000</td>\n",
       "      <td>-0.002901</td>\n",
       "    </tr>\n",
       "    <tr>\n",
       "      <th>CITY_EVAPOTRANS</th>\n",
       "      <td>0.248783</td>\n",
       "      <td>0.522397</td>\n",
       "      <td>0.546062</td>\n",
       "      <td>-0.023369</td>\n",
       "      <td>-0.161139</td>\n",
       "      <td>-0.123239</td>\n",
       "      <td>0.036511</td>\n",
       "      <td>0.036131</td>\n",
       "      <td>0.026665</td>\n",
       "      <td>-0.207780</td>\n",
       "      <td>-0.055596</td>\n",
       "      <td>-0.021908</td>\n",
       "      <td>-0.002901</td>\n",
       "      <td>1.000000</td>\n",
       "    </tr>\n",
       "  </tbody>\n",
       "</table>\n",
       "</div>"
      ],
      "text/plain": [
       "                           CDD  URB_AREA  URB_AREA_CORE  FRAGMENTATION  \\\n",
       "CDD                   1.000000  0.045439       0.090948      -0.174322   \n",
       "URB_AREA              0.045439  1.000000       0.971880      -0.057332   \n",
       "URB_AREA_CORE         0.090948  0.971880       1.000000      -0.093173   \n",
       "FRAGMENTATION        -0.174322 -0.057332      -0.093173       1.000000   \n",
       "POP_DEN              -0.139211  0.109576       0.106733      -0.227931   \n",
       "PWM_EX_CORE           0.132388 -0.174964      -0.166096      -0.165678   \n",
       "T_Y0_14_SH_NAT       -0.122043  0.186321       0.138645       0.012689   \n",
       "T_Y15_64_SH_NAT      -0.122286  0.189033       0.143597       0.014073   \n",
       "T_Y65_MAX_SH_NAT     -0.124172  0.170098       0.126000       0.019563   \n",
       "CONSTR_RAT           -0.219099  0.256950       0.209814      -0.146954   \n",
       "TREECOVER_SHARE_CORE  0.052987 -0.058199      -0.035398      -0.155338   \n",
       "CITY_REL_ROADS       -0.077007  0.021452      -0.016038       0.063282   \n",
       "CITY_REL_WATER       -0.100661  0.016947      -0.011288       0.020392   \n",
       "CITY_EVAPOTRANS       0.248783  0.522397       0.546062      -0.023369   \n",
       "\n",
       "                       POP_DEN  PWM_EX_CORE  T_Y0_14_SH_NAT  T_Y15_64_SH_NAT  \\\n",
       "CDD                  -0.139211     0.132388       -0.122043        -0.122286   \n",
       "URB_AREA              0.109576    -0.174964        0.186321         0.189033   \n",
       "URB_AREA_CORE         0.106733    -0.166096        0.138645         0.143597   \n",
       "FRAGMENTATION        -0.227931    -0.165678        0.012689         0.014073   \n",
       "POP_DEN               1.000000     0.295706        0.295597         0.307398   \n",
       "PWM_EX_CORE           0.295706     1.000000        0.060767         0.066698   \n",
       "T_Y0_14_SH_NAT        0.295597     0.060767        1.000000         0.998623   \n",
       "T_Y15_64_SH_NAT       0.307398     0.066698        0.998623         1.000000   \n",
       "T_Y65_MAX_SH_NAT      0.293199     0.073781        0.993949         0.995355   \n",
       "CONSTR_RAT            0.679854    -0.049089        0.146394         0.147467   \n",
       "TREECOVER_SHARE_CORE -0.075403     0.014964       -0.047840        -0.046916   \n",
       "CITY_REL_ROADS        0.014452     0.005700        0.639200         0.633718   \n",
       "CITY_REL_WATER        0.038937    -0.014184        0.358573         0.358136   \n",
       "CITY_EVAPOTRANS      -0.161139    -0.123239        0.036511         0.036131   \n",
       "\n",
       "                      T_Y65_MAX_SH_NAT  CONSTR_RAT  TREECOVER_SHARE_CORE  \\\n",
       "CDD                          -0.124172   -0.219099              0.052987   \n",
       "URB_AREA                      0.170098    0.256950             -0.058199   \n",
       "URB_AREA_CORE                 0.126000    0.209814             -0.035398   \n",
       "FRAGMENTATION                 0.019563   -0.146954             -0.155338   \n",
       "POP_DEN                       0.293199    0.679854             -0.075403   \n",
       "PWM_EX_CORE                   0.073781   -0.049089              0.014964   \n",
       "T_Y0_14_SH_NAT                0.993949    0.146394             -0.047840   \n",
       "T_Y15_64_SH_NAT               0.995355    0.147467             -0.046916   \n",
       "T_Y65_MAX_SH_NAT              1.000000    0.142253             -0.047661   \n",
       "CONSTR_RAT                    0.142253    1.000000             -0.173150   \n",
       "TREECOVER_SHARE_CORE         -0.047661   -0.173150              1.000000   \n",
       "CITY_REL_ROADS                0.667929    0.046251             -0.022880   \n",
       "CITY_REL_WATER                0.359238    0.082004             -0.064554   \n",
       "CITY_EVAPOTRANS               0.026665   -0.207780             -0.055596   \n",
       "\n",
       "                      CITY_REL_ROADS  CITY_REL_WATER  CITY_EVAPOTRANS  \n",
       "CDD                        -0.077007       -0.100661         0.248783  \n",
       "URB_AREA                    0.021452        0.016947         0.522397  \n",
       "URB_AREA_CORE              -0.016038       -0.011288         0.546062  \n",
       "FRAGMENTATION               0.063282        0.020392        -0.023369  \n",
       "POP_DEN                     0.014452        0.038937        -0.161139  \n",
       "PWM_EX_CORE                 0.005700       -0.014184        -0.123239  \n",
       "T_Y0_14_SH_NAT              0.639200        0.358573         0.036511  \n",
       "T_Y15_64_SH_NAT             0.633718        0.358136         0.036131  \n",
       "T_Y65_MAX_SH_NAT            0.667929        0.359238         0.026665  \n",
       "CONSTR_RAT                  0.046251        0.082004        -0.207780  \n",
       "TREECOVER_SHARE_CORE       -0.022880       -0.064554        -0.055596  \n",
       "CITY_REL_ROADS              1.000000        0.416291        -0.021908  \n",
       "CITY_REL_WATER              0.416291        1.000000        -0.002901  \n",
       "CITY_EVAPOTRANS            -0.021908       -0.002901         1.000000  "
      ]
     },
     "execution_count": 40,
     "metadata": {},
     "output_type": "execute_result"
    }
   ],
   "source": [
    "df_main1.corr()"
   ]
  },
  {
   "cell_type": "code",
   "execution_count": 41,
   "metadata": {},
   "outputs": [
    {
     "data": {
      "application/vnd.plotly.v1+json": {
       "config": {
        "plotlyServerURL": "https://plot.ly"
       },
       "data": [
        {
         "alignmentgroup": "True",
         "bingroup": "x",
         "hovertemplate": "CDD=%{x}<br>count=%{y}<extra></extra>",
         "legendgroup": "",
         "marker": {
          "color": "#636efa"
         },
         "name": "",
         "offsetgroup": "",
         "orientation": "v",
         "showlegend": false,
         "type": "histogram",
         "x": [
          23,
          2,
          2,
          1,
          0,
          0,
          51,
          83,
          147,
          233,
          221,
          169,
          33,
          115,
          24,
          176,
          99,
          7,
          8,
          7,
          5,
          5,
          2,
          5,
          0,
          3,
          4,
          5,
          1,
          11,
          4,
          5,
          1,
          1,
          0,
          7,
          13,
          4,
          4,
          0,
          1,
          2,
          0,
          7,
          3,
          1,
          2,
          5,
          26,
          2,
          0,
          0,
          0,
          0,
          19,
          209,
          2391,
          2176,
          465,
          1179,
          148,
          272,
          103,
          369,
          0,
          240,
          611,
          1884,
          1660,
          906,
          321,
          220,
          0,
          2049,
          1187,
          10,
          9,
          12,
          3,
          35,
          4,
          3,
          8,
          11,
          8,
          24,
          25,
          9,
          8,
          15,
          11,
          12,
          17,
          17,
          9,
          10,
          12,
          3,
          5,
          6,
          8,
          7,
          3,
          10,
          15,
          10,
          9,
          8,
          1,
          4,
          5,
          7,
          5,
          4,
          0,
          2,
          10,
          9,
          9,
          2,
          8,
          36,
          8,
          4,
          11,
          10,
          3,
          3,
          11,
          7,
          7,
          11,
          10,
          9,
          4,
          9,
          2,
          13,
          4,
          3,
          4,
          12,
          13,
          6,
          5,
          7,
          1,
          0,
          0,
          3,
          21,
          361,
          190,
          172,
          40,
          224,
          443,
          192,
          228,
          443,
          6,
          65,
          271,
          5,
          1,
          9,
          3,
          3,
          458,
          200,
          6,
          2,
          0,
          0,
          105,
          385,
          2,
          138,
          152,
          13,
          12,
          11,
          5,
          7,
          4,
          24,
          9,
          33,
          7,
          7,
          52,
          0,
          0,
          2,
          4,
          5,
          4,
          8,
          7,
          7,
          7,
          3,
          0,
          5,
          5,
          0,
          0,
          26,
          6,
          7,
          6,
          0,
          5,
          79,
          3,
          4,
          22,
          94,
          29,
          15,
          1,
          33,
          3,
          6,
          12,
          2,
          58,
          46,
          88,
          40,
          42,
          0,
          0,
          48,
          34,
          100,
          18,
          183,
          4,
          23,
          224,
          74,
          232,
          66,
          24,
          13,
          295,
          153,
          60,
          37,
          129,
          31,
          90,
          28,
          79,
          81,
          53,
          10,
          206,
          170,
          131,
          166,
          6,
          87,
          220,
          73,
          166,
          165,
          157,
          82,
          108,
          133,
          112,
          110,
          153,
          298,
          149,
          159,
          77,
          140,
          237,
          103,
          68,
          15,
          253,
          14,
          143,
          80,
          64,
          174,
          66,
          54,
          159,
          20,
          104,
          52,
          7,
          35,
          176,
          44,
          5,
          188,
          103,
          141,
          8,
          41,
          111,
          22,
          151,
          10,
          92,
          77,
          78,
          67,
          110,
          72,
          94,
          66,
          60,
          67,
          77,
          52,
          70,
          65,
          70,
          72,
          47,
          111,
          30,
          109,
          129,
          33,
          37,
          2,
          21,
          0,
          156,
          659,
          26,
          0,
          146,
          17,
          13,
          1461,
          864,
          16,
          648,
          1541,
          277,
          1267,
          1344,
          1,
          423,
          950,
          1763,
          38,
          1493,
          1154,
          13,
          1350,
          192,
          97,
          1618,
          14,
          20,
          340,
          1,
          39,
          1691,
          1278,
          640,
          865,
          697,
          8,
          1024,
          1696,
          1430,
          13,
          1107,
          1521,
          440,
          0,
          14,
          145,
          10,
          1023,
          350,
          469,
          1034,
          832,
          709,
          1020,
          1427,
          501,
          42,
          1,
          27,
          0,
          1369,
          1281,
          4,
          3,
          5,
          5,
          7,
          6,
          5,
          6,
          6,
          6,
          6,
          6,
          6,
          2,
          5,
          2,
          3,
          0,
          1,
          0,
          30,
          28,
          6,
          53,
          53,
          22,
          33,
          37,
          36,
          19,
          30,
          7,
          36,
          28,
          25,
          2,
          16,
          23,
          6,
          15,
          49,
          14,
          21,
          3,
          3,
          4,
          8,
          1,
          5,
          30,
          16,
          0,
          0,
          0,
          0,
          0,
          0,
          0,
          0,
          0,
          0,
          0,
          0,
          0,
          0,
          0,
          0,
          0,
          0,
          0,
          0,
          0,
          0,
          0,
          0,
          0,
          0,
          0,
          0,
          0,
          0,
          0,
          0,
          0,
          0,
          0,
          0,
          0,
          0,
          0,
          0,
          0,
          0,
          0,
          0,
          0,
          0,
          41,
          899,
          59,
          116,
          142,
          79,
          621,
          738,
          1127,
          278,
          698,
          564,
          344,
          246,
          65,
          12,
          690,
          119,
          646,
          230,
          31,
          704,
          45,
          1193,
          690,
          992,
          6,
          43,
          81,
          32,
          650,
          1290,
          330,
          1,
          38,
          552,
          186,
          18,
          543,
          262,
          756,
          107,
          19,
          1080,
          11,
          136,
          3,
          285,
          63,
          526,
          6,
          715,
          19,
          1,
          20,
          485,
          8,
          8,
          905,
          228,
          89,
          706,
          271,
          9,
          16,
          39,
          13,
          1269,
          31,
          622,
          262,
          81,
          26,
          311,
          312,
          74,
          688,
          481,
          51,
          86,
          16,
          23,
          203,
          251,
          47,
          790,
          3,
          101,
          471,
          793,
          201,
          86,
          29,
          35,
          269,
          126,
          694,
          50,
          13,
          717,
          183,
          859,
          168,
          336,
          237,
          500,
          25,
          28,
          757,
          260,
          9,
          421,
          203,
          281,
          349,
          890,
          1130,
          376,
          12,
          23,
          109,
          98,
          12,
          502,
          103,
          713,
          624,
          24,
          1277,
          398,
          37,
          915,
          59,
          251,
          12,
          513,
          8,
          28,
          123,
          17,
          964,
          426,
          68,
          39,
          47,
          366,
          21,
          881,
          29,
          164,
          151,
          60,
          435,
          227,
          146,
          93,
          806,
          214,
          24,
          168,
          120,
          15,
          550,
          141,
          221,
          23
         ],
         "xaxis": "x",
         "yaxis": "y"
        }
       ],
       "layout": {
        "barmode": "relative",
        "legend": {
         "tracegroupgap": 0
        },
        "margin": {
         "t": 60
        },
        "template": {
         "data": {
          "bar": [
           {
            "error_x": {
             "color": "#2a3f5f"
            },
            "error_y": {
             "color": "#2a3f5f"
            },
            "marker": {
             "line": {
              "color": "#E5ECF6",
              "width": 0.5
             }
            },
            "type": "bar"
           }
          ],
          "barpolar": [
           {
            "marker": {
             "line": {
              "color": "#E5ECF6",
              "width": 0.5
             }
            },
            "type": "barpolar"
           }
          ],
          "carpet": [
           {
            "aaxis": {
             "endlinecolor": "#2a3f5f",
             "gridcolor": "white",
             "linecolor": "white",
             "minorgridcolor": "white",
             "startlinecolor": "#2a3f5f"
            },
            "baxis": {
             "endlinecolor": "#2a3f5f",
             "gridcolor": "white",
             "linecolor": "white",
             "minorgridcolor": "white",
             "startlinecolor": "#2a3f5f"
            },
            "type": "carpet"
           }
          ],
          "choropleth": [
           {
            "colorbar": {
             "outlinewidth": 0,
             "ticks": ""
            },
            "type": "choropleth"
           }
          ],
          "contour": [
           {
            "colorbar": {
             "outlinewidth": 0,
             "ticks": ""
            },
            "colorscale": [
             [
              0,
              "#0d0887"
             ],
             [
              0.1111111111111111,
              "#46039f"
             ],
             [
              0.2222222222222222,
              "#7201a8"
             ],
             [
              0.3333333333333333,
              "#9c179e"
             ],
             [
              0.4444444444444444,
              "#bd3786"
             ],
             [
              0.5555555555555556,
              "#d8576b"
             ],
             [
              0.6666666666666666,
              "#ed7953"
             ],
             [
              0.7777777777777778,
              "#fb9f3a"
             ],
             [
              0.8888888888888888,
              "#fdca26"
             ],
             [
              1,
              "#f0f921"
             ]
            ],
            "type": "contour"
           }
          ],
          "contourcarpet": [
           {
            "colorbar": {
             "outlinewidth": 0,
             "ticks": ""
            },
            "type": "contourcarpet"
           }
          ],
          "heatmap": [
           {
            "colorbar": {
             "outlinewidth": 0,
             "ticks": ""
            },
            "colorscale": [
             [
              0,
              "#0d0887"
             ],
             [
              0.1111111111111111,
              "#46039f"
             ],
             [
              0.2222222222222222,
              "#7201a8"
             ],
             [
              0.3333333333333333,
              "#9c179e"
             ],
             [
              0.4444444444444444,
              "#bd3786"
             ],
             [
              0.5555555555555556,
              "#d8576b"
             ],
             [
              0.6666666666666666,
              "#ed7953"
             ],
             [
              0.7777777777777778,
              "#fb9f3a"
             ],
             [
              0.8888888888888888,
              "#fdca26"
             ],
             [
              1,
              "#f0f921"
             ]
            ],
            "type": "heatmap"
           }
          ],
          "heatmapgl": [
           {
            "colorbar": {
             "outlinewidth": 0,
             "ticks": ""
            },
            "colorscale": [
             [
              0,
              "#0d0887"
             ],
             [
              0.1111111111111111,
              "#46039f"
             ],
             [
              0.2222222222222222,
              "#7201a8"
             ],
             [
              0.3333333333333333,
              "#9c179e"
             ],
             [
              0.4444444444444444,
              "#bd3786"
             ],
             [
              0.5555555555555556,
              "#d8576b"
             ],
             [
              0.6666666666666666,
              "#ed7953"
             ],
             [
              0.7777777777777778,
              "#fb9f3a"
             ],
             [
              0.8888888888888888,
              "#fdca26"
             ],
             [
              1,
              "#f0f921"
             ]
            ],
            "type": "heatmapgl"
           }
          ],
          "histogram": [
           {
            "marker": {
             "colorbar": {
              "outlinewidth": 0,
              "ticks": ""
             }
            },
            "type": "histogram"
           }
          ],
          "histogram2d": [
           {
            "colorbar": {
             "outlinewidth": 0,
             "ticks": ""
            },
            "colorscale": [
             [
              0,
              "#0d0887"
             ],
             [
              0.1111111111111111,
              "#46039f"
             ],
             [
              0.2222222222222222,
              "#7201a8"
             ],
             [
              0.3333333333333333,
              "#9c179e"
             ],
             [
              0.4444444444444444,
              "#bd3786"
             ],
             [
              0.5555555555555556,
              "#d8576b"
             ],
             [
              0.6666666666666666,
              "#ed7953"
             ],
             [
              0.7777777777777778,
              "#fb9f3a"
             ],
             [
              0.8888888888888888,
              "#fdca26"
             ],
             [
              1,
              "#f0f921"
             ]
            ],
            "type": "histogram2d"
           }
          ],
          "histogram2dcontour": [
           {
            "colorbar": {
             "outlinewidth": 0,
             "ticks": ""
            },
            "colorscale": [
             [
              0,
              "#0d0887"
             ],
             [
              0.1111111111111111,
              "#46039f"
             ],
             [
              0.2222222222222222,
              "#7201a8"
             ],
             [
              0.3333333333333333,
              "#9c179e"
             ],
             [
              0.4444444444444444,
              "#bd3786"
             ],
             [
              0.5555555555555556,
              "#d8576b"
             ],
             [
              0.6666666666666666,
              "#ed7953"
             ],
             [
              0.7777777777777778,
              "#fb9f3a"
             ],
             [
              0.8888888888888888,
              "#fdca26"
             ],
             [
              1,
              "#f0f921"
             ]
            ],
            "type": "histogram2dcontour"
           }
          ],
          "mesh3d": [
           {
            "colorbar": {
             "outlinewidth": 0,
             "ticks": ""
            },
            "type": "mesh3d"
           }
          ],
          "parcoords": [
           {
            "line": {
             "colorbar": {
              "outlinewidth": 0,
              "ticks": ""
             }
            },
            "type": "parcoords"
           }
          ],
          "pie": [
           {
            "automargin": true,
            "type": "pie"
           }
          ],
          "scatter": [
           {
            "marker": {
             "colorbar": {
              "outlinewidth": 0,
              "ticks": ""
             }
            },
            "type": "scatter"
           }
          ],
          "scatter3d": [
           {
            "line": {
             "colorbar": {
              "outlinewidth": 0,
              "ticks": ""
             }
            },
            "marker": {
             "colorbar": {
              "outlinewidth": 0,
              "ticks": ""
             }
            },
            "type": "scatter3d"
           }
          ],
          "scattercarpet": [
           {
            "marker": {
             "colorbar": {
              "outlinewidth": 0,
              "ticks": ""
             }
            },
            "type": "scattercarpet"
           }
          ],
          "scattergeo": [
           {
            "marker": {
             "colorbar": {
              "outlinewidth": 0,
              "ticks": ""
             }
            },
            "type": "scattergeo"
           }
          ],
          "scattergl": [
           {
            "marker": {
             "colorbar": {
              "outlinewidth": 0,
              "ticks": ""
             }
            },
            "type": "scattergl"
           }
          ],
          "scattermapbox": [
           {
            "marker": {
             "colorbar": {
              "outlinewidth": 0,
              "ticks": ""
             }
            },
            "type": "scattermapbox"
           }
          ],
          "scatterpolar": [
           {
            "marker": {
             "colorbar": {
              "outlinewidth": 0,
              "ticks": ""
             }
            },
            "type": "scatterpolar"
           }
          ],
          "scatterpolargl": [
           {
            "marker": {
             "colorbar": {
              "outlinewidth": 0,
              "ticks": ""
             }
            },
            "type": "scatterpolargl"
           }
          ],
          "scatterternary": [
           {
            "marker": {
             "colorbar": {
              "outlinewidth": 0,
              "ticks": ""
             }
            },
            "type": "scatterternary"
           }
          ],
          "surface": [
           {
            "colorbar": {
             "outlinewidth": 0,
             "ticks": ""
            },
            "colorscale": [
             [
              0,
              "#0d0887"
             ],
             [
              0.1111111111111111,
              "#46039f"
             ],
             [
              0.2222222222222222,
              "#7201a8"
             ],
             [
              0.3333333333333333,
              "#9c179e"
             ],
             [
              0.4444444444444444,
              "#bd3786"
             ],
             [
              0.5555555555555556,
              "#d8576b"
             ],
             [
              0.6666666666666666,
              "#ed7953"
             ],
             [
              0.7777777777777778,
              "#fb9f3a"
             ],
             [
              0.8888888888888888,
              "#fdca26"
             ],
             [
              1,
              "#f0f921"
             ]
            ],
            "type": "surface"
           }
          ],
          "table": [
           {
            "cells": {
             "fill": {
              "color": "#EBF0F8"
             },
             "line": {
              "color": "white"
             }
            },
            "header": {
             "fill": {
              "color": "#C8D4E3"
             },
             "line": {
              "color": "white"
             }
            },
            "type": "table"
           }
          ]
         },
         "layout": {
          "annotationdefaults": {
           "arrowcolor": "#2a3f5f",
           "arrowhead": 0,
           "arrowwidth": 1
          },
          "autotypenumbers": "strict",
          "coloraxis": {
           "colorbar": {
            "outlinewidth": 0,
            "ticks": ""
           }
          },
          "colorscale": {
           "diverging": [
            [
             0,
             "#8e0152"
            ],
            [
             0.1,
             "#c51b7d"
            ],
            [
             0.2,
             "#de77ae"
            ],
            [
             0.3,
             "#f1b6da"
            ],
            [
             0.4,
             "#fde0ef"
            ],
            [
             0.5,
             "#f7f7f7"
            ],
            [
             0.6,
             "#e6f5d0"
            ],
            [
             0.7,
             "#b8e186"
            ],
            [
             0.8,
             "#7fbc41"
            ],
            [
             0.9,
             "#4d9221"
            ],
            [
             1,
             "#276419"
            ]
           ],
           "sequential": [
            [
             0,
             "#0d0887"
            ],
            [
             0.1111111111111111,
             "#46039f"
            ],
            [
             0.2222222222222222,
             "#7201a8"
            ],
            [
             0.3333333333333333,
             "#9c179e"
            ],
            [
             0.4444444444444444,
             "#bd3786"
            ],
            [
             0.5555555555555556,
             "#d8576b"
            ],
            [
             0.6666666666666666,
             "#ed7953"
            ],
            [
             0.7777777777777778,
             "#fb9f3a"
            ],
            [
             0.8888888888888888,
             "#fdca26"
            ],
            [
             1,
             "#f0f921"
            ]
           ],
           "sequentialminus": [
            [
             0,
             "#0d0887"
            ],
            [
             0.1111111111111111,
             "#46039f"
            ],
            [
             0.2222222222222222,
             "#7201a8"
            ],
            [
             0.3333333333333333,
             "#9c179e"
            ],
            [
             0.4444444444444444,
             "#bd3786"
            ],
            [
             0.5555555555555556,
             "#d8576b"
            ],
            [
             0.6666666666666666,
             "#ed7953"
            ],
            [
             0.7777777777777778,
             "#fb9f3a"
            ],
            [
             0.8888888888888888,
             "#fdca26"
            ],
            [
             1,
             "#f0f921"
            ]
           ]
          },
          "colorway": [
           "#636efa",
           "#EF553B",
           "#00cc96",
           "#ab63fa",
           "#FFA15A",
           "#19d3f3",
           "#FF6692",
           "#B6E880",
           "#FF97FF",
           "#FECB52"
          ],
          "font": {
           "color": "#2a3f5f"
          },
          "geo": {
           "bgcolor": "white",
           "lakecolor": "white",
           "landcolor": "#E5ECF6",
           "showlakes": true,
           "showland": true,
           "subunitcolor": "white"
          },
          "hoverlabel": {
           "align": "left"
          },
          "hovermode": "closest",
          "mapbox": {
           "style": "light"
          },
          "paper_bgcolor": "white",
          "plot_bgcolor": "#E5ECF6",
          "polar": {
           "angularaxis": {
            "gridcolor": "white",
            "linecolor": "white",
            "ticks": ""
           },
           "bgcolor": "#E5ECF6",
           "radialaxis": {
            "gridcolor": "white",
            "linecolor": "white",
            "ticks": ""
           }
          },
          "scene": {
           "xaxis": {
            "backgroundcolor": "#E5ECF6",
            "gridcolor": "white",
            "gridwidth": 2,
            "linecolor": "white",
            "showbackground": true,
            "ticks": "",
            "zerolinecolor": "white"
           },
           "yaxis": {
            "backgroundcolor": "#E5ECF6",
            "gridcolor": "white",
            "gridwidth": 2,
            "linecolor": "white",
            "showbackground": true,
            "ticks": "",
            "zerolinecolor": "white"
           },
           "zaxis": {
            "backgroundcolor": "#E5ECF6",
            "gridcolor": "white",
            "gridwidth": 2,
            "linecolor": "white",
            "showbackground": true,
            "ticks": "",
            "zerolinecolor": "white"
           }
          },
          "shapedefaults": {
           "line": {
            "color": "#2a3f5f"
           }
          },
          "ternary": {
           "aaxis": {
            "gridcolor": "white",
            "linecolor": "white",
            "ticks": ""
           },
           "baxis": {
            "gridcolor": "white",
            "linecolor": "white",
            "ticks": ""
           },
           "bgcolor": "#E5ECF6",
           "caxis": {
            "gridcolor": "white",
            "linecolor": "white",
            "ticks": ""
           }
          },
          "title": {
           "x": 0.05
          },
          "xaxis": {
           "automargin": true,
           "gridcolor": "white",
           "linecolor": "white",
           "ticks": "",
           "title": {
            "standoff": 15
           },
           "zerolinecolor": "white",
           "zerolinewidth": 2
          },
          "yaxis": {
           "automargin": true,
           "gridcolor": "white",
           "linecolor": "white",
           "ticks": "",
           "title": {
            "standoff": 15
           },
           "zerolinecolor": "white",
           "zerolinewidth": 2
          }
         }
        },
        "xaxis": {
         "anchor": "y",
         "domain": [
          0,
          1
         ],
         "title": {
          "text": "CDD"
         }
        },
        "yaxis": {
         "anchor": "x",
         "domain": [
          0,
          1
         ],
         "title": {
          "text": "count"
         }
        }
       }
      },
      "text/html": [
       "<div>                            <div id=\"31497596-c7fb-4661-80e6-75234474aa7f\" class=\"plotly-graph-div\" style=\"height:525px; width:100%;\"></div>            <script type=\"text/javascript\">                require([\"plotly\"], function(Plotly) {                    window.PLOTLYENV=window.PLOTLYENV || {};                                    if (document.getElementById(\"31497596-c7fb-4661-80e6-75234474aa7f\")) {                    Plotly.newPlot(                        \"31497596-c7fb-4661-80e6-75234474aa7f\",                        [{\"alignmentgroup\": \"True\", \"bingroup\": \"x\", \"hovertemplate\": \"CDD=%{x}<br>count=%{y}<extra></extra>\", \"legendgroup\": \"\", \"marker\": {\"color\": \"#636efa\"}, \"name\": \"\", \"offsetgroup\": \"\", \"orientation\": \"v\", \"showlegend\": false, \"type\": \"histogram\", \"x\": [23.0, 2.0, 2.0, 1.0, 0.0, 0.0, 51.0, 83.0, 147.0, 233.0, 221.0, 169.0, 33.0, 115.0, 24.0, 176.0, 99.0, 7.0, 8.0, 7.0, 5.0, 5.0, 2.0, 5.0, 0.0, 3.0, 4.0, 5.0, 1.0, 11.0, 4.0, 5.0, 1.0, 1.0, 0.0, 7.0, 13.0, 4.0, 4.0, 0.0, 1.0, 2.0, 0.0, 7.0, 3.0, 1.0, 2.0, 5.0, 26.0, 2.0, 0.0, 0.0, 0.0, 0.0, 19.0, 209.0, 2391.0, 2176.0, 465.0, 1179.0, 148.0, 272.0, 103.0, 369.0, 0.0, 240.0, 611.0, 1884.0, 1660.0, 906.0, 321.0, 220.0, 0.0, 2049.0, 1187.0, 10.0, 9.0, 12.0, 3.0, 35.0, 4.0, 3.0, 8.0, 11.0, 8.0, 24.0, 25.0, 9.0, 8.0, 15.0, 11.0, 12.0, 17.0, 17.0, 9.0, 10.0, 12.0, 3.0, 5.0, 6.0, 8.0, 7.0, 3.0, 10.0, 15.0, 10.0, 9.0, 8.0, 1.0, 4.0, 5.0, 7.0, 5.0, 4.0, 0.0, 2.0, 10.0, 9.0, 9.0, 2.0, 8.0, 36.0, 8.0, 4.0, 11.0, 10.0, 3.0, 3.0, 11.0, 7.0, 7.0, 11.0, 10.0, 9.0, 4.0, 9.0, 2.0, 13.0, 4.0, 3.0, 4.0, 12.0, 13.0, 6.0, 5.0, 7.0, 1.0, 0.0, 0.0, 3.0, 21.0, 361.0, 190.0, 172.0, 40.0, 224.0, 443.0, 192.0, 228.0, 443.0, 6.0, 65.0, 271.0, 5.0, 1.0, 9.0, 3.0, 3.0, 458.0, 200.0, 6.0, 2.0, 0.0, 0.0, 105.0, 385.0, 2.0, 138.0, 152.0, 13.0, 12.0, 11.0, 5.0, 7.0, 4.0, 24.0, 9.0, 33.0, 7.0, 7.0, 52.0, 0.0, 0.0, 2.0, 4.0, 5.0, 4.0, 8.0, 7.0, 7.0, 7.0, 3.0, 0.0, 5.0, 5.0, 0.0, 0.0, 26.0, 6.0, 7.0, 6.0, 0.0, 5.0, 79.0, 3.0, 4.0, 22.0, 94.0, 29.0, 15.0, 1.0, 33.0, 3.0, 6.0, 12.0, 2.0, 58.0, 46.0, 88.0, 40.0, 42.0, 0.0, 0.0, 48.0, 34.0, 100.0, 18.0, 183.0, 4.0, 23.0, 224.0, 74.0, 232.0, 66.0, 24.0, 13.0, 295.0, 153.0, 60.0, 37.0, 129.0, 31.0, 90.0, 28.0, 79.0, 81.0, 53.0, 10.0, 206.0, 170.0, 131.0, 166.0, 6.0, 87.0, 220.0, 73.0, 166.0, 165.0, 157.0, 82.0, 108.0, 133.0, 112.0, 110.0, 153.0, 298.0, 149.0, 159.0, 77.0, 140.0, 237.0, 103.0, 68.0, 15.0, 253.0, 14.0, 143.0, 80.0, 64.0, 174.0, 66.0, 54.0, 159.0, 20.0, 104.0, 52.0, 7.0, 35.0, 176.0, 44.0, 5.0, 188.0, 103.0, 141.0, 8.0, 41.0, 111.0, 22.0, 151.0, 10.0, 92.0, 77.0, 78.0, 67.0, 110.0, 72.0, 94.0, 66.0, 60.0, 67.0, 77.0, 52.0, 70.0, 65.0, 70.0, 72.0, 47.0, 111.0, 30.0, 109.0, 129.0, 33.0, 37.0, 2.0, 21.0, 0.0, 156.0, 659.0, 26.0, 0.0, 146.0, 17.0, 13.0, 1461.0, 864.0, 16.0, 648.0, 1541.0, 277.0, 1267.0, 1344.0, 1.0, 423.0, 950.0, 1763.0, 38.0, 1493.0, 1154.0, 13.0, 1350.0, 192.0, 97.0, 1618.0, 14.0, 20.0, 340.0, 1.0, 39.0, 1691.0, 1278.0, 640.0, 865.0, 697.0, 8.0, 1024.0, 1696.0, 1430.0, 13.0, 1107.0, 1521.0, 440.0, 0.0, 14.0, 145.0, 10.0, 1023.0, 350.0, 469.0, 1034.0, 832.0, 709.0, 1020.0, 1427.0, 501.0, 42.0, 1.0, 27.0, 0.0, 1369.0, 1281.0, 4.0, 3.0, 5.0, 5.0, 7.0, 6.0, 5.0, 6.0, 6.0, 6.0, 6.0, 6.0, 6.0, 2.0, 5.0, 2.0, 3.0, 0.0, 1.0, 0.0, 30.0, 28.0, 6.0, 53.0, 53.0, 22.0, 33.0, 37.0, 36.0, 19.0, 30.0, 7.0, 36.0, 28.0, 25.0, 2.0, 16.0, 23.0, 6.0, 15.0, 49.0, 14.0, 21.0, 3.0, 3.0, 4.0, 8.0, 1.0, 5.0, 30.0, 16.0, 0.0, 0.0, 0.0, 0.0, 0.0, 0.0, 0.0, 0.0, 0.0, 0.0, 0.0, 0.0, 0.0, 0.0, 0.0, 0.0, 0.0, 0.0, 0.0, 0.0, 0.0, 0.0, 0.0, 0.0, 0.0, 0.0, 0.0, 0.0, 0.0, 0.0, 0.0, 0.0, 0.0, 0.0, 0.0, 0.0, 0.0, 0.0, 0.0, 0.0, 0.0, 0.0, 0.0, 0.0, 0.0, 0.0, 41.0, 899.0, 59.0, 116.0, 142.0, 79.0, 621.0, 738.0, 1127.0, 278.0, 698.0, 564.0, 344.0, 246.0, 65.0, 12.0, 690.0, 119.0, 646.0, 230.0, 31.0, 704.0, 45.0, 1193.0, 690.0, 992.0, 6.0, 43.0, 81.0, 32.0, 650.0, 1290.0, 330.0, 1.0, 38.0, 552.0, 186.0, 18.0, 543.0, 262.0, 756.0, 107.0, 19.0, 1080.0, 11.0, 136.0, 3.0, 285.0, 63.0, 526.0, 6.0, 715.0, 19.0, 1.0, 20.0, 485.0, 8.0, 8.0, 905.0, 228.0, 89.0, 706.0, 271.0, 9.0, 16.0, 39.0, 13.0, 1269.0, 31.0, 622.0, 262.0, 81.0, 26.0, 311.0, 312.0, 74.0, 688.0, 481.0, 51.0, 86.0, 16.0, 23.0, 203.0, 251.0, 47.0, 790.0, 3.0, 101.0, 471.0, 793.0, 201.0, 86.0, 29.0, 35.0, 269.0, 126.0, 694.0, 50.0, 13.0, 717.0, 183.0, 859.0, 168.0, 336.0, 237.0, 500.0, 25.0, 28.0, 757.0, 260.0, 9.0, 421.0, 203.0, 281.0, 349.0, 890.0, 1130.0, 376.0, 12.0, 23.0, 109.0, 98.0, 12.0, 502.0, 103.0, 713.0, 624.0, 24.0, 1277.0, 398.0, 37.0, 915.0, 59.0, 251.0, 12.0, 513.0, 8.0, 28.0, 123.0, 17.0, 964.0, 426.0, 68.0, 39.0, 47.0, 366.0, 21.0, 881.0, 29.0, 164.0, 151.0, 60.0, 435.0, 227.0, 146.0, 93.0, 806.0, 214.0, 24.0, 168.0, 120.0, 15.0, 550.0, 141.0, 221.0, 23.0], \"xaxis\": \"x\", \"yaxis\": \"y\"}],                        {\"barmode\": \"relative\", \"legend\": {\"tracegroupgap\": 0}, \"margin\": {\"t\": 60}, \"template\": {\"data\": {\"bar\": [{\"error_x\": {\"color\": \"#2a3f5f\"}, \"error_y\": {\"color\": \"#2a3f5f\"}, \"marker\": {\"line\": {\"color\": \"#E5ECF6\", \"width\": 0.5}}, \"type\": \"bar\"}], \"barpolar\": [{\"marker\": {\"line\": {\"color\": \"#E5ECF6\", \"width\": 0.5}}, \"type\": \"barpolar\"}], \"carpet\": [{\"aaxis\": {\"endlinecolor\": \"#2a3f5f\", \"gridcolor\": \"white\", \"linecolor\": \"white\", \"minorgridcolor\": \"white\", \"startlinecolor\": \"#2a3f5f\"}, \"baxis\": {\"endlinecolor\": \"#2a3f5f\", \"gridcolor\": \"white\", \"linecolor\": \"white\", \"minorgridcolor\": \"white\", \"startlinecolor\": \"#2a3f5f\"}, \"type\": \"carpet\"}], \"choropleth\": [{\"colorbar\": {\"outlinewidth\": 0, \"ticks\": \"\"}, \"type\": \"choropleth\"}], \"contour\": [{\"colorbar\": {\"outlinewidth\": 0, \"ticks\": \"\"}, \"colorscale\": [[0.0, \"#0d0887\"], [0.1111111111111111, \"#46039f\"], [0.2222222222222222, \"#7201a8\"], [0.3333333333333333, \"#9c179e\"], [0.4444444444444444, \"#bd3786\"], [0.5555555555555556, \"#d8576b\"], [0.6666666666666666, \"#ed7953\"], [0.7777777777777778, \"#fb9f3a\"], [0.8888888888888888, \"#fdca26\"], [1.0, \"#f0f921\"]], \"type\": \"contour\"}], \"contourcarpet\": [{\"colorbar\": {\"outlinewidth\": 0, \"ticks\": \"\"}, \"type\": \"contourcarpet\"}], \"heatmap\": [{\"colorbar\": {\"outlinewidth\": 0, \"ticks\": \"\"}, \"colorscale\": [[0.0, \"#0d0887\"], [0.1111111111111111, \"#46039f\"], [0.2222222222222222, \"#7201a8\"], [0.3333333333333333, \"#9c179e\"], [0.4444444444444444, \"#bd3786\"], [0.5555555555555556, \"#d8576b\"], [0.6666666666666666, \"#ed7953\"], [0.7777777777777778, \"#fb9f3a\"], [0.8888888888888888, \"#fdca26\"], [1.0, \"#f0f921\"]], \"type\": \"heatmap\"}], \"heatmapgl\": [{\"colorbar\": {\"outlinewidth\": 0, \"ticks\": \"\"}, \"colorscale\": [[0.0, \"#0d0887\"], [0.1111111111111111, \"#46039f\"], [0.2222222222222222, \"#7201a8\"], [0.3333333333333333, \"#9c179e\"], [0.4444444444444444, \"#bd3786\"], [0.5555555555555556, \"#d8576b\"], [0.6666666666666666, \"#ed7953\"], [0.7777777777777778, \"#fb9f3a\"], [0.8888888888888888, \"#fdca26\"], [1.0, \"#f0f921\"]], \"type\": \"heatmapgl\"}], \"histogram\": [{\"marker\": {\"colorbar\": {\"outlinewidth\": 0, \"ticks\": \"\"}}, \"type\": \"histogram\"}], \"histogram2d\": [{\"colorbar\": {\"outlinewidth\": 0, \"ticks\": \"\"}, \"colorscale\": [[0.0, \"#0d0887\"], [0.1111111111111111, \"#46039f\"], [0.2222222222222222, \"#7201a8\"], [0.3333333333333333, \"#9c179e\"], [0.4444444444444444, \"#bd3786\"], [0.5555555555555556, \"#d8576b\"], [0.6666666666666666, \"#ed7953\"], [0.7777777777777778, \"#fb9f3a\"], [0.8888888888888888, \"#fdca26\"], [1.0, \"#f0f921\"]], \"type\": \"histogram2d\"}], \"histogram2dcontour\": [{\"colorbar\": {\"outlinewidth\": 0, \"ticks\": \"\"}, \"colorscale\": [[0.0, \"#0d0887\"], [0.1111111111111111, \"#46039f\"], [0.2222222222222222, \"#7201a8\"], [0.3333333333333333, \"#9c179e\"], [0.4444444444444444, \"#bd3786\"], [0.5555555555555556, \"#d8576b\"], [0.6666666666666666, \"#ed7953\"], [0.7777777777777778, \"#fb9f3a\"], [0.8888888888888888, \"#fdca26\"], [1.0, \"#f0f921\"]], \"type\": \"histogram2dcontour\"}], \"mesh3d\": [{\"colorbar\": {\"outlinewidth\": 0, \"ticks\": \"\"}, \"type\": \"mesh3d\"}], \"parcoords\": [{\"line\": {\"colorbar\": {\"outlinewidth\": 0, \"ticks\": \"\"}}, \"type\": \"parcoords\"}], \"pie\": [{\"automargin\": true, \"type\": \"pie\"}], \"scatter\": [{\"marker\": {\"colorbar\": {\"outlinewidth\": 0, \"ticks\": \"\"}}, \"type\": \"scatter\"}], \"scatter3d\": [{\"line\": {\"colorbar\": {\"outlinewidth\": 0, \"ticks\": \"\"}}, \"marker\": {\"colorbar\": {\"outlinewidth\": 0, \"ticks\": \"\"}}, \"type\": \"scatter3d\"}], \"scattercarpet\": [{\"marker\": {\"colorbar\": {\"outlinewidth\": 0, \"ticks\": \"\"}}, \"type\": \"scattercarpet\"}], \"scattergeo\": [{\"marker\": {\"colorbar\": {\"outlinewidth\": 0, \"ticks\": \"\"}}, \"type\": \"scattergeo\"}], \"scattergl\": [{\"marker\": {\"colorbar\": {\"outlinewidth\": 0, \"ticks\": \"\"}}, \"type\": \"scattergl\"}], \"scattermapbox\": [{\"marker\": {\"colorbar\": {\"outlinewidth\": 0, \"ticks\": \"\"}}, \"type\": \"scattermapbox\"}], \"scatterpolar\": [{\"marker\": {\"colorbar\": {\"outlinewidth\": 0, \"ticks\": \"\"}}, \"type\": \"scatterpolar\"}], \"scatterpolargl\": [{\"marker\": {\"colorbar\": {\"outlinewidth\": 0, \"ticks\": \"\"}}, \"type\": \"scatterpolargl\"}], \"scatterternary\": [{\"marker\": {\"colorbar\": {\"outlinewidth\": 0, \"ticks\": \"\"}}, \"type\": \"scatterternary\"}], \"surface\": [{\"colorbar\": {\"outlinewidth\": 0, \"ticks\": \"\"}, \"colorscale\": [[0.0, \"#0d0887\"], [0.1111111111111111, \"#46039f\"], [0.2222222222222222, \"#7201a8\"], [0.3333333333333333, \"#9c179e\"], [0.4444444444444444, \"#bd3786\"], [0.5555555555555556, \"#d8576b\"], [0.6666666666666666, \"#ed7953\"], [0.7777777777777778, \"#fb9f3a\"], [0.8888888888888888, \"#fdca26\"], [1.0, \"#f0f921\"]], \"type\": \"surface\"}], \"table\": [{\"cells\": {\"fill\": {\"color\": \"#EBF0F8\"}, \"line\": {\"color\": \"white\"}}, \"header\": {\"fill\": {\"color\": \"#C8D4E3\"}, \"line\": {\"color\": \"white\"}}, \"type\": \"table\"}]}, \"layout\": {\"annotationdefaults\": {\"arrowcolor\": \"#2a3f5f\", \"arrowhead\": 0, \"arrowwidth\": 1}, \"autotypenumbers\": \"strict\", \"coloraxis\": {\"colorbar\": {\"outlinewidth\": 0, \"ticks\": \"\"}}, \"colorscale\": {\"diverging\": [[0, \"#8e0152\"], [0.1, \"#c51b7d\"], [0.2, \"#de77ae\"], [0.3, \"#f1b6da\"], [0.4, \"#fde0ef\"], [0.5, \"#f7f7f7\"], [0.6, \"#e6f5d0\"], [0.7, \"#b8e186\"], [0.8, \"#7fbc41\"], [0.9, \"#4d9221\"], [1, \"#276419\"]], \"sequential\": [[0.0, \"#0d0887\"], [0.1111111111111111, \"#46039f\"], [0.2222222222222222, \"#7201a8\"], [0.3333333333333333, \"#9c179e\"], [0.4444444444444444, \"#bd3786\"], [0.5555555555555556, \"#d8576b\"], [0.6666666666666666, \"#ed7953\"], [0.7777777777777778, \"#fb9f3a\"], [0.8888888888888888, \"#fdca26\"], [1.0, \"#f0f921\"]], \"sequentialminus\": [[0.0, \"#0d0887\"], [0.1111111111111111, \"#46039f\"], [0.2222222222222222, \"#7201a8\"], [0.3333333333333333, \"#9c179e\"], [0.4444444444444444, \"#bd3786\"], [0.5555555555555556, \"#d8576b\"], [0.6666666666666666, \"#ed7953\"], [0.7777777777777778, \"#fb9f3a\"], [0.8888888888888888, \"#fdca26\"], [1.0, \"#f0f921\"]]}, \"colorway\": [\"#636efa\", \"#EF553B\", \"#00cc96\", \"#ab63fa\", \"#FFA15A\", \"#19d3f3\", \"#FF6692\", \"#B6E880\", \"#FF97FF\", \"#FECB52\"], \"font\": {\"color\": \"#2a3f5f\"}, \"geo\": {\"bgcolor\": \"white\", \"lakecolor\": \"white\", \"landcolor\": \"#E5ECF6\", \"showlakes\": true, \"showland\": true, \"subunitcolor\": \"white\"}, \"hoverlabel\": {\"align\": \"left\"}, \"hovermode\": \"closest\", \"mapbox\": {\"style\": \"light\"}, \"paper_bgcolor\": \"white\", \"plot_bgcolor\": \"#E5ECF6\", \"polar\": {\"angularaxis\": {\"gridcolor\": \"white\", \"linecolor\": \"white\", \"ticks\": \"\"}, \"bgcolor\": \"#E5ECF6\", \"radialaxis\": {\"gridcolor\": \"white\", \"linecolor\": \"white\", \"ticks\": \"\"}}, \"scene\": {\"xaxis\": {\"backgroundcolor\": \"#E5ECF6\", \"gridcolor\": \"white\", \"gridwidth\": 2, \"linecolor\": \"white\", \"showbackground\": true, \"ticks\": \"\", \"zerolinecolor\": \"white\"}, \"yaxis\": {\"backgroundcolor\": \"#E5ECF6\", \"gridcolor\": \"white\", \"gridwidth\": 2, \"linecolor\": \"white\", \"showbackground\": true, \"ticks\": \"\", \"zerolinecolor\": \"white\"}, \"zaxis\": {\"backgroundcolor\": \"#E5ECF6\", \"gridcolor\": \"white\", \"gridwidth\": 2, \"linecolor\": \"white\", \"showbackground\": true, \"ticks\": \"\", \"zerolinecolor\": \"white\"}}, \"shapedefaults\": {\"line\": {\"color\": \"#2a3f5f\"}}, \"ternary\": {\"aaxis\": {\"gridcolor\": \"white\", \"linecolor\": \"white\", \"ticks\": \"\"}, \"baxis\": {\"gridcolor\": \"white\", \"linecolor\": \"white\", \"ticks\": \"\"}, \"bgcolor\": \"#E5ECF6\", \"caxis\": {\"gridcolor\": \"white\", \"linecolor\": \"white\", \"ticks\": \"\"}}, \"title\": {\"x\": 0.05}, \"xaxis\": {\"automargin\": true, \"gridcolor\": \"white\", \"linecolor\": \"white\", \"ticks\": \"\", \"title\": {\"standoff\": 15}, \"zerolinecolor\": \"white\", \"zerolinewidth\": 2}, \"yaxis\": {\"automargin\": true, \"gridcolor\": \"white\", \"linecolor\": \"white\", \"ticks\": \"\", \"title\": {\"standoff\": 15}, \"zerolinecolor\": \"white\", \"zerolinewidth\": 2}}}, \"xaxis\": {\"anchor\": \"y\", \"domain\": [0.0, 1.0], \"title\": {\"text\": \"CDD\"}}, \"yaxis\": {\"anchor\": \"x\", \"domain\": [0.0, 1.0], \"title\": {\"text\": \"count\"}}},                        {\"responsive\": true}                    ).then(function(){\n",
       "                            \n",
       "var gd = document.getElementById('31497596-c7fb-4661-80e6-75234474aa7f');\n",
       "var x = new MutationObserver(function (mutations, observer) {{\n",
       "        var display = window.getComputedStyle(gd).display;\n",
       "        if (!display || display === 'none') {{\n",
       "            console.log([gd, 'removed!']);\n",
       "            Plotly.purge(gd);\n",
       "            observer.disconnect();\n",
       "        }}\n",
       "}});\n",
       "\n",
       "// Listen for the removal of the full notebook cells\n",
       "var notebookContainer = gd.closest('#notebook-container');\n",
       "if (notebookContainer) {{\n",
       "    x.observe(notebookContainer, {childList: true});\n",
       "}}\n",
       "\n",
       "// Listen for the clearing of the current output cell\n",
       "var outputEl = gd.closest('.output');\n",
       "if (outputEl) {{\n",
       "    x.observe(outputEl, {childList: true});\n",
       "}}\n",
       "\n",
       "                        })                };                });            </script>        </div>"
      ]
     },
     "metadata": {},
     "output_type": "display_data"
    }
   ],
   "source": [
    "fig = px.histogram(data_clean1, x=\"CDD\")\n",
    "fig.show()"
   ]
  },
  {
   "cell_type": "code",
   "execution_count": 42,
   "metadata": {},
   "outputs": [
    {
     "data": {
      "application/vnd.plotly.v1+json": {
       "config": {
        "plotlyServerURL": "https://plot.ly"
       },
       "data": [
        {
         "alignmentgroup": "True",
         "bingroup": "x",
         "hovertemplate": "CDD=%{x}<br>count=%{y}<extra></extra>",
         "legendgroup": "",
         "marker": {
          "color": "#636efa"
         },
         "name": "",
         "offsetgroup": "",
         "orientation": "v",
         "showlegend": false,
         "type": "histogram",
         "x": [
          169,
          115,
          24,
          176,
          99,
          11,
          4,
          5,
          1,
          1,
          0,
          7,
          13,
          4,
          3,
          5,
          26,
          0,
          272,
          369,
          0,
          611,
          321,
          220,
          0,
          8,
          24,
          9,
          8,
          15,
          11,
          12,
          17,
          17,
          9,
          10,
          12,
          3,
          5,
          6,
          7,
          3,
          10,
          15,
          10,
          9,
          1,
          4,
          5,
          7,
          4,
          2,
          10,
          9,
          2,
          8,
          36,
          8,
          4,
          11,
          10,
          3,
          3,
          11,
          7,
          7,
          11,
          10,
          9,
          4,
          9,
          2,
          13,
          4,
          3,
          4,
          12,
          13,
          5,
          7,
          192,
          228,
          443,
          65,
          271,
          5,
          1,
          9,
          3,
          458,
          200,
          6,
          2,
          0,
          0,
          105,
          385,
          2,
          138,
          152,
          7,
          7,
          52,
          0,
          0,
          2,
          4,
          7,
          7,
          3,
          5,
          5,
          0,
          0,
          26,
          6,
          7,
          6,
          0,
          5,
          79,
          3,
          4,
          22,
          94,
          29,
          15,
          1,
          33,
          6,
          12,
          2,
          183,
          23,
          224,
          74,
          232,
          66,
          24,
          13,
          295,
          153,
          60,
          37,
          129,
          31,
          90,
          28,
          79,
          81,
          53,
          10,
          87,
          73,
          166,
          165,
          157,
          82,
          108,
          133,
          112,
          110,
          153,
          298,
          149,
          159,
          77,
          140,
          237,
          103,
          68,
          15,
          253,
          14,
          143,
          80,
          64,
          174,
          66,
          54,
          159,
          20,
          104,
          52,
          7,
          35,
          176,
          44,
          5,
          188,
          103,
          141,
          8,
          41,
          111,
          22,
          151,
          10,
          92,
          70,
          70,
          72,
          47,
          111,
          30,
          109,
          129,
          13,
          864,
          16,
          648,
          277,
          1,
          423,
          38,
          13,
          192,
          97,
          14,
          20,
          1,
          39,
          865,
          697,
          8,
          1024,
          13,
          1107,
          440,
          0,
          14,
          145,
          10,
          1023,
          350,
          469,
          1034,
          832,
          709,
          501,
          42,
          1,
          27,
          0,
          33,
          37,
          36,
          30,
          7,
          36,
          28,
          25,
          2,
          16,
          23,
          6,
          15,
          8,
          0,
          0,
          0,
          0,
          0,
          0,
          0,
          0,
          0,
          0,
          0,
          0,
          0,
          0,
          0,
          0,
          0,
          0,
          0,
          0,
          0,
          0,
          0,
          0,
          0,
          0,
          0,
          0,
          0,
          0,
          0,
          0,
          0,
          0,
          0,
          698,
          564,
          344,
          246,
          65,
          12,
          690,
          119,
          646,
          230,
          704,
          45,
          1193,
          690,
          992,
          6,
          43,
          81,
          32,
          650,
          330,
          1,
          38,
          552,
          186,
          18,
          543,
          262,
          756,
          107,
          1080,
          11,
          136,
          3,
          285,
          63,
          526,
          6,
          715,
          19,
          20,
          485,
          8,
          8,
          905,
          228,
          89,
          706,
          271,
          9,
          39,
          13,
          31,
          622,
          262,
          81,
          26,
          311,
          74,
          688,
          481,
          51,
          86,
          16,
          23,
          251,
          168,
          336,
          500,
          28,
          260,
          9,
          421,
          281,
          349,
          376,
          23,
          109,
          98,
          12,
          502,
          103,
          713,
          624,
          24,
          398,
          37,
          59,
          251,
          12,
          513,
          8,
          28,
          123,
          17,
          426,
          68,
          39,
          47,
          366,
          21,
          29,
          164,
          151,
          60,
          435,
          227,
          146,
          93,
          806,
          214,
          24,
          168,
          120,
          15,
          550,
          141,
          221,
          23
         ],
         "xaxis": "x",
         "yaxis": "y"
        }
       ],
       "layout": {
        "barmode": "relative",
        "legend": {
         "tracegroupgap": 0
        },
        "margin": {
         "t": 60
        },
        "template": {
         "data": {
          "bar": [
           {
            "error_x": {
             "color": "#2a3f5f"
            },
            "error_y": {
             "color": "#2a3f5f"
            },
            "marker": {
             "line": {
              "color": "#E5ECF6",
              "width": 0.5
             }
            },
            "type": "bar"
           }
          ],
          "barpolar": [
           {
            "marker": {
             "line": {
              "color": "#E5ECF6",
              "width": 0.5
             }
            },
            "type": "barpolar"
           }
          ],
          "carpet": [
           {
            "aaxis": {
             "endlinecolor": "#2a3f5f",
             "gridcolor": "white",
             "linecolor": "white",
             "minorgridcolor": "white",
             "startlinecolor": "#2a3f5f"
            },
            "baxis": {
             "endlinecolor": "#2a3f5f",
             "gridcolor": "white",
             "linecolor": "white",
             "minorgridcolor": "white",
             "startlinecolor": "#2a3f5f"
            },
            "type": "carpet"
           }
          ],
          "choropleth": [
           {
            "colorbar": {
             "outlinewidth": 0,
             "ticks": ""
            },
            "type": "choropleth"
           }
          ],
          "contour": [
           {
            "colorbar": {
             "outlinewidth": 0,
             "ticks": ""
            },
            "colorscale": [
             [
              0,
              "#0d0887"
             ],
             [
              0.1111111111111111,
              "#46039f"
             ],
             [
              0.2222222222222222,
              "#7201a8"
             ],
             [
              0.3333333333333333,
              "#9c179e"
             ],
             [
              0.4444444444444444,
              "#bd3786"
             ],
             [
              0.5555555555555556,
              "#d8576b"
             ],
             [
              0.6666666666666666,
              "#ed7953"
             ],
             [
              0.7777777777777778,
              "#fb9f3a"
             ],
             [
              0.8888888888888888,
              "#fdca26"
             ],
             [
              1,
              "#f0f921"
             ]
            ],
            "type": "contour"
           }
          ],
          "contourcarpet": [
           {
            "colorbar": {
             "outlinewidth": 0,
             "ticks": ""
            },
            "type": "contourcarpet"
           }
          ],
          "heatmap": [
           {
            "colorbar": {
             "outlinewidth": 0,
             "ticks": ""
            },
            "colorscale": [
             [
              0,
              "#0d0887"
             ],
             [
              0.1111111111111111,
              "#46039f"
             ],
             [
              0.2222222222222222,
              "#7201a8"
             ],
             [
              0.3333333333333333,
              "#9c179e"
             ],
             [
              0.4444444444444444,
              "#bd3786"
             ],
             [
              0.5555555555555556,
              "#d8576b"
             ],
             [
              0.6666666666666666,
              "#ed7953"
             ],
             [
              0.7777777777777778,
              "#fb9f3a"
             ],
             [
              0.8888888888888888,
              "#fdca26"
             ],
             [
              1,
              "#f0f921"
             ]
            ],
            "type": "heatmap"
           }
          ],
          "heatmapgl": [
           {
            "colorbar": {
             "outlinewidth": 0,
             "ticks": ""
            },
            "colorscale": [
             [
              0,
              "#0d0887"
             ],
             [
              0.1111111111111111,
              "#46039f"
             ],
             [
              0.2222222222222222,
              "#7201a8"
             ],
             [
              0.3333333333333333,
              "#9c179e"
             ],
             [
              0.4444444444444444,
              "#bd3786"
             ],
             [
              0.5555555555555556,
              "#d8576b"
             ],
             [
              0.6666666666666666,
              "#ed7953"
             ],
             [
              0.7777777777777778,
              "#fb9f3a"
             ],
             [
              0.8888888888888888,
              "#fdca26"
             ],
             [
              1,
              "#f0f921"
             ]
            ],
            "type": "heatmapgl"
           }
          ],
          "histogram": [
           {
            "marker": {
             "colorbar": {
              "outlinewidth": 0,
              "ticks": ""
             }
            },
            "type": "histogram"
           }
          ],
          "histogram2d": [
           {
            "colorbar": {
             "outlinewidth": 0,
             "ticks": ""
            },
            "colorscale": [
             [
              0,
              "#0d0887"
             ],
             [
              0.1111111111111111,
              "#46039f"
             ],
             [
              0.2222222222222222,
              "#7201a8"
             ],
             [
              0.3333333333333333,
              "#9c179e"
             ],
             [
              0.4444444444444444,
              "#bd3786"
             ],
             [
              0.5555555555555556,
              "#d8576b"
             ],
             [
              0.6666666666666666,
              "#ed7953"
             ],
             [
              0.7777777777777778,
              "#fb9f3a"
             ],
             [
              0.8888888888888888,
              "#fdca26"
             ],
             [
              1,
              "#f0f921"
             ]
            ],
            "type": "histogram2d"
           }
          ],
          "histogram2dcontour": [
           {
            "colorbar": {
             "outlinewidth": 0,
             "ticks": ""
            },
            "colorscale": [
             [
              0,
              "#0d0887"
             ],
             [
              0.1111111111111111,
              "#46039f"
             ],
             [
              0.2222222222222222,
              "#7201a8"
             ],
             [
              0.3333333333333333,
              "#9c179e"
             ],
             [
              0.4444444444444444,
              "#bd3786"
             ],
             [
              0.5555555555555556,
              "#d8576b"
             ],
             [
              0.6666666666666666,
              "#ed7953"
             ],
             [
              0.7777777777777778,
              "#fb9f3a"
             ],
             [
              0.8888888888888888,
              "#fdca26"
             ],
             [
              1,
              "#f0f921"
             ]
            ],
            "type": "histogram2dcontour"
           }
          ],
          "mesh3d": [
           {
            "colorbar": {
             "outlinewidth": 0,
             "ticks": ""
            },
            "type": "mesh3d"
           }
          ],
          "parcoords": [
           {
            "line": {
             "colorbar": {
              "outlinewidth": 0,
              "ticks": ""
             }
            },
            "type": "parcoords"
           }
          ],
          "pie": [
           {
            "automargin": true,
            "type": "pie"
           }
          ],
          "scatter": [
           {
            "marker": {
             "colorbar": {
              "outlinewidth": 0,
              "ticks": ""
             }
            },
            "type": "scatter"
           }
          ],
          "scatter3d": [
           {
            "line": {
             "colorbar": {
              "outlinewidth": 0,
              "ticks": ""
             }
            },
            "marker": {
             "colorbar": {
              "outlinewidth": 0,
              "ticks": ""
             }
            },
            "type": "scatter3d"
           }
          ],
          "scattercarpet": [
           {
            "marker": {
             "colorbar": {
              "outlinewidth": 0,
              "ticks": ""
             }
            },
            "type": "scattercarpet"
           }
          ],
          "scattergeo": [
           {
            "marker": {
             "colorbar": {
              "outlinewidth": 0,
              "ticks": ""
             }
            },
            "type": "scattergeo"
           }
          ],
          "scattergl": [
           {
            "marker": {
             "colorbar": {
              "outlinewidth": 0,
              "ticks": ""
             }
            },
            "type": "scattergl"
           }
          ],
          "scattermapbox": [
           {
            "marker": {
             "colorbar": {
              "outlinewidth": 0,
              "ticks": ""
             }
            },
            "type": "scattermapbox"
           }
          ],
          "scatterpolar": [
           {
            "marker": {
             "colorbar": {
              "outlinewidth": 0,
              "ticks": ""
             }
            },
            "type": "scatterpolar"
           }
          ],
          "scatterpolargl": [
           {
            "marker": {
             "colorbar": {
              "outlinewidth": 0,
              "ticks": ""
             }
            },
            "type": "scatterpolargl"
           }
          ],
          "scatterternary": [
           {
            "marker": {
             "colorbar": {
              "outlinewidth": 0,
              "ticks": ""
             }
            },
            "type": "scatterternary"
           }
          ],
          "surface": [
           {
            "colorbar": {
             "outlinewidth": 0,
             "ticks": ""
            },
            "colorscale": [
             [
              0,
              "#0d0887"
             ],
             [
              0.1111111111111111,
              "#46039f"
             ],
             [
              0.2222222222222222,
              "#7201a8"
             ],
             [
              0.3333333333333333,
              "#9c179e"
             ],
             [
              0.4444444444444444,
              "#bd3786"
             ],
             [
              0.5555555555555556,
              "#d8576b"
             ],
             [
              0.6666666666666666,
              "#ed7953"
             ],
             [
              0.7777777777777778,
              "#fb9f3a"
             ],
             [
              0.8888888888888888,
              "#fdca26"
             ],
             [
              1,
              "#f0f921"
             ]
            ],
            "type": "surface"
           }
          ],
          "table": [
           {
            "cells": {
             "fill": {
              "color": "#EBF0F8"
             },
             "line": {
              "color": "white"
             }
            },
            "header": {
             "fill": {
              "color": "#C8D4E3"
             },
             "line": {
              "color": "white"
             }
            },
            "type": "table"
           }
          ]
         },
         "layout": {
          "annotationdefaults": {
           "arrowcolor": "#2a3f5f",
           "arrowhead": 0,
           "arrowwidth": 1
          },
          "autotypenumbers": "strict",
          "coloraxis": {
           "colorbar": {
            "outlinewidth": 0,
            "ticks": ""
           }
          },
          "colorscale": {
           "diverging": [
            [
             0,
             "#8e0152"
            ],
            [
             0.1,
             "#c51b7d"
            ],
            [
             0.2,
             "#de77ae"
            ],
            [
             0.3,
             "#f1b6da"
            ],
            [
             0.4,
             "#fde0ef"
            ],
            [
             0.5,
             "#f7f7f7"
            ],
            [
             0.6,
             "#e6f5d0"
            ],
            [
             0.7,
             "#b8e186"
            ],
            [
             0.8,
             "#7fbc41"
            ],
            [
             0.9,
             "#4d9221"
            ],
            [
             1,
             "#276419"
            ]
           ],
           "sequential": [
            [
             0,
             "#0d0887"
            ],
            [
             0.1111111111111111,
             "#46039f"
            ],
            [
             0.2222222222222222,
             "#7201a8"
            ],
            [
             0.3333333333333333,
             "#9c179e"
            ],
            [
             0.4444444444444444,
             "#bd3786"
            ],
            [
             0.5555555555555556,
             "#d8576b"
            ],
            [
             0.6666666666666666,
             "#ed7953"
            ],
            [
             0.7777777777777778,
             "#fb9f3a"
            ],
            [
             0.8888888888888888,
             "#fdca26"
            ],
            [
             1,
             "#f0f921"
            ]
           ],
           "sequentialminus": [
            [
             0,
             "#0d0887"
            ],
            [
             0.1111111111111111,
             "#46039f"
            ],
            [
             0.2222222222222222,
             "#7201a8"
            ],
            [
             0.3333333333333333,
             "#9c179e"
            ],
            [
             0.4444444444444444,
             "#bd3786"
            ],
            [
             0.5555555555555556,
             "#d8576b"
            ],
            [
             0.6666666666666666,
             "#ed7953"
            ],
            [
             0.7777777777777778,
             "#fb9f3a"
            ],
            [
             0.8888888888888888,
             "#fdca26"
            ],
            [
             1,
             "#f0f921"
            ]
           ]
          },
          "colorway": [
           "#636efa",
           "#EF553B",
           "#00cc96",
           "#ab63fa",
           "#FFA15A",
           "#19d3f3",
           "#FF6692",
           "#B6E880",
           "#FF97FF",
           "#FECB52"
          ],
          "font": {
           "color": "#2a3f5f"
          },
          "geo": {
           "bgcolor": "white",
           "lakecolor": "white",
           "landcolor": "#E5ECF6",
           "showlakes": true,
           "showland": true,
           "subunitcolor": "white"
          },
          "hoverlabel": {
           "align": "left"
          },
          "hovermode": "closest",
          "mapbox": {
           "style": "light"
          },
          "paper_bgcolor": "white",
          "plot_bgcolor": "#E5ECF6",
          "polar": {
           "angularaxis": {
            "gridcolor": "white",
            "linecolor": "white",
            "ticks": ""
           },
           "bgcolor": "#E5ECF6",
           "radialaxis": {
            "gridcolor": "white",
            "linecolor": "white",
            "ticks": ""
           }
          },
          "scene": {
           "xaxis": {
            "backgroundcolor": "#E5ECF6",
            "gridcolor": "white",
            "gridwidth": 2,
            "linecolor": "white",
            "showbackground": true,
            "ticks": "",
            "zerolinecolor": "white"
           },
           "yaxis": {
            "backgroundcolor": "#E5ECF6",
            "gridcolor": "white",
            "gridwidth": 2,
            "linecolor": "white",
            "showbackground": true,
            "ticks": "",
            "zerolinecolor": "white"
           },
           "zaxis": {
            "backgroundcolor": "#E5ECF6",
            "gridcolor": "white",
            "gridwidth": 2,
            "linecolor": "white",
            "showbackground": true,
            "ticks": "",
            "zerolinecolor": "white"
           }
          },
          "shapedefaults": {
           "line": {
            "color": "#2a3f5f"
           }
          },
          "ternary": {
           "aaxis": {
            "gridcolor": "white",
            "linecolor": "white",
            "ticks": ""
           },
           "baxis": {
            "gridcolor": "white",
            "linecolor": "white",
            "ticks": ""
           },
           "bgcolor": "#E5ECF6",
           "caxis": {
            "gridcolor": "white",
            "linecolor": "white",
            "ticks": ""
           }
          },
          "title": {
           "x": 0.05
          },
          "xaxis": {
           "automargin": true,
           "gridcolor": "white",
           "linecolor": "white",
           "ticks": "",
           "title": {
            "standoff": 15
           },
           "zerolinecolor": "white",
           "zerolinewidth": 2
          },
          "yaxis": {
           "automargin": true,
           "gridcolor": "white",
           "linecolor": "white",
           "ticks": "",
           "title": {
            "standoff": 15
           },
           "zerolinecolor": "white",
           "zerolinewidth": 2
          }
         }
        },
        "xaxis": {
         "anchor": "y",
         "domain": [
          0,
          1
         ],
         "title": {
          "text": "CDD"
         }
        },
        "yaxis": {
         "anchor": "x",
         "domain": [
          0,
          1
         ],
         "title": {
          "text": "count"
         }
        }
       }
      },
      "text/html": [
       "<div>                            <div id=\"46821b0c-0ec7-4469-b392-16a8e81abc9e\" class=\"plotly-graph-div\" style=\"height:525px; width:100%;\"></div>            <script type=\"text/javascript\">                require([\"plotly\"], function(Plotly) {                    window.PLOTLYENV=window.PLOTLYENV || {};                                    if (document.getElementById(\"46821b0c-0ec7-4469-b392-16a8e81abc9e\")) {                    Plotly.newPlot(                        \"46821b0c-0ec7-4469-b392-16a8e81abc9e\",                        [{\"alignmentgroup\": \"True\", \"bingroup\": \"x\", \"hovertemplate\": \"CDD=%{x}<br>count=%{y}<extra></extra>\", \"legendgroup\": \"\", \"marker\": {\"color\": \"#636efa\"}, \"name\": \"\", \"offsetgroup\": \"\", \"orientation\": \"v\", \"showlegend\": false, \"type\": \"histogram\", \"x\": [169.0, 115.0, 24.0, 176.0, 99.0, 11.0, 4.0, 5.0, 1.0, 1.0, 0.0, 7.0, 13.0, 4.0, 3.0, 5.0, 26.0, 0.0, 272.0, 369.0, 0.0, 611.0, 321.0, 220.0, 0.0, 8.0, 24.0, 9.0, 8.0, 15.0, 11.0, 12.0, 17.0, 17.0, 9.0, 10.0, 12.0, 3.0, 5.0, 6.0, 7.0, 3.0, 10.0, 15.0, 10.0, 9.0, 1.0, 4.0, 5.0, 7.0, 4.0, 2.0, 10.0, 9.0, 2.0, 8.0, 36.0, 8.0, 4.0, 11.0, 10.0, 3.0, 3.0, 11.0, 7.0, 7.0, 11.0, 10.0, 9.0, 4.0, 9.0, 2.0, 13.0, 4.0, 3.0, 4.0, 12.0, 13.0, 5.0, 7.0, 192.0, 228.0, 443.0, 65.0, 271.0, 5.0, 1.0, 9.0, 3.0, 458.0, 200.0, 6.0, 2.0, 0.0, 0.0, 105.0, 385.0, 2.0, 138.0, 152.0, 7.0, 7.0, 52.0, 0.0, 0.0, 2.0, 4.0, 7.0, 7.0, 3.0, 5.0, 5.0, 0.0, 0.0, 26.0, 6.0, 7.0, 6.0, 0.0, 5.0, 79.0, 3.0, 4.0, 22.0, 94.0, 29.0, 15.0, 1.0, 33.0, 6.0, 12.0, 2.0, 183.0, 23.0, 224.0, 74.0, 232.0, 66.0, 24.0, 13.0, 295.0, 153.0, 60.0, 37.0, 129.0, 31.0, 90.0, 28.0, 79.0, 81.0, 53.0, 10.0, 87.0, 73.0, 166.0, 165.0, 157.0, 82.0, 108.0, 133.0, 112.0, 110.0, 153.0, 298.0, 149.0, 159.0, 77.0, 140.0, 237.0, 103.0, 68.0, 15.0, 253.0, 14.0, 143.0, 80.0, 64.0, 174.0, 66.0, 54.0, 159.0, 20.0, 104.0, 52.0, 7.0, 35.0, 176.0, 44.0, 5.0, 188.0, 103.0, 141.0, 8.0, 41.0, 111.0, 22.0, 151.0, 10.0, 92.0, 70.0, 70.0, 72.0, 47.0, 111.0, 30.0, 109.0, 129.0, 13.0, 864.0, 16.0, 648.0, 277.0, 1.0, 423.0, 38.0, 13.0, 192.0, 97.0, 14.0, 20.0, 1.0, 39.0, 865.0, 697.0, 8.0, 1024.0, 13.0, 1107.0, 440.0, 0.0, 14.0, 145.0, 10.0, 1023.0, 350.0, 469.0, 1034.0, 832.0, 709.0, 501.0, 42.0, 1.0, 27.0, 0.0, 33.0, 37.0, 36.0, 30.0, 7.0, 36.0, 28.0, 25.0, 2.0, 16.0, 23.0, 6.0, 15.0, 8.0, 0.0, 0.0, 0.0, 0.0, 0.0, 0.0, 0.0, 0.0, 0.0, 0.0, 0.0, 0.0, 0.0, 0.0, 0.0, 0.0, 0.0, 0.0, 0.0, 0.0, 0.0, 0.0, 0.0, 0.0, 0.0, 0.0, 0.0, 0.0, 0.0, 0.0, 0.0, 0.0, 0.0, 0.0, 0.0, 698.0, 564.0, 344.0, 246.0, 65.0, 12.0, 690.0, 119.0, 646.0, 230.0, 704.0, 45.0, 1193.0, 690.0, 992.0, 6.0, 43.0, 81.0, 32.0, 650.0, 330.0, 1.0, 38.0, 552.0, 186.0, 18.0, 543.0, 262.0, 756.0, 107.0, 1080.0, 11.0, 136.0, 3.0, 285.0, 63.0, 526.0, 6.0, 715.0, 19.0, 20.0, 485.0, 8.0, 8.0, 905.0, 228.0, 89.0, 706.0, 271.0, 9.0, 39.0, 13.0, 31.0, 622.0, 262.0, 81.0, 26.0, 311.0, 74.0, 688.0, 481.0, 51.0, 86.0, 16.0, 23.0, 251.0, 168.0, 336.0, 500.0, 28.0, 260.0, 9.0, 421.0, 281.0, 349.0, 376.0, 23.0, 109.0, 98.0, 12.0, 502.0, 103.0, 713.0, 624.0, 24.0, 398.0, 37.0, 59.0, 251.0, 12.0, 513.0, 8.0, 28.0, 123.0, 17.0, 426.0, 68.0, 39.0, 47.0, 366.0, 21.0, 29.0, 164.0, 151.0, 60.0, 435.0, 227.0, 146.0, 93.0, 806.0, 214.0, 24.0, 168.0, 120.0, 15.0, 550.0, 141.0, 221.0, 23.0], \"xaxis\": \"x\", \"yaxis\": \"y\"}],                        {\"barmode\": \"relative\", \"legend\": {\"tracegroupgap\": 0}, \"margin\": {\"t\": 60}, \"template\": {\"data\": {\"bar\": [{\"error_x\": {\"color\": \"#2a3f5f\"}, \"error_y\": {\"color\": \"#2a3f5f\"}, \"marker\": {\"line\": {\"color\": \"#E5ECF6\", \"width\": 0.5}}, \"type\": \"bar\"}], \"barpolar\": [{\"marker\": {\"line\": {\"color\": \"#E5ECF6\", \"width\": 0.5}}, \"type\": \"barpolar\"}], \"carpet\": [{\"aaxis\": {\"endlinecolor\": \"#2a3f5f\", \"gridcolor\": \"white\", \"linecolor\": \"white\", \"minorgridcolor\": \"white\", \"startlinecolor\": \"#2a3f5f\"}, \"baxis\": {\"endlinecolor\": \"#2a3f5f\", \"gridcolor\": \"white\", \"linecolor\": \"white\", \"minorgridcolor\": \"white\", \"startlinecolor\": \"#2a3f5f\"}, \"type\": \"carpet\"}], \"choropleth\": [{\"colorbar\": {\"outlinewidth\": 0, \"ticks\": \"\"}, \"type\": \"choropleth\"}], \"contour\": [{\"colorbar\": {\"outlinewidth\": 0, \"ticks\": \"\"}, \"colorscale\": [[0.0, \"#0d0887\"], [0.1111111111111111, \"#46039f\"], [0.2222222222222222, \"#7201a8\"], [0.3333333333333333, \"#9c179e\"], [0.4444444444444444, \"#bd3786\"], [0.5555555555555556, \"#d8576b\"], [0.6666666666666666, \"#ed7953\"], [0.7777777777777778, \"#fb9f3a\"], [0.8888888888888888, \"#fdca26\"], [1.0, \"#f0f921\"]], \"type\": \"contour\"}], \"contourcarpet\": [{\"colorbar\": {\"outlinewidth\": 0, \"ticks\": \"\"}, \"type\": \"contourcarpet\"}], \"heatmap\": [{\"colorbar\": {\"outlinewidth\": 0, \"ticks\": \"\"}, \"colorscale\": [[0.0, \"#0d0887\"], [0.1111111111111111, \"#46039f\"], [0.2222222222222222, \"#7201a8\"], [0.3333333333333333, \"#9c179e\"], [0.4444444444444444, \"#bd3786\"], [0.5555555555555556, \"#d8576b\"], [0.6666666666666666, \"#ed7953\"], [0.7777777777777778, \"#fb9f3a\"], [0.8888888888888888, \"#fdca26\"], [1.0, \"#f0f921\"]], \"type\": \"heatmap\"}], \"heatmapgl\": [{\"colorbar\": {\"outlinewidth\": 0, \"ticks\": \"\"}, \"colorscale\": [[0.0, \"#0d0887\"], [0.1111111111111111, \"#46039f\"], [0.2222222222222222, \"#7201a8\"], [0.3333333333333333, \"#9c179e\"], [0.4444444444444444, \"#bd3786\"], [0.5555555555555556, \"#d8576b\"], [0.6666666666666666, \"#ed7953\"], [0.7777777777777778, \"#fb9f3a\"], [0.8888888888888888, \"#fdca26\"], [1.0, \"#f0f921\"]], \"type\": \"heatmapgl\"}], \"histogram\": [{\"marker\": {\"colorbar\": {\"outlinewidth\": 0, \"ticks\": \"\"}}, \"type\": \"histogram\"}], \"histogram2d\": [{\"colorbar\": {\"outlinewidth\": 0, \"ticks\": \"\"}, \"colorscale\": [[0.0, \"#0d0887\"], [0.1111111111111111, \"#46039f\"], [0.2222222222222222, \"#7201a8\"], [0.3333333333333333, \"#9c179e\"], [0.4444444444444444, \"#bd3786\"], [0.5555555555555556, \"#d8576b\"], [0.6666666666666666, \"#ed7953\"], [0.7777777777777778, \"#fb9f3a\"], [0.8888888888888888, \"#fdca26\"], [1.0, \"#f0f921\"]], \"type\": \"histogram2d\"}], \"histogram2dcontour\": [{\"colorbar\": {\"outlinewidth\": 0, \"ticks\": \"\"}, \"colorscale\": [[0.0, \"#0d0887\"], [0.1111111111111111, \"#46039f\"], [0.2222222222222222, \"#7201a8\"], [0.3333333333333333, \"#9c179e\"], [0.4444444444444444, \"#bd3786\"], [0.5555555555555556, \"#d8576b\"], [0.6666666666666666, \"#ed7953\"], [0.7777777777777778, \"#fb9f3a\"], [0.8888888888888888, \"#fdca26\"], [1.0, \"#f0f921\"]], \"type\": \"histogram2dcontour\"}], \"mesh3d\": [{\"colorbar\": {\"outlinewidth\": 0, \"ticks\": \"\"}, \"type\": \"mesh3d\"}], \"parcoords\": [{\"line\": {\"colorbar\": {\"outlinewidth\": 0, \"ticks\": \"\"}}, \"type\": \"parcoords\"}], \"pie\": [{\"automargin\": true, \"type\": \"pie\"}], \"scatter\": [{\"marker\": {\"colorbar\": {\"outlinewidth\": 0, \"ticks\": \"\"}}, \"type\": \"scatter\"}], \"scatter3d\": [{\"line\": {\"colorbar\": {\"outlinewidth\": 0, \"ticks\": \"\"}}, \"marker\": {\"colorbar\": {\"outlinewidth\": 0, \"ticks\": \"\"}}, \"type\": \"scatter3d\"}], \"scattercarpet\": [{\"marker\": {\"colorbar\": {\"outlinewidth\": 0, \"ticks\": \"\"}}, \"type\": \"scattercarpet\"}], \"scattergeo\": [{\"marker\": {\"colorbar\": {\"outlinewidth\": 0, \"ticks\": \"\"}}, \"type\": \"scattergeo\"}], \"scattergl\": [{\"marker\": {\"colorbar\": {\"outlinewidth\": 0, \"ticks\": \"\"}}, \"type\": \"scattergl\"}], \"scattermapbox\": [{\"marker\": {\"colorbar\": {\"outlinewidth\": 0, \"ticks\": \"\"}}, \"type\": \"scattermapbox\"}], \"scatterpolar\": [{\"marker\": {\"colorbar\": {\"outlinewidth\": 0, \"ticks\": \"\"}}, \"type\": \"scatterpolar\"}], \"scatterpolargl\": [{\"marker\": {\"colorbar\": {\"outlinewidth\": 0, \"ticks\": \"\"}}, \"type\": \"scatterpolargl\"}], \"scatterternary\": [{\"marker\": {\"colorbar\": {\"outlinewidth\": 0, \"ticks\": \"\"}}, \"type\": \"scatterternary\"}], \"surface\": [{\"colorbar\": {\"outlinewidth\": 0, \"ticks\": \"\"}, \"colorscale\": [[0.0, \"#0d0887\"], [0.1111111111111111, \"#46039f\"], [0.2222222222222222, \"#7201a8\"], [0.3333333333333333, \"#9c179e\"], [0.4444444444444444, \"#bd3786\"], [0.5555555555555556, \"#d8576b\"], [0.6666666666666666, \"#ed7953\"], [0.7777777777777778, \"#fb9f3a\"], [0.8888888888888888, \"#fdca26\"], [1.0, \"#f0f921\"]], \"type\": \"surface\"}], \"table\": [{\"cells\": {\"fill\": {\"color\": \"#EBF0F8\"}, \"line\": {\"color\": \"white\"}}, \"header\": {\"fill\": {\"color\": \"#C8D4E3\"}, \"line\": {\"color\": \"white\"}}, \"type\": \"table\"}]}, \"layout\": {\"annotationdefaults\": {\"arrowcolor\": \"#2a3f5f\", \"arrowhead\": 0, \"arrowwidth\": 1}, \"autotypenumbers\": \"strict\", \"coloraxis\": {\"colorbar\": {\"outlinewidth\": 0, \"ticks\": \"\"}}, \"colorscale\": {\"diverging\": [[0, \"#8e0152\"], [0.1, \"#c51b7d\"], [0.2, \"#de77ae\"], [0.3, \"#f1b6da\"], [0.4, \"#fde0ef\"], [0.5, \"#f7f7f7\"], [0.6, \"#e6f5d0\"], [0.7, \"#b8e186\"], [0.8, \"#7fbc41\"], [0.9, \"#4d9221\"], [1, \"#276419\"]], \"sequential\": [[0.0, \"#0d0887\"], [0.1111111111111111, \"#46039f\"], [0.2222222222222222, \"#7201a8\"], [0.3333333333333333, \"#9c179e\"], [0.4444444444444444, \"#bd3786\"], [0.5555555555555556, \"#d8576b\"], [0.6666666666666666, \"#ed7953\"], [0.7777777777777778, \"#fb9f3a\"], [0.8888888888888888, \"#fdca26\"], [1.0, \"#f0f921\"]], \"sequentialminus\": [[0.0, \"#0d0887\"], [0.1111111111111111, \"#46039f\"], [0.2222222222222222, \"#7201a8\"], [0.3333333333333333, \"#9c179e\"], [0.4444444444444444, \"#bd3786\"], [0.5555555555555556, \"#d8576b\"], [0.6666666666666666, \"#ed7953\"], [0.7777777777777778, \"#fb9f3a\"], [0.8888888888888888, \"#fdca26\"], [1.0, \"#f0f921\"]]}, \"colorway\": [\"#636efa\", \"#EF553B\", \"#00cc96\", \"#ab63fa\", \"#FFA15A\", \"#19d3f3\", \"#FF6692\", \"#B6E880\", \"#FF97FF\", \"#FECB52\"], \"font\": {\"color\": \"#2a3f5f\"}, \"geo\": {\"bgcolor\": \"white\", \"lakecolor\": \"white\", \"landcolor\": \"#E5ECF6\", \"showlakes\": true, \"showland\": true, \"subunitcolor\": \"white\"}, \"hoverlabel\": {\"align\": \"left\"}, \"hovermode\": \"closest\", \"mapbox\": {\"style\": \"light\"}, \"paper_bgcolor\": \"white\", \"plot_bgcolor\": \"#E5ECF6\", \"polar\": {\"angularaxis\": {\"gridcolor\": \"white\", \"linecolor\": \"white\", \"ticks\": \"\"}, \"bgcolor\": \"#E5ECF6\", \"radialaxis\": {\"gridcolor\": \"white\", \"linecolor\": \"white\", \"ticks\": \"\"}}, \"scene\": {\"xaxis\": {\"backgroundcolor\": \"#E5ECF6\", \"gridcolor\": \"white\", \"gridwidth\": 2, \"linecolor\": \"white\", \"showbackground\": true, \"ticks\": \"\", \"zerolinecolor\": \"white\"}, \"yaxis\": {\"backgroundcolor\": \"#E5ECF6\", \"gridcolor\": \"white\", \"gridwidth\": 2, \"linecolor\": \"white\", \"showbackground\": true, \"ticks\": \"\", \"zerolinecolor\": \"white\"}, \"zaxis\": {\"backgroundcolor\": \"#E5ECF6\", \"gridcolor\": \"white\", \"gridwidth\": 2, \"linecolor\": \"white\", \"showbackground\": true, \"ticks\": \"\", \"zerolinecolor\": \"white\"}}, \"shapedefaults\": {\"line\": {\"color\": \"#2a3f5f\"}}, \"ternary\": {\"aaxis\": {\"gridcolor\": \"white\", \"linecolor\": \"white\", \"ticks\": \"\"}, \"baxis\": {\"gridcolor\": \"white\", \"linecolor\": \"white\", \"ticks\": \"\"}, \"bgcolor\": \"#E5ECF6\", \"caxis\": {\"gridcolor\": \"white\", \"linecolor\": \"white\", \"ticks\": \"\"}}, \"title\": {\"x\": 0.05}, \"xaxis\": {\"automargin\": true, \"gridcolor\": \"white\", \"linecolor\": \"white\", \"ticks\": \"\", \"title\": {\"standoff\": 15}, \"zerolinecolor\": \"white\", \"zerolinewidth\": 2}, \"yaxis\": {\"automargin\": true, \"gridcolor\": \"white\", \"linecolor\": \"white\", \"ticks\": \"\", \"title\": {\"standoff\": 15}, \"zerolinecolor\": \"white\", \"zerolinewidth\": 2}}}, \"xaxis\": {\"anchor\": \"y\", \"domain\": [0.0, 1.0], \"title\": {\"text\": \"CDD\"}}, \"yaxis\": {\"anchor\": \"x\", \"domain\": [0.0, 1.0], \"title\": {\"text\": \"count\"}}},                        {\"responsive\": true}                    ).then(function(){\n",
       "                            \n",
       "var gd = document.getElementById('46821b0c-0ec7-4469-b392-16a8e81abc9e');\n",
       "var x = new MutationObserver(function (mutations, observer) {{\n",
       "        var display = window.getComputedStyle(gd).display;\n",
       "        if (!display || display === 'none') {{\n",
       "            console.log([gd, 'removed!']);\n",
       "            Plotly.purge(gd);\n",
       "            observer.disconnect();\n",
       "        }}\n",
       "}});\n",
       "\n",
       "// Listen for the removal of the full notebook cells\n",
       "var notebookContainer = gd.closest('#notebook-container');\n",
       "if (notebookContainer) {{\n",
       "    x.observe(notebookContainer, {childList: true});\n",
       "}}\n",
       "\n",
       "// Listen for the clearing of the current output cell\n",
       "var outputEl = gd.closest('.output');\n",
       "if (outputEl) {{\n",
       "    x.observe(outputEl, {childList: true});\n",
       "}}\n",
       "\n",
       "                        })                };                });            </script>        </div>"
      ]
     },
     "metadata": {},
     "output_type": "display_data"
    }
   ],
   "source": [
    "fig = px.histogram(data_clean2, x=\"CDD\")\n",
    "fig.show()"
   ]
  },
  {
   "cell_type": "markdown",
   "metadata": {},
   "source": [
    "# Checking for Autocorrelation in Cooling Days"
   ]
  },
  {
   "cell_type": "code",
   "execution_count": 43,
   "metadata": {},
   "outputs": [],
   "source": [
    "# Import OECD-data from CSV-files\n",
    "oecd_data1 = pd.read_csv('DataPrep/Data/CITIES_POPULATION.csv', sep=\"|\", header=0)\n",
    "oecd_data2 = pd.read_csv('DataPrep/Data/CITIES_AGE.csv', sep=\"|\", header=0)\n",
    "oecd_data3 = pd.read_csv('DataPrep/Data/CITIES_ECONOMY.csv', sep=\"|\", header=0)\n",
    "oecd_data4 = pd.read_csv('DataPrep/Data/CITIES_LABOUR.csv', sep=\"|\", header=0)\n",
    "oecd_data5 = pd.read_csv('DataPrep/Data/CITIES_TERRITORY.csv', sep=\"|\", header=0)\n",
    "oecd_data6 = pd.read_csv('DataPrep/Data/CITIES_ENVIRONMENT.csv', sep=\"|\", header=0)\n",
    "oecd_data7 = pd.read_csv('DataPrep/Data/CITIES_COORD.csv', sep=\"|\", header=0)"
   ]
  },
  {
   "cell_type": "code",
   "execution_count": 44,
   "metadata": {},
   "outputs": [],
   "source": [
    "# Put all OECD-data into dataframe and append all dataframes\n",
    "oecd_data_df = [oecd_data1, oecd_data2, oecd_data3, oecd_data4, oecd_data5, oecd_data6]\n",
    "# Call concat method\n",
    "oecd_df = pd.concat(oecd_data_df)"
   ]
  },
  {
   "cell_type": "code",
   "execution_count": 45,
   "metadata": {},
   "outputs": [
    {
     "data": {
      "text/html": [
       "<div>\n",
       "<style scoped>\n",
       "    .dataframe tbody tr th:only-of-type {\n",
       "        vertical-align: middle;\n",
       "    }\n",
       "\n",
       "    .dataframe tbody tr th {\n",
       "        vertical-align: top;\n",
       "    }\n",
       "\n",
       "    .dataframe thead th {\n",
       "        text-align: right;\n",
       "    }\n",
       "</style>\n",
       "<table border=\"1\" class=\"dataframe\">\n",
       "  <thead>\n",
       "    <tr style=\"text-align: right;\">\n",
       "      <th></th>\n",
       "      <th>METRO_ID</th>\n",
       "      <th>Metropolitan areas</th>\n",
       "      <th>VAR</th>\n",
       "      <th>Variables</th>\n",
       "      <th>TIME</th>\n",
       "      <th>Year</th>\n",
       "      <th>Unit Code</th>\n",
       "      <th>Unit</th>\n",
       "      <th>PowerCode Code</th>\n",
       "      <th>PowerCode</th>\n",
       "      <th>Reference Period Code</th>\n",
       "      <th>Reference Period</th>\n",
       "      <th>Value</th>\n",
       "      <th>Flag Codes</th>\n",
       "      <th>Flags</th>\n",
       "    </tr>\n",
       "  </thead>\n",
       "  <tbody>\n",
       "    <tr>\n",
       "      <th>0</th>\n",
       "      <td>USA116</td>\n",
       "      <td>Allen</td>\n",
       "      <td>T_T</td>\n",
       "      <td>Population, all ages, administrative data</td>\n",
       "      <td>2001</td>\n",
       "      <td>2001</td>\n",
       "      <td>PER</td>\n",
       "      <td>Persons</td>\n",
       "      <td>0</td>\n",
       "      <td>Units</td>\n",
       "      <td>NaN</td>\n",
       "      <td>NaN</td>\n",
       "      <td>365954.0</td>\n",
       "      <td>NaN</td>\n",
       "      <td>NaN</td>\n",
       "    </tr>\n",
       "    <tr>\n",
       "      <th>1</th>\n",
       "      <td>USA116</td>\n",
       "      <td>Allen</td>\n",
       "      <td>T_T</td>\n",
       "      <td>Population, all ages, administrative data</td>\n",
       "      <td>2002</td>\n",
       "      <td>2002</td>\n",
       "      <td>PER</td>\n",
       "      <td>Persons</td>\n",
       "      <td>0</td>\n",
       "      <td>Units</td>\n",
       "      <td>NaN</td>\n",
       "      <td>NaN</td>\n",
       "      <td>368402.0</td>\n",
       "      <td>NaN</td>\n",
       "      <td>NaN</td>\n",
       "    </tr>\n",
       "    <tr>\n",
       "      <th>2</th>\n",
       "      <td>USA116</td>\n",
       "      <td>Allen</td>\n",
       "      <td>T_T</td>\n",
       "      <td>Population, all ages, administrative data</td>\n",
       "      <td>2003</td>\n",
       "      <td>2003</td>\n",
       "      <td>PER</td>\n",
       "      <td>Persons</td>\n",
       "      <td>0</td>\n",
       "      <td>Units</td>\n",
       "      <td>NaN</td>\n",
       "      <td>NaN</td>\n",
       "      <td>371190.0</td>\n",
       "      <td>NaN</td>\n",
       "      <td>NaN</td>\n",
       "    </tr>\n",
       "    <tr>\n",
       "      <th>3</th>\n",
       "      <td>USA116</td>\n",
       "      <td>Allen</td>\n",
       "      <td>T_T</td>\n",
       "      <td>Population, all ages, administrative data</td>\n",
       "      <td>2004</td>\n",
       "      <td>2004</td>\n",
       "      <td>PER</td>\n",
       "      <td>Persons</td>\n",
       "      <td>0</td>\n",
       "      <td>Units</td>\n",
       "      <td>NaN</td>\n",
       "      <td>NaN</td>\n",
       "      <td>372757.0</td>\n",
       "      <td>NaN</td>\n",
       "      <td>NaN</td>\n",
       "    </tr>\n",
       "    <tr>\n",
       "      <th>4</th>\n",
       "      <td>USA116</td>\n",
       "      <td>Allen</td>\n",
       "      <td>T_T</td>\n",
       "      <td>Population, all ages, administrative data</td>\n",
       "      <td>2005</td>\n",
       "      <td>2005</td>\n",
       "      <td>PER</td>\n",
       "      <td>Persons</td>\n",
       "      <td>0</td>\n",
       "      <td>Units</td>\n",
       "      <td>NaN</td>\n",
       "      <td>NaN</td>\n",
       "      <td>375420.0</td>\n",
       "      <td>NaN</td>\n",
       "      <td>NaN</td>\n",
       "    </tr>\n",
       "  </tbody>\n",
       "</table>\n",
       "</div>"
      ],
      "text/plain": [
       "  METRO_ID Metropolitan areas  VAR                                  Variables  \\\n",
       "0   USA116              Allen  T_T  Population, all ages, administrative data   \n",
       "1   USA116              Allen  T_T  Population, all ages, administrative data   \n",
       "2   USA116              Allen  T_T  Population, all ages, administrative data   \n",
       "3   USA116              Allen  T_T  Population, all ages, administrative data   \n",
       "4   USA116              Allen  T_T  Population, all ages, administrative data   \n",
       "\n",
       "   TIME  Year Unit Code     Unit  PowerCode Code PowerCode  \\\n",
       "0  2001  2001       PER  Persons               0     Units   \n",
       "1  2002  2002       PER  Persons               0     Units   \n",
       "2  2003  2003       PER  Persons               0     Units   \n",
       "3  2004  2004       PER  Persons               0     Units   \n",
       "4  2005  2005       PER  Persons               0     Units   \n",
       "\n",
       "   Reference Period Code  Reference Period     Value Flag Codes Flags  \n",
       "0                    NaN               NaN  365954.0        NaN   NaN  \n",
       "1                    NaN               NaN  368402.0        NaN   NaN  \n",
       "2                    NaN               NaN  371190.0        NaN   NaN  \n",
       "3                    NaN               NaN  372757.0        NaN   NaN  \n",
       "4                    NaN               NaN  375420.0        NaN   NaN  "
      ]
     },
     "execution_count": 45,
     "metadata": {},
     "output_type": "execute_result"
    }
   ],
   "source": [
    "oecd_df.head()"
   ]
  },
  {
   "cell_type": "code",
   "execution_count": 46,
   "metadata": {},
   "outputs": [],
   "source": [
    "#brussels = df_oecdCoord[[\"year\", \"value\"]]\n",
    "ny_data = oecd_df.loc[oecd_df[\"Metropolitan areas\"] == 'New York (Greater)']"
   ]
  },
  {
   "cell_type": "code",
   "execution_count": 47,
   "metadata": {},
   "outputs": [],
   "source": [
    "cooling_days_ny = ny_data.loc[ ny_data[\"VAR\"] == 'CDD',[\"Year\", \"Value\"]]\n",
    "cooling_days_ts = cooling_days_ny.set_index('Year')"
   ]
  },
  {
   "cell_type": "code",
   "execution_count": 48,
   "metadata": {},
   "outputs": [],
   "source": [
    "def tsplot(y, lags=None, figsize=(10, 8), style='bmh'):\n",
    "    if not isinstance(y, pd.Series):\n",
    "        y = pd.Series(y)\n",
    "    with plt.style.context(style):    \n",
    "        fig = plt.figure(figsize=figsize)\n",
    "        #mpl.rcParams['font.family'] = 'Ubuntu Mono'\n",
    "        layout = (3, 2)\n",
    "        ts_ax = plt.subplot2grid(layout, (0, 0), colspan=2)\n",
    "        acf_ax = plt.subplot2grid(layout, (1, 0))\n",
    "        pacf_ax = plt.subplot2grid(layout, (1, 1))\n",
    "        qq_ax = plt.subplot2grid(layout, (2, 0))\n",
    "        pp_ax = plt.subplot2grid(layout, (2, 1))\n",
    "        \n",
    "        y.plot(ax=ts_ax)\n",
    "        ts_ax.set_title('Time Series Analysis Plots')\n",
    "        smt.graphics.plot_acf(y, lags=lags, ax=acf_ax, alpha=0.5)\n",
    "        smt.graphics.plot_pacf(y, lags=lags, ax=pacf_ax, alpha=0.5)\n",
    "        sm.qqplot(y, line='s', ax=qq_ax)\n",
    "        qq_ax.set_title('QQ Plot')        \n",
    "        scs.probplot(y, sparams=(y.mean(), y.std()), plot=pp_ax)\n",
    "\n",
    "        plt.tight_layout()\n",
    "    return "
   ]
  },
  {
   "cell_type": "code",
   "execution_count": 49,
   "metadata": {
    "scrolled": false
   },
   "outputs": [
    {
     "data": {
      "image/png": "[encoded data removed]",
      "text/plain": [
       "<Figure size 720x576 with 5 Axes>"
      ]
     },
     "metadata": {
      "needs_background": "light"
     },
     "output_type": "display_data"
    }
   ],
   "source": [
    "tsplot(np.diff(cooling_days_ts.Value),lags=8)"
   ]
  },
  {
   "cell_type": "markdown",
   "metadata": {},
   "source": [
    "<b> We can safely conclude that there is no autocorrelation in the Target variable CDD (Cooling days). However, we do note that the data is not suitable for time series analysis, due to the low resolution. </b>"
   ]
  },
  {
   "cell_type": "markdown",
   "metadata": {},
   "source": [
    "_________________________________________________________________________________"
   ]
  },
  {
   "cell_type": "markdown",
   "metadata": {},
   "source": [
    "# Variable importance/selection"
   ]
  },
  {
   "cell_type": "code",
   "execution_count": 52,
   "metadata": {},
   "outputs": [],
   "source": [
    "# create new arrays for variable importance scaled data with outliers\n",
    "y_1 = df_main1.loc[:,\"CDD\"]\n",
    "X_1 = df_main1.loc[:,\"URB_AREA\":\"CITY_EVAPOTRANS\"]\n",
    "X_1train, X_1test, y_1train, y_1test = train_test_split(X_1, y_1, random_state=0)"
   ]
  },
  {
   "cell_type": "code",
   "execution_count": 53,
   "metadata": {},
   "outputs": [
    {
     "data": {
      "text/plain": [
       "array(['URB_AREA', 'URB_AREA_CORE', 'FRAGMENTATION', 'POP_DEN',\n",
       "       'PWM_EX_CORE', 'T_Y0_14_SH_NAT', 'T_Y15_64_SH_NAT',\n",
       "       'T_Y65_MAX_SH_NAT', 'CONSTR_RAT', 'TREECOVER_SHARE_CORE',\n",
       "       'CITY_REL_ROADS', 'CITY_REL_WATER', 'CITY_EVAPOTRANS'],\n",
       "      dtype=object)"
      ]
     },
     "execution_count": 53,
     "metadata": {},
     "output_type": "execute_result"
    }
   ],
   "source": [
    "np.array(X_1train.columns)"
   ]
  },
  {
   "cell_type": "code",
   "execution_count": 54,
   "metadata": {
    "scrolled": false
   },
   "outputs": [
    {
     "data": {
      "image/png": "[encoded data removed]",
      "text/plain": [
       "<Figure size 1080x576 with 1 Axes>"
      ]
     },
     "metadata": {
      "needs_background": "light"
     },
     "output_type": "display_data"
    }
   ],
   "source": [
    "lasso = LassoCV(cv=10, random_state=0,max_iter=10000).fit(X_1train, y_1train)\n",
    "importance = np.abs(lasso.coef_)\n",
    "feature_names = np.array(X_1train.columns)\n",
    "plt.figure(figsize=(15,8))\n",
    "plt.bar(height=importance, x=feature_names)\n",
    "plt.title(\"Feature importances via coefficients\")\n",
    "plt.xticks(rotation=90)\n",
    "plt.show()"
   ]
  },
  {
   "cell_type": "code",
   "execution_count": 56,
   "metadata": {},
   "outputs": [],
   "source": [
    "# create new arrays for variable importance scaled data with outliers removed\n",
    "y_2 = df_main2.loc[:,\"CDD\"]\n",
    "X_2 = df_main2.loc[:,\"URB_AREA\":\"CITY_EVAPOTRANS\"]\n",
    "X_2train, X_2test, y_2train, y_2test = train_test_split(X_2, y_2, random_state=0)"
   ]
  },
  {
   "cell_type": "code",
   "execution_count": 57,
   "metadata": {},
   "outputs": [
    {
     "data": {
      "image/png": "[encoded data removed]",
      "text/plain": [
       "<Figure size 1080x576 with 1 Axes>"
      ]
     },
     "metadata": {
      "needs_background": "light"
     },
     "output_type": "display_data"
    }
   ],
   "source": [
    "lasso_2 = LassoCV(cv=10, random_state=0,max_iter=10000).fit(X_2train, y_2train)\n",
    "importance_2 = np.abs(lasso_2.coef_)\n",
    "feature_names = np.array(X_2train.columns)\n",
    "plt.figure(figsize=(15,8))\n",
    "plt.bar(height=importance_2, x=feature_names)\n",
    "plt.title(\"Feature importances via coefficients\")\n",
    "plt.xticks(rotation=90)\n",
    "plt.show()"
   ]
  },
  {
   "cell_type": "code",
   "execution_count": 59,
   "metadata": {},
   "outputs": [],
   "source": [
    "# Array for calibration with outliers\n",
    "y = df_main1.loc[:,\"CDD\"]\n",
    "X = df_main1.loc[:,\"URB_AREA\":\"CITY_EVAPOTRANS\"]\n",
    "rng = np.random.RandomState(0)\n",
    "X_train, X_test, y_train, y_test = train_test_split(X, y, random_state=rng)\n",
    "\n",
    "# Array for calibration with outliers removed\n",
    "y_1 = df_main2.loc[:,\"CDD\"]\n",
    "X_1 = df_main2.loc[:,\"URB_AREA\":\"CITY_EVAPOTRANS\"]\n",
    "rng = np.random.RandomState(0)\n",
    "X_1train, X_1test, y_1train, y_1test = train_test_split(X_1, y_1, random_state=rng)"
   ]
  },
  {
   "cell_type": "markdown",
   "metadata": {},
   "source": [
    "# Clustering\n",
    "<b> Cluster analysis is a statistical technique aimed to uncover groups (clusters) of observations that are homogeneous and separated from other groups. For this project, it might be useful to group a large number of cities by the values of their population and the number of yearly cooling days. The group of primary interest is the one that covers cities with the largest number of population and cooling days (the most vulnerable to heat waves). </b>"
   ]
  },
  {
   "cell_type": "code",
   "execution_count": 61,
   "metadata": {},
   "outputs": [],
   "source": [
    "# Drop the rows with missing values\n",
    "dfc=df_main1.dropna(axis=0)"
   ]
  },
  {
   "cell_type": "code",
   "execution_count": 81,
   "metadata": {},
   "outputs": [],
   "source": [
    "#Choose the variables for the analysis\n",
    "scaler = StandardScaler()\n",
    "scaler.fit(df_main1[['CONSTR_RAT','CDD']])\n",
    "\n",
    "df = scaler.transform(df_main1[['CONSTR_RAT','CDD']])\n",
    "X = df\n",
    "\n",
    "#df = df_main1[['CONSTR_RAT','CDD']]\n",
    "#df = df_main[['POP_DEN','CDD']]\n",
    "#df = df_main[['GDP_PC_REAL_PPP','CDD']]\n",
    "#df = df_main.loc[:,\"CDD\":\"CITY_EVAPOTRANS\"]\n",
    "#dfc = df_main[['POP_TOT_GI','CDD']]\n",
    "#df = df_main[['T_Y0_14_SH_NAT','CDD']]\n",
    "#df = df_main[['T_Y15_64_SH_NAT','CDD']]"
   ]
  },
  {
   "cell_type": "markdown",
   "metadata": {},
   "source": [
    "<b> K-means clustering method is applied. The desired number of clusters (k) needs to be specified in advance. The K-means algorithm then assigns each observation to exactly one of the k clusters. The algorithm is run multiple times from different random initial configurations aimed to find the best separated clusters. The K-means algorithm lacks flexibility in cluster shape and probabilistic cluster assignment. </b>"
   ]
  },
  {
   "cell_type": "markdown",
   "metadata": {},
   "source": [
    "<b> For clustering, the data needs to be standardized given that the variables in the data set have different scales and variances. The dataset has already been standardized by using StandardScaler(). Clusters with centeroids are visualized then on the scatterplot. </b>"
   ]
  },
  {
   "cell_type": "code",
   "execution_count": 82,
   "metadata": {},
   "outputs": [
    {
     "data": {
      "text/plain": [
       "KMeans(init='random', n_clusters=2, n_init=20, random_state=0)"
      ]
     },
     "execution_count": 82,
     "metadata": {},
     "output_type": "execute_result"
    }
   ],
   "source": [
    "# Initialize Kmeans for 2 clusters and fit it to the data\n",
    "cluster_with_scaling = KMeans(n_clusters=2, n_init=20,init='random',random_state=0)\n",
    "cluster_with_scaling.fit(X)"
   ]
  },
  {
   "cell_type": "code",
   "execution_count": 83,
   "metadata": {},
   "outputs": [
    {
     "data": {
      "image/png": "[encoded data removed]",
      "text/plain": [
       "<Figure size 720x720 with 1 Axes>"
      ]
     },
     "metadata": {
      "needs_background": "light"
     },
     "output_type": "display_data"
    }
   ],
   "source": [
    "y=cluster_with_scaling.predict(X)\n",
    "fig,ax = plt.subplots(figsize=(10,10))\n",
    "idx_1 = y==1\n",
    "idx_0 = y==0\n",
    "color_1='blue'\n",
    "color_0 ='red'\n",
    "ax.scatter(X[idx_1,0],X[idx_1,1],s=40,color=color_1,label=None)\n",
    "ax.scatter(X[idx_0,0],X[idx_0,1],s=40,color=color_0,label=None)\n",
    "\n",
    "ax.scatter(cluster_with_scaling.cluster_centers_[:,0],cluster_with_scaling.cluster_centers_[:,1],s=120,\n",
    "           color='k',marker='s',\n",
    "           label='Centroids of the Clusters')\n",
    "\n",
    "ax.set_xlabel('Construction Rate')\n",
    "ax.set_ylabel('Cooling Days');\n",
    "ax.legend();"
   ]
  },
  {
   "cell_type": "markdown",
   "metadata": {},
   "source": [
    "<b> As seen from the scatter plots, there are cities that could be susceptible to heat waves and damages associated with heatwaves more than cities in other groups. For example, cities with population larger than 135 thousands and cooling days largerthan 730 days (calculated by using the values of the mean and standard deviation of the dataset before scalling applied) </b>"
   ]
  },
  {
   "cell_type": "markdown",
   "metadata": {},
   "source": [
    "# Models"
   ]
  },
  {
   "cell_type": "code",
   "execution_count": 104,
   "metadata": {},
   "outputs": [],
   "source": [
    "pre_process = ColumnTransformer(remainder='passthrough',\n",
    "                                transformers=[('drop_columns', 'drop', ['T_Y0_14_SH_NAT',\n",
    "                                                                        'T_Y15_64_SH_NAT',\n",
    "                                                                        'T_Y65_MAX_SH_NAT',\n",
    "                                                                        'CONSTR_RAT',\n",
    "                                                                        'POP_DEN',\n",
    "                                                                        'TREECOVER_SHARE_CORE',\n",
    "                                                                        'CITY_REL_WATER'\n",
    "                                                                       ])])"
   ]
  },
  {
   "cell_type": "code",
   "execution_count": 105,
   "metadata": {},
   "outputs": [],
   "source": [
    "pre_process_2 = ColumnTransformer(remainder='passthrough',\n",
    "                                transformers=[('drop_columns', 'drop', ['T_Y0_14_SH_NAT',\n",
    "                                                                        'T_Y15_64_SH_NAT',\n",
    "                                                                        'T_Y65_MAX_SH_NAT',\n",
    "                                                                        'CONSTR_RAT',\n",
    "                                                                        'POP_DEN',\n",
    "                                                                        'CITY_REL_WATER'\n",
    "                                                                       ])])"
   ]
  },
  {
   "cell_type": "code",
   "execution_count": 107,
   "metadata": {},
   "outputs": [],
   "source": [
    " cv = RepeatedKFold(n_splits=10, n_repeats=3, random_state=1)"
   ]
  },
  {
   "cell_type": "code",
   "execution_count": 108,
   "metadata": {},
   "outputs": [],
   "source": [
    " cv_1 = RepeatedKFold(n_splits=10, n_repeats=3, random_state=1)"
   ]
  },
  {
   "cell_type": "code",
   "execution_count": 109,
   "metadata": {},
   "outputs": [],
   "source": [
    "class Scale_predictor_variables:\n",
    "    def __init__(self,X_train,y_train,pre_process,cv):\n",
    "        self.X_train = X_train\n",
    "        self.y_train = y_train\n",
    "        self.pre_process = pre_process\n",
    "        self.cv = cv\n",
    "    def Plot_cross_validation_results(self):\n",
    "        pca = PCA()\n",
    "\n",
    "        X_reduced = pca.fit_transform(self.pre_process.fit_transform(self.X_train))\n",
    "                                \n",
    "\n",
    "        #define cross validation method\n",
    "        #cv = RepeatedKFold(n_splits=10, n_repeats=3, random_state=1)\n",
    "\n",
    "        regr = LinearRegression()\n",
    "        mse = []\n",
    "\n",
    "        # Calculate MSE with only the intercept\n",
    "        score = -1*model_selection.cross_val_score(regr,\n",
    "           np.ones((len(X_reduced),1)), self.y_train, cv=self.cv,\n",
    "           scoring='neg_mean_squared_error').mean()    \n",
    "        mse.append(score)\n",
    "\n",
    "        # Calculate MSE using cross-validation, adding one component at a time\n",
    "        for i in np.arange(1, 6):\n",
    "            score = -1*model_selection.cross_val_score(regr,\n",
    "               X_reduced[:,:i], self.y_train, cv=self.cv, scoring='neg_mean_squared_error').mean()\n",
    "            mse.append(score)\n",
    "    \n",
    "        # Plot cross-validation results    \n",
    "        plt.plot(mse)\n",
    "        plt.xlabel('Number of Principal Components')\n",
    "        plt.ylabel('MSE')\n",
    "        plt.title('CDD')\n",
    "        variance_ratio = np.cumsum(np.round(pca.explained_variance_ratio_, decimals=4)*100)\n",
    "        print(variance_ratio)\n",
    "        \n",
    "            "
   ]
  },
  {
   "cell_type": "code",
   "execution_count": 111,
   "metadata": {},
   "outputs": [],
   "source": [
    "scale_predictor_variables = Scale_predictor_variables(X_train,y_train,pre_process,cv)"
   ]
  },
  {
   "cell_type": "code",
   "execution_count": 112,
   "metadata": {
    "scrolled": false
   },
   "outputs": [
    {
     "name": "stdout",
     "output_type": "stream",
     "text": [
      "[98.89 99.97 99.98 99.99 99.99 99.99]\n"
     ]
    },
    {
     "data": {
      "image/png": "[encoded data removed]",
      "text/plain": [
       "<Figure size 432x288 with 1 Axes>"
      ]
     },
     "metadata": {
      "needs_background": "light"
     },
     "output_type": "display_data"
    }
   ],
   "source": [
    "scale_predictor_variables.Plot_cross_validation_results()"
   ]
  },
  {
   "cell_type": "code",
   "execution_count": 113,
   "metadata": {
    "scrolled": true
   },
   "outputs": [],
   "source": [
    "scale_predictor_variables = Scale_predictor_variables(X_1train,y_1train,pre_process_2,cv_1)"
   ]
  },
  {
   "cell_type": "code",
   "execution_count": 114,
   "metadata": {
    "scrolled": true
   },
   "outputs": [
    {
     "name": "stdout",
     "output_type": "stream",
     "text": [
      "[ 91.64  97.68  99.7   99.91 100.   100.01 100.01]\n"
     ]
    },
    {
     "data": {
      "image/png": "[encoded data removed]",
      "text/plain": [
       "<Figure size 432x288 with 1 Axes>"
      ]
     },
     "metadata": {
      "needs_background": "light"
     },
     "output_type": "display_data"
    }
   ],
   "source": [
    "scale_predictor_variables.Plot_cross_validation_results()"
   ]
  },
  {
   "cell_type": "code",
   "execution_count": 115,
   "metadata": {},
   "outputs": [],
   "source": [
    "class Scoring:\n",
    "    def __init__(self,pre_process,X_train,y_train):\n",
    "        self.pre_process = pre_process\n",
    "        self.X_train = X_train\n",
    "        self.y_train = y_train\n",
    "    def Score(self):\n",
    "        ## data \n",
    "        ########################################################################\n",
    "        model_1 = RandomForestRegressor(max_depth=15,random_state=0)\n",
    "        model_2 = LinearRegression(fit_intercept=True)\n",
    "        model_3 = Ridge(alpha=5)\n",
    "        model_4 = Lasso(alpha=10)\n",
    "        model_5 = SVR(C=2.5, epsilon=0.5)\n",
    "        model_6 = GradientBoostingRegressor(random_state=0)\n",
    "\n",
    "        MSE = []\n",
    "        R2 = []\n",
    "        for mymodels in [model_1,model_2,model_3,model_4,model_5,model_6]:\n",
    "            model_pipeline = Pipeline(steps=[('pre_processing',self.pre_process),\n",
    "                                 ('model', mymodels)\n",
    "                                 ])\n",
    "            model_pipeline.fit(self.X_train,self.y_train)\n",
    "            MSE.append(mean_squared_error(self.y_train,model_pipeline.predict(self.X_train))**0.5)\n",
    "            R2.append(r2_score(self.y_train,model_pipeline.predict(self.X_train)))\n",
    "    \n",
    "        print(np.round(MSE,2))   \n",
    "        print(np.round(R2,2))"
   ]
  },
  {
   "cell_type": "code",
   "execution_count": 116,
   "metadata": {},
   "outputs": [],
   "source": [
    "Scoring1 = Scoring(pre_process,X_train,y_train)"
   ]
  },
  {
   "cell_type": "code",
   "execution_count": 117,
   "metadata": {
    "scrolled": true
   },
   "outputs": [
    {
     "name": "stdout",
     "output_type": "stream",
     "text": [
      "[119.64 349.05 349.05 349.07 410.93 151.5 ]\n",
      "[ 0.9   0.13  0.13  0.13 -0.2   0.84]\n"
     ]
    }
   ],
   "source": [
    "Scoring1.Score()"
   ]
  },
  {
   "cell_type": "code",
   "execution_count": 118,
   "metadata": {},
   "outputs": [],
   "source": [
    "Scoring2 = Scoring(pre_process_2,X_1train,y_1train)"
   ]
  },
  {
   "cell_type": "code",
   "execution_count": 119,
   "metadata": {},
   "outputs": [
    {
     "name": "stdout",
     "output_type": "stream",
     "text": [
      "[ 77.56 199.05 199.07 200.07 251.67  71.98]\n",
      "[ 0.89  0.26  0.26  0.25 -0.19  0.9 ]\n"
     ]
    }
   ],
   "source": [
    "Scoring2.Score()"
   ]
  },
  {
   "cell_type": "code",
   "execution_count": 120,
   "metadata": {},
   "outputs": [],
   "source": [
    "class Model_select:\n",
    "    def __init__(self,X_train,y_train,X_test, y_test):\n",
    "        self.X_train = X_train\n",
    "        self.y_train = y_train\n",
    "        self.X_test = X_test\n",
    "        self.y_test = y_test\n",
    "    def model_selection(self):\n",
    "        models = []\n",
    "        models_1 = [\"Ridge\",\"Lasso\",\"LinearRegression\"]\n",
    "        models_2 = [\"RandomForestRegressor\",\"GradientBoostingRegressor\"]\n",
    "        model_3 = [\"SVR\"]\n",
    "        models += models_1 + models_2 + model_3\n",
    "        models_dictionary = {\"Ridge\":Ridge(),\"Lasso\":Lasso(),\"LinearRegression\":LinearRegression(fit_intercept=True),\n",
    "                             \"RandomForestRegressor\":RandomForestRegressor(random_state=0),\"GradientBoostingRegressor\":GradientBoostingRegressor(random_state=0),\n",
    "                            \"SVR\":SVR(epsilon=0.5)}\n",
    "        models_score = {}\n",
    "        \n",
    "        # Tuning of parameters for regression by cross-validation\n",
    "        K = 5               # Number of cross valiations\n",
    "        \n",
    "        for model in models:\n",
    "            if model in models_1:\n",
    "                \n",
    "                pipe = Pipeline([\n",
    "                ('scaler', StandardScaler()),\n",
    "                ('reduce_dim', PCA()),\n",
    "                ('regressor', models_dictionary[model])\n",
    "                ])\n",
    "                pipe = pipe.fit(self.X_train, self.y_train)\n",
    "                n_features_to_test = np.arange(1, 13)\n",
    "                alpha_to_test = 2.0**np.arange(-6, +6)\n",
    "            \n",
    "                if model == \"LinearRegression\":\n",
    "                    params = {'reduce_dim__n_components': n_features_to_test,\n",
    "                    'scaler' : [StandardScaler(), RobustScaler()]}\n",
    "                else:\n",
    "                    params = {'reduce_dim__n_components': n_features_to_test,\n",
    "                    'regressor__alpha': alpha_to_test,\n",
    "                    'scaler' : [StandardScaler(), RobustScaler()]}\n",
    "                gridsearch = GridSearchCV(pipe, params, verbose=1,cv = K).fit(self.X_train, self.y_train)\n",
    "                \n",
    "            elif model in models_2:\n",
    "                \n",
    "                if model == \"RandomForestRegressor\":\n",
    "                    \n",
    "                    model_estimator =  models_dictionary[model]\n",
    "                    params={'n_estimators':[20,30,40,60,100], 'max_depth': \n",
    "                    [5,10,15,20],'max_features':[2,5,8]}\n",
    "                    \n",
    "                     \n",
    "                else:\n",
    "                    model_estimator =  models_dictionary[model]\n",
    "                    \n",
    "                    params = {'learning_rate': [0.01,0.02,0.03,0.04],\n",
    "                    'subsample'    : [0.9, 0.5, 0.2, 0.1],\n",
    "                    'n_estimators' : [100,500,1000, 1500],\n",
    "                    'max_depth'    : [4,6,8,10]\n",
    "                     }\n",
    "                \n",
    "                gridsearch = GridSearchCV(estimator = model_estimator,param_grid = params, cv = K, n_jobs=-1).fit(self.X_train, self.y_train)\n",
    "            else:\n",
    "                parameters = {'gamma': [1e-4, 1e-3, 0.01, 0.1, 0.2, 0.5, 0.6, 0.9],'C': [1, 2.5, 5, 10, 100, 1000, 10000]}\n",
    "                gridsearch = GridSearchCV(models_dictionary[model], parameters, cv = K).fit(self.X_train, self.y_train)\n",
    "             \n",
    "            print(\" Results from Grid Search:\",model)\n",
    "            print(\"\\n The best estimator across ALL searched params:\\n\",gridsearch.best_estimator_)\n",
    "            print(\"\\n The best score across ALL searched params:\\n\",gridsearch.best_score_)\n",
    "            print(\"\\n The best parameters across ALL searched params:\\n\",gridsearch.best_params_)\n",
    "            print('\\n Final score is: ', gridsearch.score(self.X_test, self.y_test))\n",
    "            print(\"\")\n",
    "            models_score[model] = gridsearch.score(self.X_test, self.y_test)\n",
    "        self.models_score = models_score\n",
    "\n",
    "        "
   ]
  },
  {
   "cell_type": "code",
   "execution_count": 122,
   "metadata": {},
   "outputs": [],
   "source": [
    "model_select = Model_select(X_train,y_train,X_test, y_test)"
   ]
  },
  {
   "cell_type": "code",
   "execution_count": 123,
   "metadata": {
    "scrolled": false
   },
   "outputs": [
    {
     "name": "stdout",
     "output_type": "stream",
     "text": [
      "Fitting 5 folds for each of 288 candidates, totalling 1440 fits\n"
     ]
    },
    {
     "name": "stderr",
     "output_type": "stream",
     "text": [
      "[Parallel(n_jobs=1)]: Using backend SequentialBackend with 1 concurrent workers.\n",
      "[Parallel(n_jobs=1)]: Done 1440 out of 1440 | elapsed:   34.2s finished\n",
      "[Parallel(n_jobs=1)]: Using backend SequentialBackend with 1 concurrent workers.\n"
     ]
    },
    {
     "name": "stdout",
     "output_type": "stream",
     "text": [
      " Results from Grid Search: Ridge\n",
      "\n",
      " The best estimator across ALL searched params:\n",
      " Pipeline(steps=[('scaler', RobustScaler()), ('reduce_dim', PCA(n_components=6)),\n",
      "                ('regressor', Ridge(alpha=16.0))])\n",
      "\n",
      " The best score across ALL searched params:\n",
      " 0.07884408996219186\n",
      "\n",
      " The best parameters across ALL searched params:\n",
      " {'reduce_dim__n_components': 6, 'regressor__alpha': 16.0, 'scaler': RobustScaler()}\n",
      "\n",
      " Final score is:  0.14318584432144044\n",
      "\n",
      "Fitting 5 folds for each of 288 candidates, totalling 1440 fits\n"
     ]
    },
    {
     "ename": "KeyboardInterrupt",
     "evalue": "",
     "output_type": "error",
     "traceback": [
      "\u001b[1;31m---------------------------------------------------------------------------\u001b[0m",
      "\u001b[1;31mKeyboardInterrupt\u001b[0m                         Traceback (most recent call last)",
      "\u001b[1;32m<ipython-input-123-a1cbb9514f22>\u001b[0m in \u001b[0;36m<module>\u001b[1;34m\u001b[0m\n\u001b[1;32m----> 1\u001b[1;33m \u001b[0mmodel_select\u001b[0m\u001b[1;33m.\u001b[0m\u001b[0mmodel_selection\u001b[0m\u001b[1;33m(\u001b[0m\u001b[1;33m)\u001b[0m\u001b[1;33m\u001b[0m\u001b[1;33m\u001b[0m\u001b[0m\n\u001b[0m",
      "\u001b[1;32m<ipython-input-120-90f8f689f050>\u001b[0m in \u001b[0;36mmodel_selection\u001b[1;34m(self)\u001b[0m\n\u001b[0;32m     38\u001b[0m                     \u001b[1;34m'regressor__alpha'\u001b[0m\u001b[1;33m:\u001b[0m \u001b[0malpha_to_test\u001b[0m\u001b[1;33m,\u001b[0m\u001b[1;33m\u001b[0m\u001b[1;33m\u001b[0m\u001b[0m\n\u001b[0;32m     39\u001b[0m                     'scaler' : [StandardScaler(), RobustScaler()]}\n\u001b[1;32m---> 40\u001b[1;33m                 \u001b[0mgridsearch\u001b[0m \u001b[1;33m=\u001b[0m \u001b[0mGridSearchCV\u001b[0m\u001b[1;33m(\u001b[0m\u001b[0mpipe\u001b[0m\u001b[1;33m,\u001b[0m \u001b[0mparams\u001b[0m\u001b[1;33m,\u001b[0m \u001b[0mverbose\u001b[0m\u001b[1;33m=\u001b[0m\u001b[1;36m1\u001b[0m\u001b[1;33m,\u001b[0m\u001b[0mcv\u001b[0m \u001b[1;33m=\u001b[0m \u001b[0mK\u001b[0m\u001b[1;33m)\u001b[0m\u001b[1;33m.\u001b[0m\u001b[0mfit\u001b[0m\u001b[1;33m(\u001b[0m\u001b[0mself\u001b[0m\u001b[1;33m.\u001b[0m\u001b[0mX_train\u001b[0m\u001b[1;33m,\u001b[0m \u001b[0mself\u001b[0m\u001b[1;33m.\u001b[0m\u001b[0my_train\u001b[0m\u001b[1;33m)\u001b[0m\u001b[1;33m\u001b[0m\u001b[1;33m\u001b[0m\u001b[0m\n\u001b[0m\u001b[0;32m     41\u001b[0m \u001b[1;33m\u001b[0m\u001b[0m\n\u001b[0;32m     42\u001b[0m             \u001b[1;32melif\u001b[0m \u001b[0mmodel\u001b[0m \u001b[1;32min\u001b[0m \u001b[0mmodels_2\u001b[0m\u001b[1;33m:\u001b[0m\u001b[1;33m\u001b[0m\u001b[1;33m\u001b[0m\u001b[0m\n",
      "\u001b[1;32mC:\\Anaconda\\envs\\MDA_env\\lib\\site-packages\\sklearn\\utils\\validation.py\u001b[0m in \u001b[0;36minner_f\u001b[1;34m(*args, **kwargs)\u001b[0m\n\u001b[0;32m     71\u001b[0m                           FutureWarning)\n\u001b[0;32m     72\u001b[0m         \u001b[0mkwargs\u001b[0m\u001b[1;33m.\u001b[0m\u001b[0mupdate\u001b[0m\u001b[1;33m(\u001b[0m\u001b[1;33m{\u001b[0m\u001b[0mk\u001b[0m\u001b[1;33m:\u001b[0m \u001b[0marg\u001b[0m \u001b[1;32mfor\u001b[0m \u001b[0mk\u001b[0m\u001b[1;33m,\u001b[0m \u001b[0marg\u001b[0m \u001b[1;32min\u001b[0m \u001b[0mzip\u001b[0m\u001b[1;33m(\u001b[0m\u001b[0msig\u001b[0m\u001b[1;33m.\u001b[0m\u001b[0mparameters\u001b[0m\u001b[1;33m,\u001b[0m \u001b[0margs\u001b[0m\u001b[1;33m)\u001b[0m\u001b[1;33m}\u001b[0m\u001b[1;33m)\u001b[0m\u001b[1;33m\u001b[0m\u001b[1;33m\u001b[0m\u001b[0m\n\u001b[1;32m---> 73\u001b[1;33m         \u001b[1;32mreturn\u001b[0m \u001b[0mf\u001b[0m\u001b[1;33m(\u001b[0m\u001b[1;33m**\u001b[0m\u001b[0mkwargs\u001b[0m\u001b[1;33m)\u001b[0m\u001b[1;33m\u001b[0m\u001b[1;33m\u001b[0m\u001b[0m\n\u001b[0m\u001b[0;32m     74\u001b[0m     \u001b[1;32mreturn\u001b[0m \u001b[0minner_f\u001b[0m\u001b[1;33m\u001b[0m\u001b[1;33m\u001b[0m\u001b[0m\n\u001b[0;32m     75\u001b[0m \u001b[1;33m\u001b[0m\u001b[0m\n",
      "\u001b[1;32mC:\\Anaconda\\envs\\MDA_env\\lib\\site-packages\\sklearn\\model_selection\\_search.py\u001b[0m in \u001b[0;36mfit\u001b[1;34m(self, X, y, groups, **fit_params)\u001b[0m\n\u001b[0;32m    734\u001b[0m                 \u001b[1;32mreturn\u001b[0m \u001b[0mresults\u001b[0m\u001b[1;33m\u001b[0m\u001b[1;33m\u001b[0m\u001b[0m\n\u001b[0;32m    735\u001b[0m \u001b[1;33m\u001b[0m\u001b[0m\n\u001b[1;32m--> 736\u001b[1;33m             \u001b[0mself\u001b[0m\u001b[1;33m.\u001b[0m\u001b[0m_run_search\u001b[0m\u001b[1;33m(\u001b[0m\u001b[0mevaluate_candidates\u001b[0m\u001b[1;33m)\u001b[0m\u001b[1;33m\u001b[0m\u001b[1;33m\u001b[0m\u001b[0m\n\u001b[0m\u001b[0;32m    737\u001b[0m \u001b[1;33m\u001b[0m\u001b[0m\n\u001b[0;32m    738\u001b[0m         \u001b[1;31m# For multi-metric evaluation, store the best_index_, best_params_ and\u001b[0m\u001b[1;33m\u001b[0m\u001b[1;33m\u001b[0m\u001b[1;33m\u001b[0m\u001b[0m\n",
      "\u001b[1;32mC:\\Anaconda\\envs\\MDA_env\\lib\\site-packages\\sklearn\\model_selection\\_search.py\u001b[0m in \u001b[0;36m_run_search\u001b[1;34m(self, evaluate_candidates)\u001b[0m\n\u001b[0;32m   1186\u001b[0m     \u001b[1;32mdef\u001b[0m \u001b[0m_run_search\u001b[0m\u001b[1;33m(\u001b[0m\u001b[0mself\u001b[0m\u001b[1;33m,\u001b[0m \u001b[0mevaluate_candidates\u001b[0m\u001b[1;33m)\u001b[0m\u001b[1;33m:\u001b[0m\u001b[1;33m\u001b[0m\u001b[1;33m\u001b[0m\u001b[0m\n\u001b[0;32m   1187\u001b[0m         \u001b[1;34m\"\"\"Search all candidates in param_grid\"\"\"\u001b[0m\u001b[1;33m\u001b[0m\u001b[1;33m\u001b[0m\u001b[0m\n\u001b[1;32m-> 1188\u001b[1;33m         \u001b[0mevaluate_candidates\u001b[0m\u001b[1;33m(\u001b[0m\u001b[0mParameterGrid\u001b[0m\u001b[1;33m(\u001b[0m\u001b[0mself\u001b[0m\u001b[1;33m.\u001b[0m\u001b[0mparam_grid\u001b[0m\u001b[1;33m)\u001b[0m\u001b[1;33m)\u001b[0m\u001b[1;33m\u001b[0m\u001b[1;33m\u001b[0m\u001b[0m\n\u001b[0m\u001b[0;32m   1189\u001b[0m \u001b[1;33m\u001b[0m\u001b[0m\n\u001b[0;32m   1190\u001b[0m \u001b[1;33m\u001b[0m\u001b[0m\n",
      "\u001b[1;32mC:\\Anaconda\\envs\\MDA_env\\lib\\site-packages\\sklearn\\model_selection\\_search.py\u001b[0m in \u001b[0;36mevaluate_candidates\u001b[1;34m(candidate_params)\u001b[0m\n\u001b[0;32m    706\u001b[0m                               n_splits, n_candidates, n_candidates * n_splits))\n\u001b[0;32m    707\u001b[0m \u001b[1;33m\u001b[0m\u001b[0m\n\u001b[1;32m--> 708\u001b[1;33m                 out = parallel(delayed(_fit_and_score)(clone(base_estimator),\n\u001b[0m\u001b[0;32m    709\u001b[0m                                                        \u001b[0mX\u001b[0m\u001b[1;33m,\u001b[0m \u001b[0my\u001b[0m\u001b[1;33m,\u001b[0m\u001b[1;33m\u001b[0m\u001b[1;33m\u001b[0m\u001b[0m\n\u001b[0;32m    710\u001b[0m                                                        \u001b[0mtrain\u001b[0m\u001b[1;33m=\u001b[0m\u001b[0mtrain\u001b[0m\u001b[1;33m,\u001b[0m \u001b[0mtest\u001b[0m\u001b[1;33m=\u001b[0m\u001b[0mtest\u001b[0m\u001b[1;33m,\u001b[0m\u001b[1;33m\u001b[0m\u001b[1;33m\u001b[0m\u001b[0m\n",
      "\u001b[1;32mC:\\Anaconda\\envs\\MDA_env\\lib\\site-packages\\joblib\\parallel.py\u001b[0m in \u001b[0;36m__call__\u001b[1;34m(self, iterable)\u001b[0m\n\u001b[0;32m   1049\u001b[0m                 \u001b[0mself\u001b[0m\u001b[1;33m.\u001b[0m\u001b[0m_iterating\u001b[0m \u001b[1;33m=\u001b[0m \u001b[0mself\u001b[0m\u001b[1;33m.\u001b[0m\u001b[0m_original_iterator\u001b[0m \u001b[1;32mis\u001b[0m \u001b[1;32mnot\u001b[0m \u001b[1;32mNone\u001b[0m\u001b[1;33m\u001b[0m\u001b[1;33m\u001b[0m\u001b[0m\n\u001b[0;32m   1050\u001b[0m \u001b[1;33m\u001b[0m\u001b[0m\n\u001b[1;32m-> 1051\u001b[1;33m             \u001b[1;32mwhile\u001b[0m \u001b[0mself\u001b[0m\u001b[1;33m.\u001b[0m\u001b[0mdispatch_one_batch\u001b[0m\u001b[1;33m(\u001b[0m\u001b[0miterator\u001b[0m\u001b[1;33m)\u001b[0m\u001b[1;33m:\u001b[0m\u001b[1;33m\u001b[0m\u001b[1;33m\u001b[0m\u001b[0m\n\u001b[0m\u001b[0;32m   1052\u001b[0m                 \u001b[1;32mpass\u001b[0m\u001b[1;33m\u001b[0m\u001b[1;33m\u001b[0m\u001b[0m\n\u001b[0;32m   1053\u001b[0m \u001b[1;33m\u001b[0m\u001b[0m\n",
      "\u001b[1;32mC:\\Anaconda\\envs\\MDA_env\\lib\\site-packages\\joblib\\parallel.py\u001b[0m in \u001b[0;36mdispatch_one_batch\u001b[1;34m(self, iterator)\u001b[0m\n\u001b[0;32m    864\u001b[0m                 \u001b[1;32mreturn\u001b[0m \u001b[1;32mFalse\u001b[0m\u001b[1;33m\u001b[0m\u001b[1;33m\u001b[0m\u001b[0m\n\u001b[0;32m    865\u001b[0m             \u001b[1;32melse\u001b[0m\u001b[1;33m:\u001b[0m\u001b[1;33m\u001b[0m\u001b[1;33m\u001b[0m\u001b[0m\n\u001b[1;32m--> 866\u001b[1;33m                 \u001b[0mself\u001b[0m\u001b[1;33m.\u001b[0m\u001b[0m_dispatch\u001b[0m\u001b[1;33m(\u001b[0m\u001b[0mtasks\u001b[0m\u001b[1;33m)\u001b[0m\u001b[1;33m\u001b[0m\u001b[1;33m\u001b[0m\u001b[0m\n\u001b[0m\u001b[0;32m    867\u001b[0m                 \u001b[1;32mreturn\u001b[0m \u001b[1;32mTrue\u001b[0m\u001b[1;33m\u001b[0m\u001b[1;33m\u001b[0m\u001b[0m\n\u001b[0;32m    868\u001b[0m \u001b[1;33m\u001b[0m\u001b[0m\n",
      "\u001b[1;32mC:\\Anaconda\\envs\\MDA_env\\lib\\site-packages\\joblib\\parallel.py\u001b[0m in \u001b[0;36m_dispatch\u001b[1;34m(self, batch)\u001b[0m\n\u001b[0;32m    782\u001b[0m         \u001b[1;32mwith\u001b[0m \u001b[0mself\u001b[0m\u001b[1;33m.\u001b[0m\u001b[0m_lock\u001b[0m\u001b[1;33m:\u001b[0m\u001b[1;33m\u001b[0m\u001b[1;33m\u001b[0m\u001b[0m\n\u001b[0;32m    783\u001b[0m             \u001b[0mjob_idx\u001b[0m \u001b[1;33m=\u001b[0m \u001b[0mlen\u001b[0m\u001b[1;33m(\u001b[0m\u001b[0mself\u001b[0m\u001b[1;33m.\u001b[0m\u001b[0m_jobs\u001b[0m\u001b[1;33m)\u001b[0m\u001b[1;33m\u001b[0m\u001b[1;33m\u001b[0m\u001b[0m\n\u001b[1;32m--> 784\u001b[1;33m             \u001b[0mjob\u001b[0m \u001b[1;33m=\u001b[0m \u001b[0mself\u001b[0m\u001b[1;33m.\u001b[0m\u001b[0m_backend\u001b[0m\u001b[1;33m.\u001b[0m\u001b[0mapply_async\u001b[0m\u001b[1;33m(\u001b[0m\u001b[0mbatch\u001b[0m\u001b[1;33m,\u001b[0m \u001b[0mcallback\u001b[0m\u001b[1;33m=\u001b[0m\u001b[0mcb\u001b[0m\u001b[1;33m)\u001b[0m\u001b[1;33m\u001b[0m\u001b[1;33m\u001b[0m\u001b[0m\n\u001b[0m\u001b[0;32m    785\u001b[0m             \u001b[1;31m# A job can complete so quickly than its callback is\u001b[0m\u001b[1;33m\u001b[0m\u001b[1;33m\u001b[0m\u001b[1;33m\u001b[0m\u001b[0m\n\u001b[0;32m    786\u001b[0m             \u001b[1;31m# called before we get here, causing self._jobs to\u001b[0m\u001b[1;33m\u001b[0m\u001b[1;33m\u001b[0m\u001b[1;33m\u001b[0m\u001b[0m\n",
      "\u001b[1;32mC:\\Anaconda\\envs\\MDA_env\\lib\\site-packages\\joblib\\_parallel_backends.py\u001b[0m in \u001b[0;36mapply_async\u001b[1;34m(self, func, callback)\u001b[0m\n\u001b[0;32m    206\u001b[0m     \u001b[1;32mdef\u001b[0m \u001b[0mapply_async\u001b[0m\u001b[1;33m(\u001b[0m\u001b[0mself\u001b[0m\u001b[1;33m,\u001b[0m \u001b[0mfunc\u001b[0m\u001b[1;33m,\u001b[0m \u001b[0mcallback\u001b[0m\u001b[1;33m=\u001b[0m\u001b[1;32mNone\u001b[0m\u001b[1;33m)\u001b[0m\u001b[1;33m:\u001b[0m\u001b[1;33m\u001b[0m\u001b[1;33m\u001b[0m\u001b[0m\n\u001b[0;32m    207\u001b[0m         \u001b[1;34m\"\"\"Schedule a func to be run\"\"\"\u001b[0m\u001b[1;33m\u001b[0m\u001b[1;33m\u001b[0m\u001b[0m\n\u001b[1;32m--> 208\u001b[1;33m         \u001b[0mresult\u001b[0m \u001b[1;33m=\u001b[0m \u001b[0mImmediateResult\u001b[0m\u001b[1;33m(\u001b[0m\u001b[0mfunc\u001b[0m\u001b[1;33m)\u001b[0m\u001b[1;33m\u001b[0m\u001b[1;33m\u001b[0m\u001b[0m\n\u001b[0m\u001b[0;32m    209\u001b[0m         \u001b[1;32mif\u001b[0m \u001b[0mcallback\u001b[0m\u001b[1;33m:\u001b[0m\u001b[1;33m\u001b[0m\u001b[1;33m\u001b[0m\u001b[0m\n\u001b[0;32m    210\u001b[0m             \u001b[0mcallback\u001b[0m\u001b[1;33m(\u001b[0m\u001b[0mresult\u001b[0m\u001b[1;33m)\u001b[0m\u001b[1;33m\u001b[0m\u001b[1;33m\u001b[0m\u001b[0m\n",
      "\u001b[1;32mC:\\Anaconda\\envs\\MDA_env\\lib\\site-packages\\joblib\\_parallel_backends.py\u001b[0m in \u001b[0;36m__init__\u001b[1;34m(self, batch)\u001b[0m\n\u001b[0;32m    570\u001b[0m         \u001b[1;31m# Don't delay the application, to avoid keeping the input\u001b[0m\u001b[1;33m\u001b[0m\u001b[1;33m\u001b[0m\u001b[1;33m\u001b[0m\u001b[0m\n\u001b[0;32m    571\u001b[0m         \u001b[1;31m# arguments in memory\u001b[0m\u001b[1;33m\u001b[0m\u001b[1;33m\u001b[0m\u001b[1;33m\u001b[0m\u001b[0m\n\u001b[1;32m--> 572\u001b[1;33m         \u001b[0mself\u001b[0m\u001b[1;33m.\u001b[0m\u001b[0mresults\u001b[0m \u001b[1;33m=\u001b[0m \u001b[0mbatch\u001b[0m\u001b[1;33m(\u001b[0m\u001b[1;33m)\u001b[0m\u001b[1;33m\u001b[0m\u001b[1;33m\u001b[0m\u001b[0m\n\u001b[0m\u001b[0;32m    573\u001b[0m \u001b[1;33m\u001b[0m\u001b[0m\n\u001b[0;32m    574\u001b[0m     \u001b[1;32mdef\u001b[0m \u001b[0mget\u001b[0m\u001b[1;33m(\u001b[0m\u001b[0mself\u001b[0m\u001b[1;33m)\u001b[0m\u001b[1;33m:\u001b[0m\u001b[1;33m\u001b[0m\u001b[1;33m\u001b[0m\u001b[0m\n",
      "\u001b[1;32mC:\\Anaconda\\envs\\MDA_env\\lib\\site-packages\\joblib\\parallel.py\u001b[0m in \u001b[0;36m__call__\u001b[1;34m(self)\u001b[0m\n\u001b[0;32m    260\u001b[0m         \u001b[1;31m# change the default number of processes to -1\u001b[0m\u001b[1;33m\u001b[0m\u001b[1;33m\u001b[0m\u001b[1;33m\u001b[0m\u001b[0m\n\u001b[0;32m    261\u001b[0m         \u001b[1;32mwith\u001b[0m \u001b[0mparallel_backend\u001b[0m\u001b[1;33m(\u001b[0m\u001b[0mself\u001b[0m\u001b[1;33m.\u001b[0m\u001b[0m_backend\u001b[0m\u001b[1;33m,\u001b[0m \u001b[0mn_jobs\u001b[0m\u001b[1;33m=\u001b[0m\u001b[0mself\u001b[0m\u001b[1;33m.\u001b[0m\u001b[0m_n_jobs\u001b[0m\u001b[1;33m)\u001b[0m\u001b[1;33m:\u001b[0m\u001b[1;33m\u001b[0m\u001b[1;33m\u001b[0m\u001b[0m\n\u001b[1;32m--> 262\u001b[1;33m             return [func(*args, **kwargs)\n\u001b[0m\u001b[0;32m    263\u001b[0m                     for func, args, kwargs in self.items]\n\u001b[0;32m    264\u001b[0m \u001b[1;33m\u001b[0m\u001b[0m\n",
      "\u001b[1;32mC:\\Anaconda\\envs\\MDA_env\\lib\\site-packages\\joblib\\parallel.py\u001b[0m in \u001b[0;36m<listcomp>\u001b[1;34m(.0)\u001b[0m\n\u001b[0;32m    260\u001b[0m         \u001b[1;31m# change the default number of processes to -1\u001b[0m\u001b[1;33m\u001b[0m\u001b[1;33m\u001b[0m\u001b[1;33m\u001b[0m\u001b[0m\n\u001b[0;32m    261\u001b[0m         \u001b[1;32mwith\u001b[0m \u001b[0mparallel_backend\u001b[0m\u001b[1;33m(\u001b[0m\u001b[0mself\u001b[0m\u001b[1;33m.\u001b[0m\u001b[0m_backend\u001b[0m\u001b[1;33m,\u001b[0m \u001b[0mn_jobs\u001b[0m\u001b[1;33m=\u001b[0m\u001b[0mself\u001b[0m\u001b[1;33m.\u001b[0m\u001b[0m_n_jobs\u001b[0m\u001b[1;33m)\u001b[0m\u001b[1;33m:\u001b[0m\u001b[1;33m\u001b[0m\u001b[1;33m\u001b[0m\u001b[0m\n\u001b[1;32m--> 262\u001b[1;33m             return [func(*args, **kwargs)\n\u001b[0m\u001b[0;32m    263\u001b[0m                     for func, args, kwargs in self.items]\n\u001b[0;32m    264\u001b[0m \u001b[1;33m\u001b[0m\u001b[0m\n",
      "\u001b[1;32mC:\\Anaconda\\envs\\MDA_env\\lib\\site-packages\\sklearn\\model_selection\\_validation.py\u001b[0m in \u001b[0;36m_fit_and_score\u001b[1;34m(estimator, X, y, scorer, train, test, verbose, parameters, fit_params, return_train_score, return_parameters, return_n_test_samples, return_times, return_estimator, error_score)\u001b[0m\n\u001b[0;32m    558\u001b[0m     \u001b[1;32melse\u001b[0m\u001b[1;33m:\u001b[0m\u001b[1;33m\u001b[0m\u001b[1;33m\u001b[0m\u001b[0m\n\u001b[0;32m    559\u001b[0m         \u001b[0mfit_time\u001b[0m \u001b[1;33m=\u001b[0m \u001b[0mtime\u001b[0m\u001b[1;33m.\u001b[0m\u001b[0mtime\u001b[0m\u001b[1;33m(\u001b[0m\u001b[1;33m)\u001b[0m \u001b[1;33m-\u001b[0m \u001b[0mstart_time\u001b[0m\u001b[1;33m\u001b[0m\u001b[1;33m\u001b[0m\u001b[0m\n\u001b[1;32m--> 560\u001b[1;33m         \u001b[0mtest_scores\u001b[0m \u001b[1;33m=\u001b[0m \u001b[0m_score\u001b[0m\u001b[1;33m(\u001b[0m\u001b[0mestimator\u001b[0m\u001b[1;33m,\u001b[0m \u001b[0mX_test\u001b[0m\u001b[1;33m,\u001b[0m \u001b[0my_test\u001b[0m\u001b[1;33m,\u001b[0m \u001b[0mscorer\u001b[0m\u001b[1;33m)\u001b[0m\u001b[1;33m\u001b[0m\u001b[1;33m\u001b[0m\u001b[0m\n\u001b[0m\u001b[0;32m    561\u001b[0m         \u001b[0mscore_time\u001b[0m \u001b[1;33m=\u001b[0m \u001b[0mtime\u001b[0m\u001b[1;33m.\u001b[0m\u001b[0mtime\u001b[0m\u001b[1;33m(\u001b[0m\u001b[1;33m)\u001b[0m \u001b[1;33m-\u001b[0m \u001b[0mstart_time\u001b[0m \u001b[1;33m-\u001b[0m \u001b[0mfit_time\u001b[0m\u001b[1;33m\u001b[0m\u001b[1;33m\u001b[0m\u001b[0m\n\u001b[0;32m    562\u001b[0m         \u001b[1;32mif\u001b[0m \u001b[0mreturn_train_score\u001b[0m\u001b[1;33m:\u001b[0m\u001b[1;33m\u001b[0m\u001b[1;33m\u001b[0m\u001b[0m\n",
      "\u001b[1;32mC:\\Anaconda\\envs\\MDA_env\\lib\\site-packages\\sklearn\\model_selection\\_validation.py\u001b[0m in \u001b[0;36m_score\u001b[1;34m(estimator, X_test, y_test, scorer)\u001b[0m\n\u001b[0;32m    605\u001b[0m         \u001b[0mscores\u001b[0m \u001b[1;33m=\u001b[0m \u001b[0mscorer\u001b[0m\u001b[1;33m(\u001b[0m\u001b[0mestimator\u001b[0m\u001b[1;33m,\u001b[0m \u001b[0mX_test\u001b[0m\u001b[1;33m)\u001b[0m\u001b[1;33m\u001b[0m\u001b[1;33m\u001b[0m\u001b[0m\n\u001b[0;32m    606\u001b[0m     \u001b[1;32melse\u001b[0m\u001b[1;33m:\u001b[0m\u001b[1;33m\u001b[0m\u001b[1;33m\u001b[0m\u001b[0m\n\u001b[1;32m--> 607\u001b[1;33m         \u001b[0mscores\u001b[0m \u001b[1;33m=\u001b[0m \u001b[0mscorer\u001b[0m\u001b[1;33m(\u001b[0m\u001b[0mestimator\u001b[0m\u001b[1;33m,\u001b[0m \u001b[0mX_test\u001b[0m\u001b[1;33m,\u001b[0m \u001b[0my_test\u001b[0m\u001b[1;33m)\u001b[0m\u001b[1;33m\u001b[0m\u001b[1;33m\u001b[0m\u001b[0m\n\u001b[0m\u001b[0;32m    608\u001b[0m \u001b[1;33m\u001b[0m\u001b[0m\n\u001b[0;32m    609\u001b[0m     error_msg = (\"scoring must return a number, got %s (%s) \"\n",
      "\u001b[1;32mC:\\Anaconda\\envs\\MDA_env\\lib\\site-packages\\sklearn\\metrics\\_scorer.py\u001b[0m in \u001b[0;36m__call__\u001b[1;34m(self, estimator, *args, **kwargs)\u001b[0m\n\u001b[0;32m     88\u001b[0m                                       *args, **kwargs)\n\u001b[0;32m     89\u001b[0m             \u001b[1;32melse\u001b[0m\u001b[1;33m:\u001b[0m\u001b[1;33m\u001b[0m\u001b[1;33m\u001b[0m\u001b[0m\n\u001b[1;32m---> 90\u001b[1;33m                 \u001b[0mscore\u001b[0m \u001b[1;33m=\u001b[0m \u001b[0mscorer\u001b[0m\u001b[1;33m(\u001b[0m\u001b[0mestimator\u001b[0m\u001b[1;33m,\u001b[0m \u001b[1;33m*\u001b[0m\u001b[0margs\u001b[0m\u001b[1;33m,\u001b[0m \u001b[1;33m**\u001b[0m\u001b[0mkwargs\u001b[0m\u001b[1;33m)\u001b[0m\u001b[1;33m\u001b[0m\u001b[1;33m\u001b[0m\u001b[0m\n\u001b[0m\u001b[0;32m     91\u001b[0m             \u001b[0mscores\u001b[0m\u001b[1;33m[\u001b[0m\u001b[0mname\u001b[0m\u001b[1;33m]\u001b[0m \u001b[1;33m=\u001b[0m \u001b[0mscore\u001b[0m\u001b[1;33m\u001b[0m\u001b[1;33m\u001b[0m\u001b[0m\n\u001b[0;32m     92\u001b[0m         \u001b[1;32mreturn\u001b[0m \u001b[0mscores\u001b[0m\u001b[1;33m\u001b[0m\u001b[1;33m\u001b[0m\u001b[0m\n",
      "\u001b[1;32mC:\\Anaconda\\envs\\MDA_env\\lib\\site-packages\\sklearn\\metrics\\_scorer.py\u001b[0m in \u001b[0;36m_passthrough_scorer\u001b[1;34m(estimator, *args, **kwargs)\u001b[0m\n\u001b[0;32m    370\u001b[0m \u001b[1;32mdef\u001b[0m \u001b[0m_passthrough_scorer\u001b[0m\u001b[1;33m(\u001b[0m\u001b[0mestimator\u001b[0m\u001b[1;33m,\u001b[0m \u001b[1;33m*\u001b[0m\u001b[0margs\u001b[0m\u001b[1;33m,\u001b[0m \u001b[1;33m**\u001b[0m\u001b[0mkwargs\u001b[0m\u001b[1;33m)\u001b[0m\u001b[1;33m:\u001b[0m\u001b[1;33m\u001b[0m\u001b[1;33m\u001b[0m\u001b[0m\n\u001b[0;32m    371\u001b[0m     \u001b[1;34m\"\"\"Function that wraps estimator.score\"\"\"\u001b[0m\u001b[1;33m\u001b[0m\u001b[1;33m\u001b[0m\u001b[0m\n\u001b[1;32m--> 372\u001b[1;33m     \u001b[1;32mreturn\u001b[0m \u001b[0mestimator\u001b[0m\u001b[1;33m.\u001b[0m\u001b[0mscore\u001b[0m\u001b[1;33m(\u001b[0m\u001b[1;33m*\u001b[0m\u001b[0margs\u001b[0m\u001b[1;33m,\u001b[0m \u001b[1;33m**\u001b[0m\u001b[0mkwargs\u001b[0m\u001b[1;33m)\u001b[0m\u001b[1;33m\u001b[0m\u001b[1;33m\u001b[0m\u001b[0m\n\u001b[0m\u001b[0;32m    373\u001b[0m \u001b[1;33m\u001b[0m\u001b[0m\n\u001b[0;32m    374\u001b[0m \u001b[1;33m\u001b[0m\u001b[0m\n",
      "\u001b[1;32mC:\\Anaconda\\envs\\MDA_env\\lib\\site-packages\\sklearn\\utils\\metaestimators.py\u001b[0m in \u001b[0;36m<lambda>\u001b[1;34m(*args, **kwargs)\u001b[0m\n\u001b[0;32m    117\u001b[0m \u001b[1;33m\u001b[0m\u001b[0m\n\u001b[0;32m    118\u001b[0m         \u001b[1;31m# lambda, but not partial, allows help() to work with update_wrapper\u001b[0m\u001b[1;33m\u001b[0m\u001b[1;33m\u001b[0m\u001b[1;33m\u001b[0m\u001b[0m\n\u001b[1;32m--> 119\u001b[1;33m         \u001b[0mout\u001b[0m \u001b[1;33m=\u001b[0m \u001b[1;32mlambda\u001b[0m \u001b[1;33m*\u001b[0m\u001b[0margs\u001b[0m\u001b[1;33m,\u001b[0m \u001b[1;33m**\u001b[0m\u001b[0mkwargs\u001b[0m\u001b[1;33m:\u001b[0m \u001b[0mself\u001b[0m\u001b[1;33m.\u001b[0m\u001b[0mfn\u001b[0m\u001b[1;33m(\u001b[0m\u001b[0mobj\u001b[0m\u001b[1;33m,\u001b[0m \u001b[1;33m*\u001b[0m\u001b[0margs\u001b[0m\u001b[1;33m,\u001b[0m \u001b[1;33m**\u001b[0m\u001b[0mkwargs\u001b[0m\u001b[1;33m)\u001b[0m\u001b[1;33m\u001b[0m\u001b[1;33m\u001b[0m\u001b[0m\n\u001b[0m\u001b[0;32m    120\u001b[0m         \u001b[1;31m# update the docstring of the returned function\u001b[0m\u001b[1;33m\u001b[0m\u001b[1;33m\u001b[0m\u001b[1;33m\u001b[0m\u001b[0m\n\u001b[0;32m    121\u001b[0m         \u001b[0mupdate_wrapper\u001b[0m\u001b[1;33m(\u001b[0m\u001b[0mout\u001b[0m\u001b[1;33m,\u001b[0m \u001b[0mself\u001b[0m\u001b[1;33m.\u001b[0m\u001b[0mfn\u001b[0m\u001b[1;33m)\u001b[0m\u001b[1;33m\u001b[0m\u001b[1;33m\u001b[0m\u001b[0m\n",
      "\u001b[1;32mC:\\Anaconda\\envs\\MDA_env\\lib\\site-packages\\sklearn\\pipeline.py\u001b[0m in \u001b[0;36mscore\u001b[1;34m(self, X, y, sample_weight)\u001b[0m\n\u001b[0;32m    605\u001b[0m         \u001b[0mXt\u001b[0m \u001b[1;33m=\u001b[0m \u001b[0mX\u001b[0m\u001b[1;33m\u001b[0m\u001b[1;33m\u001b[0m\u001b[0m\n\u001b[0;32m    606\u001b[0m         \u001b[1;32mfor\u001b[0m \u001b[0m_\u001b[0m\u001b[1;33m,\u001b[0m \u001b[0mname\u001b[0m\u001b[1;33m,\u001b[0m \u001b[0mtransform\u001b[0m \u001b[1;32min\u001b[0m \u001b[0mself\u001b[0m\u001b[1;33m.\u001b[0m\u001b[0m_iter\u001b[0m\u001b[1;33m(\u001b[0m\u001b[0mwith_final\u001b[0m\u001b[1;33m=\u001b[0m\u001b[1;32mFalse\u001b[0m\u001b[1;33m)\u001b[0m\u001b[1;33m:\u001b[0m\u001b[1;33m\u001b[0m\u001b[1;33m\u001b[0m\u001b[0m\n\u001b[1;32m--> 607\u001b[1;33m             \u001b[0mXt\u001b[0m \u001b[1;33m=\u001b[0m \u001b[0mtransform\u001b[0m\u001b[1;33m.\u001b[0m\u001b[0mtransform\u001b[0m\u001b[1;33m(\u001b[0m\u001b[0mXt\u001b[0m\u001b[1;33m)\u001b[0m\u001b[1;33m\u001b[0m\u001b[1;33m\u001b[0m\u001b[0m\n\u001b[0m\u001b[0;32m    608\u001b[0m         \u001b[0mscore_params\u001b[0m \u001b[1;33m=\u001b[0m \u001b[1;33m{\u001b[0m\u001b[1;33m}\u001b[0m\u001b[1;33m\u001b[0m\u001b[1;33m\u001b[0m\u001b[0m\n\u001b[0;32m    609\u001b[0m         \u001b[1;32mif\u001b[0m \u001b[0msample_weight\u001b[0m \u001b[1;32mis\u001b[0m \u001b[1;32mnot\u001b[0m \u001b[1;32mNone\u001b[0m\u001b[1;33m:\u001b[0m\u001b[1;33m\u001b[0m\u001b[1;33m\u001b[0m\u001b[0m\n",
      "\u001b[1;32mC:\\Anaconda\\envs\\MDA_env\\lib\\site-packages\\sklearn\\preprocessing\\_data.py\u001b[0m in \u001b[0;36mtransform\u001b[1;34m(self, X)\u001b[0m\n\u001b[0;32m   1248\u001b[0m         \"\"\"\n\u001b[0;32m   1249\u001b[0m         \u001b[0mcheck_is_fitted\u001b[0m\u001b[1;33m(\u001b[0m\u001b[0mself\u001b[0m\u001b[1;33m)\u001b[0m\u001b[1;33m\u001b[0m\u001b[1;33m\u001b[0m\u001b[0m\n\u001b[1;32m-> 1250\u001b[1;33m         X = check_array(X, accept_sparse=('csr', 'csc'), copy=self.copy,\n\u001b[0m\u001b[0;32m   1251\u001b[0m                         \u001b[0mestimator\u001b[0m\u001b[1;33m=\u001b[0m\u001b[0mself\u001b[0m\u001b[1;33m,\u001b[0m \u001b[0mdtype\u001b[0m\u001b[1;33m=\u001b[0m\u001b[0mFLOAT_DTYPES\u001b[0m\u001b[1;33m,\u001b[0m\u001b[1;33m\u001b[0m\u001b[1;33m\u001b[0m\u001b[0m\n\u001b[0;32m   1252\u001b[0m                         force_all_finite='allow-nan')\n",
      "\u001b[1;32mC:\\Anaconda\\envs\\MDA_env\\lib\\site-packages\\sklearn\\utils\\validation.py\u001b[0m in \u001b[0;36minner_f\u001b[1;34m(*args, **kwargs)\u001b[0m\n\u001b[0;32m     71\u001b[0m                           FutureWarning)\n\u001b[0;32m     72\u001b[0m         \u001b[0mkwargs\u001b[0m\u001b[1;33m.\u001b[0m\u001b[0mupdate\u001b[0m\u001b[1;33m(\u001b[0m\u001b[1;33m{\u001b[0m\u001b[0mk\u001b[0m\u001b[1;33m:\u001b[0m \u001b[0marg\u001b[0m \u001b[1;32mfor\u001b[0m \u001b[0mk\u001b[0m\u001b[1;33m,\u001b[0m \u001b[0marg\u001b[0m \u001b[1;32min\u001b[0m \u001b[0mzip\u001b[0m\u001b[1;33m(\u001b[0m\u001b[0msig\u001b[0m\u001b[1;33m.\u001b[0m\u001b[0mparameters\u001b[0m\u001b[1;33m,\u001b[0m \u001b[0margs\u001b[0m\u001b[1;33m)\u001b[0m\u001b[1;33m}\u001b[0m\u001b[1;33m)\u001b[0m\u001b[1;33m\u001b[0m\u001b[1;33m\u001b[0m\u001b[0m\n\u001b[1;32m---> 73\u001b[1;33m         \u001b[1;32mreturn\u001b[0m \u001b[0mf\u001b[0m\u001b[1;33m(\u001b[0m\u001b[1;33m**\u001b[0m\u001b[0mkwargs\u001b[0m\u001b[1;33m)\u001b[0m\u001b[1;33m\u001b[0m\u001b[1;33m\u001b[0m\u001b[0m\n\u001b[0m\u001b[0;32m     74\u001b[0m     \u001b[1;32mreturn\u001b[0m \u001b[0minner_f\u001b[0m\u001b[1;33m\u001b[0m\u001b[1;33m\u001b[0m\u001b[0m\n\u001b[0;32m     75\u001b[0m \u001b[1;33m\u001b[0m\u001b[0m\n",
      "\u001b[1;32mC:\\Anaconda\\envs\\MDA_env\\lib\\site-packages\\sklearn\\utils\\validation.py\u001b[0m in \u001b[0;36mcheck_array\u001b[1;34m(array, accept_sparse, accept_large_sparse, dtype, order, copy, force_all_finite, ensure_2d, allow_nd, ensure_min_samples, ensure_min_features, estimator)\u001b[0m\n\u001b[0;32m    500\u001b[0m     \u001b[0mdtypes_orig\u001b[0m \u001b[1;33m=\u001b[0m \u001b[1;32mNone\u001b[0m\u001b[1;33m\u001b[0m\u001b[1;33m\u001b[0m\u001b[0m\n\u001b[0;32m    501\u001b[0m     \u001b[0mhas_pd_integer_array\u001b[0m \u001b[1;33m=\u001b[0m \u001b[1;32mFalse\u001b[0m\u001b[1;33m\u001b[0m\u001b[1;33m\u001b[0m\u001b[0m\n\u001b[1;32m--> 502\u001b[1;33m     \u001b[1;32mif\u001b[0m \u001b[0mhasattr\u001b[0m\u001b[1;33m(\u001b[0m\u001b[0marray\u001b[0m\u001b[1;33m,\u001b[0m \u001b[1;34m\"dtypes\"\u001b[0m\u001b[1;33m)\u001b[0m \u001b[1;32mand\u001b[0m \u001b[0mhasattr\u001b[0m\u001b[1;33m(\u001b[0m\u001b[0marray\u001b[0m\u001b[1;33m.\u001b[0m\u001b[0mdtypes\u001b[0m\u001b[1;33m,\u001b[0m \u001b[1;34m'__array__'\u001b[0m\u001b[1;33m)\u001b[0m\u001b[1;33m:\u001b[0m\u001b[1;33m\u001b[0m\u001b[1;33m\u001b[0m\u001b[0m\n\u001b[0m\u001b[0;32m    503\u001b[0m         \u001b[1;31m# throw warning if columns are sparse. If all columns are sparse, then\u001b[0m\u001b[1;33m\u001b[0m\u001b[1;33m\u001b[0m\u001b[1;33m\u001b[0m\u001b[0m\n\u001b[0;32m    504\u001b[0m         \u001b[1;31m# array.sparse exists and sparsity will be perserved (later).\u001b[0m\u001b[1;33m\u001b[0m\u001b[1;33m\u001b[0m\u001b[1;33m\u001b[0m\u001b[0m\n",
      "\u001b[1;32mC:\\Anaconda\\envs\\MDA_env\\lib\\site-packages\\pandas\\core\\generic.py\u001b[0m in \u001b[0;36mdtypes\u001b[1;34m(self)\u001b[0m\n\u001b[0;32m   5376\u001b[0m         \u001b[0mdtype\u001b[0m\u001b[1;33m:\u001b[0m \u001b[0mobject\u001b[0m\u001b[1;33m\u001b[0m\u001b[1;33m\u001b[0m\u001b[0m\n\u001b[0;32m   5377\u001b[0m         \"\"\"\n\u001b[1;32m-> 5378\u001b[1;33m         \u001b[0mdata\u001b[0m \u001b[1;33m=\u001b[0m \u001b[0mself\u001b[0m\u001b[1;33m.\u001b[0m\u001b[0m_mgr\u001b[0m\u001b[1;33m.\u001b[0m\u001b[0mget_dtypes\u001b[0m\u001b[1;33m(\u001b[0m\u001b[1;33m)\u001b[0m\u001b[1;33m\u001b[0m\u001b[1;33m\u001b[0m\u001b[0m\n\u001b[0m\u001b[0;32m   5379\u001b[0m         \u001b[1;32mreturn\u001b[0m \u001b[0mself\u001b[0m\u001b[1;33m.\u001b[0m\u001b[0m_constructor_sliced\u001b[0m\u001b[1;33m(\u001b[0m\u001b[0mdata\u001b[0m\u001b[1;33m,\u001b[0m \u001b[0mindex\u001b[0m\u001b[1;33m=\u001b[0m\u001b[0mself\u001b[0m\u001b[1;33m.\u001b[0m\u001b[0m_info_axis\u001b[0m\u001b[1;33m,\u001b[0m \u001b[0mdtype\u001b[0m\u001b[1;33m=\u001b[0m\u001b[0mnp\u001b[0m\u001b[1;33m.\u001b[0m\u001b[0mobject_\u001b[0m\u001b[1;33m)\u001b[0m\u001b[1;33m\u001b[0m\u001b[1;33m\u001b[0m\u001b[0m\n\u001b[0;32m   5380\u001b[0m \u001b[1;33m\u001b[0m\u001b[0m\n",
      "\u001b[1;32mC:\\Anaconda\\envs\\MDA_env\\lib\\site-packages\\pandas\\core\\internals\\managers.py\u001b[0m in \u001b[0;36mget_dtypes\u001b[1;34m(self)\u001b[0m\n\u001b[0;32m    263\u001b[0m     \u001b[1;32mdef\u001b[0m \u001b[0mget_dtypes\u001b[0m\u001b[1;33m(\u001b[0m\u001b[0mself\u001b[0m\u001b[1;33m)\u001b[0m\u001b[1;33m:\u001b[0m\u001b[1;33m\u001b[0m\u001b[1;33m\u001b[0m\u001b[0m\n\u001b[0;32m    264\u001b[0m         \u001b[0mdtypes\u001b[0m \u001b[1;33m=\u001b[0m \u001b[0mnp\u001b[0m\u001b[1;33m.\u001b[0m\u001b[0marray\u001b[0m\u001b[1;33m(\u001b[0m\u001b[1;33m[\u001b[0m\u001b[0mblk\u001b[0m\u001b[1;33m.\u001b[0m\u001b[0mdtype\u001b[0m \u001b[1;32mfor\u001b[0m \u001b[0mblk\u001b[0m \u001b[1;32min\u001b[0m \u001b[0mself\u001b[0m\u001b[1;33m.\u001b[0m\u001b[0mblocks\u001b[0m\u001b[1;33m]\u001b[0m\u001b[1;33m)\u001b[0m\u001b[1;33m\u001b[0m\u001b[1;33m\u001b[0m\u001b[0m\n\u001b[1;32m--> 265\u001b[1;33m         \u001b[1;32mreturn\u001b[0m \u001b[0malgos\u001b[0m\u001b[1;33m.\u001b[0m\u001b[0mtake_1d\u001b[0m\u001b[1;33m(\u001b[0m\u001b[0mdtypes\u001b[0m\u001b[1;33m,\u001b[0m \u001b[0mself\u001b[0m\u001b[1;33m.\u001b[0m\u001b[0mblknos\u001b[0m\u001b[1;33m,\u001b[0m \u001b[0mallow_fill\u001b[0m\u001b[1;33m=\u001b[0m\u001b[1;32mFalse\u001b[0m\u001b[1;33m)\u001b[0m\u001b[1;33m\u001b[0m\u001b[1;33m\u001b[0m\u001b[0m\n\u001b[0m\u001b[0;32m    266\u001b[0m \u001b[1;33m\u001b[0m\u001b[0m\n\u001b[0;32m    267\u001b[0m     \u001b[1;32mdef\u001b[0m \u001b[0m__getstate__\u001b[0m\u001b[1;33m(\u001b[0m\u001b[0mself\u001b[0m\u001b[1;33m)\u001b[0m\u001b[1;33m:\u001b[0m\u001b[1;33m\u001b[0m\u001b[1;33m\u001b[0m\u001b[0m\n",
      "\u001b[1;32mC:\\Anaconda\\envs\\MDA_env\\lib\\site-packages\\pandas\\core\\internals\\managers.py\u001b[0m in \u001b[0;36mblknos\u001b[1;34m(self)\u001b[0m\n\u001b[0;32m    173\u001b[0m         \u001b[1;32mif\u001b[0m \u001b[0mself\u001b[0m\u001b[1;33m.\u001b[0m\u001b[0m_blknos\u001b[0m \u001b[1;32mis\u001b[0m \u001b[1;32mNone\u001b[0m\u001b[1;33m:\u001b[0m\u001b[1;33m\u001b[0m\u001b[1;33m\u001b[0m\u001b[0m\n\u001b[0;32m    174\u001b[0m             \u001b[1;31m# Note: these can be altered by other BlockManager methods.\u001b[0m\u001b[1;33m\u001b[0m\u001b[1;33m\u001b[0m\u001b[1;33m\u001b[0m\u001b[0m\n\u001b[1;32m--> 175\u001b[1;33m             \u001b[0mself\u001b[0m\u001b[1;33m.\u001b[0m\u001b[0m_rebuild_blknos_and_blklocs\u001b[0m\u001b[1;33m(\u001b[0m\u001b[1;33m)\u001b[0m\u001b[1;33m\u001b[0m\u001b[1;33m\u001b[0m\u001b[0m\n\u001b[0m\u001b[0;32m    176\u001b[0m \u001b[1;33m\u001b[0m\u001b[0m\n\u001b[0;32m    177\u001b[0m         \u001b[1;32mreturn\u001b[0m \u001b[0mself\u001b[0m\u001b[1;33m.\u001b[0m\u001b[0m_blknos\u001b[0m\u001b[1;33m\u001b[0m\u001b[1;33m\u001b[0m\u001b[0m\n",
      "\u001b[1;32mC:\\Anaconda\\envs\\MDA_env\\lib\\site-packages\\pandas\\core\\internals\\managers.py\u001b[0m in \u001b[0;36m_rebuild_blknos_and_blklocs\u001b[1;34m(self)\u001b[0m\n\u001b[0;32m    248\u001b[0m             \u001b[0mrl\u001b[0m \u001b[1;33m=\u001b[0m \u001b[0mblk\u001b[0m\u001b[1;33m.\u001b[0m\u001b[0mmgr_locs\u001b[0m\u001b[1;33m\u001b[0m\u001b[1;33m\u001b[0m\u001b[0m\n\u001b[0;32m    249\u001b[0m             \u001b[0mnew_blknos\u001b[0m\u001b[1;33m[\u001b[0m\u001b[0mrl\u001b[0m\u001b[1;33m.\u001b[0m\u001b[0mindexer\u001b[0m\u001b[1;33m]\u001b[0m \u001b[1;33m=\u001b[0m \u001b[0mblkno\u001b[0m\u001b[1;33m\u001b[0m\u001b[1;33m\u001b[0m\u001b[0m\n\u001b[1;32m--> 250\u001b[1;33m             \u001b[0mnew_blklocs\u001b[0m\u001b[1;33m[\u001b[0m\u001b[0mrl\u001b[0m\u001b[1;33m.\u001b[0m\u001b[0mindexer\u001b[0m\u001b[1;33m]\u001b[0m \u001b[1;33m=\u001b[0m \u001b[0mnp\u001b[0m\u001b[1;33m.\u001b[0m\u001b[0marange\u001b[0m\u001b[1;33m(\u001b[0m\u001b[0mlen\u001b[0m\u001b[1;33m(\u001b[0m\u001b[0mrl\u001b[0m\u001b[1;33m)\u001b[0m\u001b[1;33m)\u001b[0m\u001b[1;33m\u001b[0m\u001b[1;33m\u001b[0m\u001b[0m\n\u001b[0m\u001b[0;32m    251\u001b[0m \u001b[1;33m\u001b[0m\u001b[0m\n\u001b[0;32m    252\u001b[0m         \u001b[1;32mif\u001b[0m \u001b[1;33m(\u001b[0m\u001b[0mnew_blknos\u001b[0m \u001b[1;33m==\u001b[0m \u001b[1;33m-\u001b[0m\u001b[1;36m1\u001b[0m\u001b[1;33m)\u001b[0m\u001b[1;33m.\u001b[0m\u001b[0many\u001b[0m\u001b[1;33m(\u001b[0m\u001b[1;33m)\u001b[0m\u001b[1;33m:\u001b[0m\u001b[1;33m\u001b[0m\u001b[1;33m\u001b[0m\u001b[0m\n",
      "\u001b[1;31mKeyboardInterrupt\u001b[0m: "
     ]
    }
   ],
   "source": [
    "model_select.model_selection()"
   ]
  },
  {
   "cell_type": "code",
   "execution_count": null,
   "metadata": {
    "scrolled": true
   },
   "outputs": [],
   "source": [
    "model_select.models_score"
   ]
  },
  {
   "cell_type": "code",
   "execution_count": 54,
   "metadata": {},
   "outputs": [
    {
     "data": {
      "text/html": [
       "<div>\n",
       "<style scoped>\n",
       "    .dataframe tbody tr th:only-of-type {\n",
       "        vertical-align: middle;\n",
       "    }\n",
       "\n",
       "    .dataframe tbody tr th {\n",
       "        vertical-align: top;\n",
       "    }\n",
       "\n",
       "    .dataframe thead th {\n",
       "        text-align: right;\n",
       "    }\n",
       "</style>\n",
       "<table border=\"1\" class=\"dataframe\">\n",
       "  <thead>\n",
       "    <tr style=\"text-align: right;\">\n",
       "      <th></th>\n",
       "      <th>Variable</th>\n",
       "      <th>Importance</th>\n",
       "    </tr>\n",
       "  </thead>\n",
       "  <tbody>\n",
       "    <tr>\n",
       "      <th>8</th>\n",
       "      <td>CONSTR_RAT</td>\n",
       "      <td>0.124401</td>\n",
       "    </tr>\n",
       "    <tr>\n",
       "      <th>4</th>\n",
       "      <td>PWM_EX_CORE</td>\n",
       "      <td>0.109622</td>\n",
       "    </tr>\n",
       "    <tr>\n",
       "      <th>3</th>\n",
       "      <td>POP_DEN</td>\n",
       "      <td>0.104347</td>\n",
       "    </tr>\n",
       "    <tr>\n",
       "      <th>2</th>\n",
       "      <td>FRAGMENTATION</td>\n",
       "      <td>0.101738</td>\n",
       "    </tr>\n",
       "    <tr>\n",
       "      <th>10</th>\n",
       "      <td>CITY_REL_ROADS</td>\n",
       "      <td>0.100125</td>\n",
       "    </tr>\n",
       "    <tr>\n",
       "      <th>0</th>\n",
       "      <td>URB_AREA</td>\n",
       "      <td>0.092272</td>\n",
       "    </tr>\n",
       "    <tr>\n",
       "      <th>1</th>\n",
       "      <td>URB_AREA_CORE</td>\n",
       "      <td>0.086417</td>\n",
       "    </tr>\n",
       "    <tr>\n",
       "      <th>9</th>\n",
       "      <td>TREECOVER_SHARE_CORE</td>\n",
       "      <td>0.068060</td>\n",
       "    </tr>\n",
       "    <tr>\n",
       "      <th>7</th>\n",
       "      <td>T_Y65_MAX_SH_NAT</td>\n",
       "      <td>0.057400</td>\n",
       "    </tr>\n",
       "    <tr>\n",
       "      <th>5</th>\n",
       "      <td>T_Y0_14_SH_NAT</td>\n",
       "      <td>0.054305</td>\n",
       "    </tr>\n",
       "    <tr>\n",
       "      <th>11</th>\n",
       "      <td>CITY_REL_WATER</td>\n",
       "      <td>0.053276</td>\n",
       "    </tr>\n",
       "    <tr>\n",
       "      <th>6</th>\n",
       "      <td>T_Y15_64_SH_NAT</td>\n",
       "      <td>0.048037</td>\n",
       "    </tr>\n",
       "  </tbody>\n",
       "</table>\n",
       "</div>"
      ],
      "text/plain": [
       "                Variable  Importance\n",
       "8             CONSTR_RAT    0.124401\n",
       "4            PWM_EX_CORE    0.109622\n",
       "3                POP_DEN    0.104347\n",
       "2          FRAGMENTATION    0.101738\n",
       "10        CITY_REL_ROADS    0.100125\n",
       "0               URB_AREA    0.092272\n",
       "1          URB_AREA_CORE    0.086417\n",
       "9   TREECOVER_SHARE_CORE    0.068060\n",
       "7       T_Y65_MAX_SH_NAT    0.057400\n",
       "5         T_Y0_14_SH_NAT    0.054305\n",
       "11        CITY_REL_WATER    0.053276\n",
       "6        T_Y15_64_SH_NAT    0.048037"
      ]
     },
     "execution_count": 54,
     "metadata": {},
     "output_type": "execute_result"
    }
   ],
   "source": [
    "selected_model = RandomForestRegressor(max_depth=15, max_features=2, random_state=0)\n",
    "selected_model.fit(X_train,y_train)\n",
    "pd.DataFrame({'Variable':X_train.columns,\n",
    "              'Importance':selected_model.feature_importances_}).sort_values('Importance', ascending=False)"
   ]
  },
  {
   "cell_type": "code",
   "execution_count": 55,
   "metadata": {},
   "outputs": [
    {
     "data": {
      "text/html": [
       "<div>\n",
       "<style scoped>\n",
       "    .dataframe tbody tr th:only-of-type {\n",
       "        vertical-align: middle;\n",
       "    }\n",
       "\n",
       "    .dataframe tbody tr th {\n",
       "        vertical-align: top;\n",
       "    }\n",
       "\n",
       "    .dataframe thead th {\n",
       "        text-align: right;\n",
       "    }\n",
       "</style>\n",
       "<table border=\"1\" class=\"dataframe\">\n",
       "  <thead>\n",
       "    <tr style=\"text-align: right;\">\n",
       "      <th></th>\n",
       "      <th>Variable</th>\n",
       "      <th>Importance</th>\n",
       "    </tr>\n",
       "  </thead>\n",
       "  <tbody>\n",
       "    <tr>\n",
       "      <th>10</th>\n",
       "      <td>CITY_REL_ROADS</td>\n",
       "      <td>0.147517</td>\n",
       "    </tr>\n",
       "    <tr>\n",
       "      <th>8</th>\n",
       "      <td>CONSTR_RAT</td>\n",
       "      <td>0.107329</td>\n",
       "    </tr>\n",
       "    <tr>\n",
       "      <th>3</th>\n",
       "      <td>POP_DEN</td>\n",
       "      <td>0.095691</td>\n",
       "    </tr>\n",
       "    <tr>\n",
       "      <th>1</th>\n",
       "      <td>URB_AREA_CORE</td>\n",
       "      <td>0.094266</td>\n",
       "    </tr>\n",
       "    <tr>\n",
       "      <th>0</th>\n",
       "      <td>URB_AREA</td>\n",
       "      <td>0.091529</td>\n",
       "    </tr>\n",
       "    <tr>\n",
       "      <th>4</th>\n",
       "      <td>PWM_EX_CORE</td>\n",
       "      <td>0.088681</td>\n",
       "    </tr>\n",
       "    <tr>\n",
       "      <th>11</th>\n",
       "      <td>CITY_REL_WATER</td>\n",
       "      <td>0.085322</td>\n",
       "    </tr>\n",
       "    <tr>\n",
       "      <th>2</th>\n",
       "      <td>FRAGMENTATION</td>\n",
       "      <td>0.082953</td>\n",
       "    </tr>\n",
       "    <tr>\n",
       "      <th>9</th>\n",
       "      <td>TREECOVER_SHARE_CORE</td>\n",
       "      <td>0.058073</td>\n",
       "    </tr>\n",
       "    <tr>\n",
       "      <th>7</th>\n",
       "      <td>T_Y65_MAX_SH_NAT</td>\n",
       "      <td>0.056285</td>\n",
       "    </tr>\n",
       "    <tr>\n",
       "      <th>6</th>\n",
       "      <td>T_Y15_64_SH_NAT</td>\n",
       "      <td>0.048144</td>\n",
       "    </tr>\n",
       "    <tr>\n",
       "      <th>5</th>\n",
       "      <td>T_Y0_14_SH_NAT</td>\n",
       "      <td>0.044210</td>\n",
       "    </tr>\n",
       "  </tbody>\n",
       "</table>\n",
       "</div>"
      ],
      "text/plain": [
       "                Variable  Importance\n",
       "10        CITY_REL_ROADS    0.147517\n",
       "8             CONSTR_RAT    0.107329\n",
       "3                POP_DEN    0.095691\n",
       "1          URB_AREA_CORE    0.094266\n",
       "0               URB_AREA    0.091529\n",
       "4            PWM_EX_CORE    0.088681\n",
       "11        CITY_REL_WATER    0.085322\n",
       "2          FRAGMENTATION    0.082953\n",
       "9   TREECOVER_SHARE_CORE    0.058073\n",
       "7       T_Y65_MAX_SH_NAT    0.056285\n",
       "6        T_Y15_64_SH_NAT    0.048144\n",
       "5         T_Y0_14_SH_NAT    0.044210"
      ]
     },
     "execution_count": 55,
     "metadata": {},
     "output_type": "execute_result"
    }
   ],
   "source": [
    "selected_model1 = RandomForestRegressor(max_depth=15, max_features=2, random_state=0)\n",
    "selected_model1.fit(X_1train,y_1train)\n",
    "pd.DataFrame({'Variable':X_1train.columns,\n",
    "              'Importance':selected_model1.feature_importances_}).sort_values('Importance', ascending=False)"
   ]
  },
  {
   "cell_type": "code",
   "execution_count": null,
   "metadata": {},
   "outputs": [],
   "source": []
  }
 ],
 "metadata": {
  "kernelspec": {
   "display_name": "Python 3",
   "language": "python",
   "name": "python3"
  },
  "language_info": {
   "codemirror_mode": {
    "name": "ipython",
    "version": 3
   },
   "file_extension": ".py",
   "mimetype": "text/x-python",
   "name": "python",
   "nbconvert_exporter": "python",
   "pygments_lexer": "ipython3",
   "version": "3.8.5"
  }
 },
 "nbformat": 4,
 "nbformat_minor": 4
}
