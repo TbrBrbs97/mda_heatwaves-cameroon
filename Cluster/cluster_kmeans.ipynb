{
 "cells": [
  {
   "cell_type": "markdown",
   "id": "52c26efd",
   "metadata": {},
   "source": [
    "# Clustering\n",
    "Cluster analysis is a statistical technique aimed to uncover groups (clusters) of observations that are homogeneous and separated from other groups. For this project, it might be useful to group a large number of cities by the values of their population and the number of yearly cooling days. The group of primary interest is the one that covers cities with the largest number of population and cooling days (the most vulnerable to heat waves). "
   ]
  },
  {
   "cell_type": "code",
   "execution_count": 1,
   "id": "2905e16e",
   "metadata": {},
   "outputs": [],
   "source": [
    "# Import the necesary libraries\n",
    "import pandas as pd\n",
    "import numpy as np\n",
    "from sklearn.cluster import KMeans\n",
    "import matplotlib.pyplot as plt\n",
    "%matplotlib inline\n",
    "import seaborn as sns\n",
    "sns.set()"
   ]
  },
  {
   "cell_type": "code",
   "execution_count": 2,
   "id": "2e958381",
   "metadata": {},
   "outputs": [
    {
     "data": {
      "text/html": [
       "<div>\n",
       "<style scoped>\n",
       "    .dataframe tbody tr th:only-of-type {\n",
       "        vertical-align: middle;\n",
       "    }\n",
       "\n",
       "    .dataframe tbody tr th {\n",
       "        vertical-align: top;\n",
       "    }\n",
       "\n",
       "    .dataframe thead th {\n",
       "        text-align: right;\n",
       "    }\n",
       "</style>\n",
       "<table border=\"1\" class=\"dataframe\">\n",
       "  <thead>\n",
       "    <tr style=\"text-align: right;\">\n",
       "      <th></th>\n",
       "      <th>Unnamed: 0</th>\n",
       "      <th>metroId</th>\n",
       "      <th>CDD</th>\n",
       "      <th>URB_AREA</th>\n",
       "      <th>URB_AREA_CORE</th>\n",
       "      <th>URB_AREA_HINTER</th>\n",
       "      <th>FRAGMENTATION</th>\n",
       "      <th>GDP_PC_REAL_PPP</th>\n",
       "      <th>POP_DEN</th>\n",
       "      <th>POP_TOT_GI</th>\n",
       "      <th>PWM_EX_CORE</th>\n",
       "      <th>T_Y0_14_SH_NAT</th>\n",
       "      <th>T_Y15_64_SH_NAT</th>\n",
       "      <th>T_Y65_MAX_SH_NAT</th>\n",
       "      <th>CONSTR_RAT</th>\n",
       "      <th>TREECOVER_SHARE_CORE</th>\n",
       "    </tr>\n",
       "  </thead>\n",
       "  <tbody>\n",
       "    <tr>\n",
       "      <th>0</th>\n",
       "      <td>0</td>\n",
       "      <td>AT001</td>\n",
       "      <td>-0.456457</td>\n",
       "      <td>0.854794</td>\n",
       "      <td>-0.001510</td>\n",
       "      <td>2.830278</td>\n",
       "      <td>0.469287</td>\n",
       "      <td>0.644314</td>\n",
       "      <td>-0.303298</td>\n",
       "      <td>0.217575</td>\n",
       "      <td>0.177303</td>\n",
       "      <td>4.217221</td>\n",
       "      <td>4.196852</td>\n",
       "      <td>4.354632</td>\n",
       "      <td>-0.166822</td>\n",
       "      <td>-0.159529</td>\n",
       "    </tr>\n",
       "    <tr>\n",
       "      <th>1</th>\n",
       "      <td>1</td>\n",
       "      <td>AT002</td>\n",
       "      <td>-0.514449</td>\n",
       "      <td>-0.126610</td>\n",
       "      <td>-0.313467</td>\n",
       "      <td>0.325363</td>\n",
       "      <td>0.807422</td>\n",
       "      <td>0.408882</td>\n",
       "      <td>-0.472384</td>\n",
       "      <td>0.081780</td>\n",
       "      <td>0.624202</td>\n",
       "      <td>0.583800</td>\n",
       "      <td>0.642118</td>\n",
       "      <td>0.655404</td>\n",
       "      <td>-0.264498</td>\n",
       "      <td>0.324699</td>\n",
       "    </tr>\n",
       "    <tr>\n",
       "      <th>2</th>\n",
       "      <td>2</td>\n",
       "      <td>AT003</td>\n",
       "      <td>-0.514449</td>\n",
       "      <td>-0.221532</td>\n",
       "      <td>-0.344088</td>\n",
       "      <td>0.084398</td>\n",
       "      <td>1.353641</td>\n",
       "      <td>0.630861</td>\n",
       "      <td>-0.522553</td>\n",
       "      <td>-0.357560</td>\n",
       "      <td>0.241146</td>\n",
       "      <td>0.667327</td>\n",
       "      <td>0.614562</td>\n",
       "      <td>0.640666</td>\n",
       "      <td>-0.554939</td>\n",
       "      <td>-0.450963</td>\n",
       "    </tr>\n",
       "  </tbody>\n",
       "</table>\n",
       "</div>"
      ],
      "text/plain": [
       "   Unnamed: 0 metroId       CDD  URB_AREA  URB_AREA_CORE  URB_AREA_HINTER  \\\n",
       "0           0   AT001 -0.456457  0.854794      -0.001510         2.830278   \n",
       "1           1   AT002 -0.514449 -0.126610      -0.313467         0.325363   \n",
       "2           2   AT003 -0.514449 -0.221532      -0.344088         0.084398   \n",
       "\n",
       "   FRAGMENTATION  GDP_PC_REAL_PPP   POP_DEN  POP_TOT_GI  PWM_EX_CORE  \\\n",
       "0       0.469287         0.644314 -0.303298    0.217575     0.177303   \n",
       "1       0.807422         0.408882 -0.472384    0.081780     0.624202   \n",
       "2       1.353641         0.630861 -0.522553   -0.357560     0.241146   \n",
       "\n",
       "   T_Y0_14_SH_NAT  T_Y15_64_SH_NAT  T_Y65_MAX_SH_NAT  CONSTR_RAT  \\\n",
       "0        4.217221         4.196852          4.354632   -0.166822   \n",
       "1        0.583800         0.642118          0.655404   -0.264498   \n",
       "2        0.667327         0.614562          0.640666   -0.554939   \n",
       "\n",
       "   TREECOVER_SHARE_CORE  \n",
       "0             -0.159529  \n",
       "1              0.324699  \n",
       "2             -0.450963  "
      ]
     },
     "execution_count": 2,
     "metadata": {},
     "output_type": "execute_result"
    }
   ],
   "source": [
    "# Read the data from the data.csv file\n",
    "df = pd.read_csv(r'/Users/araij/Desktop/mda_project_cluster/data/MainData_Scaled.csv',sep=\"|\")\n",
    "df.head(3)"
   ]
  },
  {
   "cell_type": "code",
   "execution_count": 3,
   "id": "db56dec4",
   "metadata": {},
   "outputs": [],
   "source": [
    "# Drop the variables Country and City\n",
    "df = df[['POP_TOT_GI','CDD']]"
   ]
  },
  {
   "cell_type": "code",
   "execution_count": 4,
   "id": "e19b0371",
   "metadata": {},
   "outputs": [],
   "source": [
    "# There are rows with missing values for population. Drop the rows with NAs \n",
    "df=df.dropna(axis=0)"
   ]
  },
  {
   "cell_type": "code",
   "execution_count": 5,
   "id": "309cb648",
   "metadata": {},
   "outputs": [],
   "source": [
    "# Convert the data into an array\n",
    "X = df.values"
   ]
  },
  {
   "cell_type": "markdown",
   "id": "b1e265e8",
   "metadata": {},
   "source": [
    "K-means clustering method is applied. The desired number of clusters (k) needs to be specified in advance. The K-means algorithm then assigns each observation to exactly one of the k clusters. The algorithm is run multiple times from different random initial configurations aimed to find the best separated clusters. The K-means algorithm is "
   ]
  },
  {
   "cell_type": "markdown",
   "id": "c2791738",
   "metadata": {},
   "source": [
    "For clustering, the data needs to be standardized given that the variables in the data set have different scales and variances. The dataset has already been standardized by using StandardScaler(). Clusters with centeroids are visualized then on the scatterplot. "
   ]
  },
  {
   "cell_type": "code",
   "execution_count": 6,
   "id": "9fbcff96",
   "metadata": {},
   "outputs": [
    {
     "data": {
      "text/plain": [
       "KMeans(init='random', n_clusters=2, n_init=20, random_state=0)"
      ]
     },
     "execution_count": 6,
     "metadata": {},
     "output_type": "execute_result"
    }
   ],
   "source": [
    "# Initialize Kmeans for 2 clusters and fit it to the data\n",
    "cluster_with_scaling = KMeans(n_clusters=2, n_init=20,init='random',random_state=0)\n",
    "cluster_with_scaling.fit(X)"
   ]
  },
  {
   "cell_type": "code",
   "execution_count": 7,
   "id": "86b5a17f",
   "metadata": {
    "scrolled": true
   },
   "outputs": [
    {
     "data": {
      "image/png": "[encoded data removed]",
      "text/plain": [
       "<Figure size 360x360 with 1 Axes>"
      ]
     },
     "metadata": {},
     "output_type": "display_data"
    }
   ],
   "source": [
    "y=cluster_with_scaling.predict(X)\n",
    "fig,ax = plt.subplots(figsize=(5,5))\n",
    "idx_1 = y==1\n",
    "idx_0 = y==0\n",
    "color_1='blue'\n",
    "color_0 ='red'\n",
    "ax.scatter(X[idx_1,0],X[idx_1,1],s=40,color=color_1,label=None)\n",
    "ax.scatter(X[idx_0,0],X[idx_0,1],s=40,color=color_0,label=None)\n",
    "\n",
    "ax.scatter(cluster_with_scaling.cluster_centers_[:,0],cluster_with_scaling.cluster_centers_[:,1],s=120,\n",
    "           color='k',marker='s',\n",
    "           label='Centroids of the Clusters')\n",
    "\n",
    "ax.set_xlabel('Population')\n",
    "ax.set_ylabel('Cooling Days');\n",
    "ax.legend();"
   ]
  },
  {
   "cell_type": "markdown",
   "id": "f30de381",
   "metadata": {},
   "source": [
    "As seen from the scatterplot, there is a group of cities with population larger than 135 thousands and cooling days larger than 730 days (calculated by using the values of the mean and standard deviation of the dataset before scalling applied). These cities could be susceptible to heat waves and damages associated with heat waves more than cities in other groups.  "
   ]
  }
 ],
 "metadata": {
  "kernelspec": {
   "display_name": "Python 3",
   "language": "python",
   "name": "python3"
  },
  "language_info": {
   "codemirror_mode": {
    "name": "ipython",
    "version": 3
   },
   "file_extension": ".py",
   "mimetype": "text/x-python",
   "name": "python",
   "nbconvert_exporter": "python",
   "pygments_lexer": "ipython3",
   "version": "3.9.4"
  }
 },
 "nbformat": 4,
 "nbformat_minor": 5
}
